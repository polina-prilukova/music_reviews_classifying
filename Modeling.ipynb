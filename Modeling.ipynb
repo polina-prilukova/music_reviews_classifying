{
 "cells": [
  {
   "cell_type": "code",
   "execution_count": 91,
   "id": "07c005b0",
   "metadata": {},
   "outputs": [],
   "source": [
    "import pandas as pd\n",
    "import numpy as np\n",
    "import seaborn as sns \n",
    "\n",
    "import tensorflow as tf\n",
    "import tensorflow_hub as hub\n",
    "import tensorflow_text\n",
    "\n",
    "from tqdm import tqdm \n",
    "\n",
    "from sklearn.model_selection import train_test_split\n",
    "from sklearn.metrics import accuracy_score, classification_report\n",
    "\n",
    "from sklearn.linear_model import LogisticRegression\n",
    "from sklearn.tree import DecisionTreeClassifier\n",
    "from sklearn.ensemble import RandomForestClassifier\n",
    "from sklearn.neighbors import KNeighborsClassifier\n",
    "from sklearn.svm import SVC\n",
    "\n",
    "from imblearn.over_sampling import SMOTE\n",
    "\n",
    "import nltk\n",
    "import pymorphy2\n",
    "import re\n",
    "from nltk.corpus import stopwords"
   ]
  },
  {
   "cell_type": "code",
   "execution_count": 2,
   "id": "06d457ad",
   "metadata": {},
   "outputs": [
    {
     "data": {
      "text/plain": [
       "'2.7.0'"
      ]
     },
     "execution_count": 2,
     "metadata": {},
     "output_type": "execute_result"
    }
   ],
   "source": [
    "tf.__version__"
   ]
  },
  {
   "cell_type": "code",
   "execution_count": 3,
   "id": "d4930de7",
   "metadata": {},
   "outputs": [],
   "source": [
    "import warnings\n",
    "warnings.simplefilter('ignore')"
   ]
  },
  {
   "cell_type": "code",
   "execution_count": 4,
   "id": "f809eb35",
   "metadata": {},
   "outputs": [
    {
     "data": {
      "text/html": [
       "<div>\n",
       "<style scoped>\n",
       "    .dataframe tbody tr th:only-of-type {\n",
       "        vertical-align: middle;\n",
       "    }\n",
       "\n",
       "    .dataframe tbody tr th {\n",
       "        vertical-align: top;\n",
       "    }\n",
       "\n",
       "    .dataframe thead th {\n",
       "        text-align: right;\n",
       "    }\n",
       "</style>\n",
       "<table border=\"1\" class=\"dataframe\">\n",
       "  <thead>\n",
       "    <tr style=\"text-align: right;\">\n",
       "      <th></th>\n",
       "      <th>Unnamed: 0</th>\n",
       "      <th>author</th>\n",
       "      <th>date</th>\n",
       "      <th>product_id</th>\n",
       "      <th>product_name</th>\n",
       "      <th>rate</th>\n",
       "      <th>text</th>\n",
       "    </tr>\n",
       "  </thead>\n",
       "  <tbody>\n",
       "    <tr>\n",
       "      <th>0</th>\n",
       "      <td>0</td>\n",
       "      <td>Егор Гумеров</td>\n",
       "      <td>15.10.2017</td>\n",
       "      <td>888880022374</td>\n",
       "      <td>АКУСТИЧЕСКАЯ ГИТАРА STAGG SA20D RED</td>\n",
       "      <td>4</td>\n",
       "      <td>это мой первый гитара консультант ответить на ...</td>\n",
       "    </tr>\n",
       "    <tr>\n",
       "      <th>1</th>\n",
       "      <td>1</td>\n",
       "      <td>Гость</td>\n",
       "      <td>15.06.2010</td>\n",
       "      <td>888880000341</td>\n",
       "      <td>ПРЕДУСИЛИТЕЛЬ ART USBDUALPRE</td>\n",
       "      <td>3</td>\n",
       "      <td>пожалуйста сказать кто нибыть у кто он есть та...</td>\n",
       "    </tr>\n",
       "    <tr>\n",
       "      <th>2</th>\n",
       "      <td>2</td>\n",
       "      <td>Гость</td>\n",
       "      <td>03.06.2010</td>\n",
       "      <td>888880000341</td>\n",
       "      <td>ПРЕДУСИЛИТЕЛЬ ART USBDUALPRE</td>\n",
       "      <td>5</td>\n",
       "      <td>клёвый вещь ка быть в мск</td>\n",
       "    </tr>\n",
       "    <tr>\n",
       "      <th>3</th>\n",
       "      <td>3</td>\n",
       "      <td>Гость</td>\n",
       "      <td>18.05.2010</td>\n",
       "      <td>888880000341</td>\n",
       "      <td>ПРЕДУСИЛИТЕЛЬ ART USBDUALPRE</td>\n",
       "      <td>3</td>\n",
       "      <td>прийтись снизить оценка так к высниться что по...</td>\n",
       "    </tr>\n",
       "    <tr>\n",
       "      <th>4</th>\n",
       "      <td>4</td>\n",
       "      <td>Гость</td>\n",
       "      <td>18.05.2010</td>\n",
       "      <td>888880000341</td>\n",
       "      <td>ПРЕДУСИЛИТЕЛЬ ART USBDUALPRE</td>\n",
       "      <td>4</td>\n",
       "      <td>под хр сразу не заработать дрова надо везти с ...</td>\n",
       "    </tr>\n",
       "  </tbody>\n",
       "</table>\n",
       "</div>"
      ],
      "text/plain": [
       "   Unnamed: 0        author        date    product_id  \\\n",
       "0           0  Егор Гумеров  15.10.2017  888880022374   \n",
       "1           1         Гость  15.06.2010  888880000341   \n",
       "2           2         Гость  03.06.2010  888880000341   \n",
       "3           3         Гость  18.05.2010  888880000341   \n",
       "4           4         Гость  18.05.2010  888880000341   \n",
       "\n",
       "                          product_name  rate  \\\n",
       "0  АКУСТИЧЕСКАЯ ГИТАРА STAGG SA20D RED     4   \n",
       "1         ПРЕДУСИЛИТЕЛЬ ART USBDUALPRE     3   \n",
       "2         ПРЕДУСИЛИТЕЛЬ ART USBDUALPRE     5   \n",
       "3         ПРЕДУСИЛИТЕЛЬ ART USBDUALPRE     3   \n",
       "4         ПРЕДУСИЛИТЕЛЬ ART USBDUALPRE     4   \n",
       "\n",
       "                                                text  \n",
       "0  это мой первый гитара консультант ответить на ...  \n",
       "1  пожалуйста сказать кто нибыть у кто он есть та...  \n",
       "2                          клёвый вещь ка быть в мск  \n",
       "3  прийтись снизить оценка так к высниться что по...  \n",
       "4  под хр сразу не заработать дрова надо везти с ...  "
      ]
     },
     "execution_count": 4,
     "metadata": {},
     "output_type": "execute_result"
    }
   ],
   "source": [
    "df = pd.read_csv('Data/reviews_preprocessed.csv')\n",
    "df.head()"
   ]
  },
  {
   "cell_type": "code",
   "execution_count": 5,
   "id": "fa0a5dcc",
   "metadata": {},
   "outputs": [
    {
     "data": {
      "text/html": [
       "<div>\n",
       "<style scoped>\n",
       "    .dataframe tbody tr th:only-of-type {\n",
       "        vertical-align: middle;\n",
       "    }\n",
       "\n",
       "    .dataframe tbody tr th {\n",
       "        vertical-align: top;\n",
       "    }\n",
       "\n",
       "    .dataframe thead th {\n",
       "        text-align: right;\n",
       "    }\n",
       "</style>\n",
       "<table border=\"1\" class=\"dataframe\">\n",
       "  <thead>\n",
       "    <tr style=\"text-align: right;\">\n",
       "      <th></th>\n",
       "      <th>author</th>\n",
       "      <th>date</th>\n",
       "      <th>product_id</th>\n",
       "      <th>product_name</th>\n",
       "      <th>rate</th>\n",
       "      <th>text</th>\n",
       "    </tr>\n",
       "  </thead>\n",
       "  <tbody>\n",
       "    <tr>\n",
       "      <th>0</th>\n",
       "      <td>Егор Гумеров</td>\n",
       "      <td>15.10.2017</td>\n",
       "      <td>888880022374</td>\n",
       "      <td>АКУСТИЧЕСКАЯ ГИТАРА STAGG SA20D RED</td>\n",
       "      <td>4</td>\n",
       "      <td>это мой первый гитара консультант ответить на ...</td>\n",
       "    </tr>\n",
       "    <tr>\n",
       "      <th>1</th>\n",
       "      <td>Гость</td>\n",
       "      <td>15.06.2010</td>\n",
       "      <td>888880000341</td>\n",
       "      <td>ПРЕДУСИЛИТЕЛЬ ART USBDUALPRE</td>\n",
       "      <td>3</td>\n",
       "      <td>пожалуйста сказать кто нибыть у кто он есть та...</td>\n",
       "    </tr>\n",
       "    <tr>\n",
       "      <th>2</th>\n",
       "      <td>Гость</td>\n",
       "      <td>03.06.2010</td>\n",
       "      <td>888880000341</td>\n",
       "      <td>ПРЕДУСИЛИТЕЛЬ ART USBDUALPRE</td>\n",
       "      <td>5</td>\n",
       "      <td>клёвый вещь ка быть в мск</td>\n",
       "    </tr>\n",
       "    <tr>\n",
       "      <th>3</th>\n",
       "      <td>Гость</td>\n",
       "      <td>18.05.2010</td>\n",
       "      <td>888880000341</td>\n",
       "      <td>ПРЕДУСИЛИТЕЛЬ ART USBDUALPRE</td>\n",
       "      <td>3</td>\n",
       "      <td>прийтись снизить оценка так к высниться что по...</td>\n",
       "    </tr>\n",
       "    <tr>\n",
       "      <th>4</th>\n",
       "      <td>Гость</td>\n",
       "      <td>18.05.2010</td>\n",
       "      <td>888880000341</td>\n",
       "      <td>ПРЕДУСИЛИТЕЛЬ ART USBDUALPRE</td>\n",
       "      <td>4</td>\n",
       "      <td>под хр сразу не заработать дрова надо везти с ...</td>\n",
       "    </tr>\n",
       "  </tbody>\n",
       "</table>\n",
       "</div>"
      ],
      "text/plain": [
       "         author        date    product_id  \\\n",
       "0  Егор Гумеров  15.10.2017  888880022374   \n",
       "1         Гость  15.06.2010  888880000341   \n",
       "2         Гость  03.06.2010  888880000341   \n",
       "3         Гость  18.05.2010  888880000341   \n",
       "4         Гость  18.05.2010  888880000341   \n",
       "\n",
       "                          product_name  rate  \\\n",
       "0  АКУСТИЧЕСКАЯ ГИТАРА STAGG SA20D RED     4   \n",
       "1         ПРЕДУСИЛИТЕЛЬ ART USBDUALPRE     3   \n",
       "2         ПРЕДУСИЛИТЕЛЬ ART USBDUALPRE     5   \n",
       "3         ПРЕДУСИЛИТЕЛЬ ART USBDUALPRE     3   \n",
       "4         ПРЕДУСИЛИТЕЛЬ ART USBDUALPRE     4   \n",
       "\n",
       "                                                text  \n",
       "0  это мой первый гитара консультант ответить на ...  \n",
       "1  пожалуйста сказать кто нибыть у кто он есть та...  \n",
       "2                          клёвый вещь ка быть в мск  \n",
       "3  прийтись снизить оценка так к высниться что по...  \n",
       "4  под хр сразу не заработать дрова надо везти с ...  "
      ]
     },
     "execution_count": 5,
     "metadata": {},
     "output_type": "execute_result"
    }
   ],
   "source": [
    "df.drop('Unnamed: 0', axis=1, inplace=True)\n",
    "df.head()"
   ]
  },
  {
   "cell_type": "code",
   "execution_count": 92,
   "id": "434af522",
   "metadata": {},
   "outputs": [
    {
     "data": {
      "text/plain": [
       "<AxesSubplot:xlabel='rate', ylabel='count'>"
      ]
     },
     "execution_count": 92,
     "metadata": {},
     "output_type": "execute_result"
    },
    {
     "data": {
      "image/png": "[encoded data removed]",
      "text/plain": [
       "<Figure size 432x288 with 1 Axes>"
      ]
     },
     "metadata": {
      "needs_background": "light"
     },
     "output_type": "display_data"
    }
   ],
   "source": [
    "sns.countplot(x='rate', data=df)"
   ]
  },
  {
   "cell_type": "code",
   "execution_count": 6,
   "id": "9d48c88e",
   "metadata": {},
   "outputs": [],
   "source": [
    "sentences_length = [len(review.split()) for review in df.text]"
   ]
  },
  {
   "cell_type": "code",
   "execution_count": 7,
   "id": "feff2cf0",
   "metadata": {},
   "outputs": [
    {
     "name": "stdout",
     "output_type": "stream",
     "text": [
      "Самый короткий отзыв содержит 1 слов\n",
      "Самый длинный отзыв содержит 606 слов\n"
     ]
    }
   ],
   "source": [
    "print(f'Самый короткий отзыв содержит {min(sentences_length)} слов')\n",
    "print(f'Самый длинный отзыв содержит {max(sentences_length)} слов')"
   ]
  },
  {
   "cell_type": "code",
   "execution_count": 8,
   "id": "fa09c9c0",
   "metadata": {},
   "outputs": [],
   "source": [
    "module_url = 'https://tfhub.dev/google/universal-sentence-encoder-multilingual-large/3'"
   ]
  },
  {
   "cell_type": "code",
   "execution_count": 9,
   "id": "06c63194",
   "metadata": {},
   "outputs": [],
   "source": [
    "model = hub.load(module_url)"
   ]
  },
  {
   "cell_type": "code",
   "execution_count": 10,
   "id": "7b814c52",
   "metadata": {},
   "outputs": [],
   "source": [
    "def embed_text(input):\n",
    "    return model(input)"
   ]
  },
  {
   "cell_type": "markdown",
   "id": "3cdfb0f0",
   "metadata": {},
   "source": [
    "#### reviews embeddings 'as-is'\n",
    "\n",
    "Подаю в модель отзывы как есть, с предварительной предобработкой (лемматизация). Узкое место - различная длина отзывов от 1 слова в составе до 606, и все они будут закодированны единообразно, вектором из 512 чисел."
   ]
  },
  {
   "cell_type": "code",
   "execution_count": 11,
   "id": "5a17fea2",
   "metadata": {},
   "outputs": [
    {
     "name": "stderr",
     "output_type": "stream",
     "text": [
      "100%|████████████████████████████████████████████████████████████████████████████| 11185/11185 [12:35<00:00, 14.80it/s]\n"
     ]
    }
   ],
   "source": [
    "embeds = [embed_text(review) for review in tqdm(df.text)]"
   ]
  },
  {
   "cell_type": "code",
   "execution_count": 12,
   "id": "00ead337",
   "metadata": {},
   "outputs": [
    {
     "data": {
      "text/plain": [
       "TensorShape([1, 512])"
      ]
     },
     "execution_count": 12,
     "metadata": {},
     "output_type": "execute_result"
    }
   ],
   "source": [
    "embeds[0].shape"
   ]
  },
  {
   "cell_type": "code",
   "execution_count": 13,
   "id": "19f537a9",
   "metadata": {},
   "outputs": [],
   "source": [
    "features = [np.array(emb).tolist()[0] for emb in embeds]"
   ]
  },
  {
   "cell_type": "code",
   "execution_count": 14,
   "id": "82118495",
   "metadata": {},
   "outputs": [
    {
     "name": "stdout",
     "output_type": "stream",
     "text": [
      "всего отзывов 11185\n",
      "длина 1 вектора 512\n"
     ]
    }
   ],
   "source": [
    "print(f'всего отзывов {len(features)}')\n",
    "print(f'длина 1 вектора {len(features[0])}')"
   ]
  },
  {
   "cell_type": "markdown",
   "id": "6c4ed651",
   "metadata": {},
   "source": [
    "### Baseline "
   ]
  },
  {
   "cell_type": "code",
   "execution_count": 16,
   "id": "9d25220e",
   "metadata": {},
   "outputs": [],
   "source": [
    "x_train, x_test, y_train, y_test = train_test_split(features, df.rate, stratify=df.rate, test_size=0.25) "
   ]
  },
  {
   "cell_type": "code",
   "execution_count": 17,
   "id": "f3349dd5",
   "metadata": {},
   "outputs": [
    {
     "data": {
      "text/plain": [
       "LogisticRegression(max_iter=5000)"
      ]
     },
     "execution_count": 17,
     "metadata": {},
     "output_type": "execute_result"
    }
   ],
   "source": [
    "lr = LogisticRegression(max_iter=5000)\n",
    "lr.fit(x_train, y_train)"
   ]
  },
  {
   "cell_type": "code",
   "execution_count": 18,
   "id": "ab202857",
   "metadata": {},
   "outputs": [
    {
     "name": "stdout",
     "output_type": "stream",
     "text": [
      "              precision    recall  f1-score   support\n",
      "\n",
      "           0       0.00      0.00      0.00         0\n",
      "           1       0.00      0.00      0.00         0\n",
      "           2       0.00      0.00      0.00         3\n",
      "           3       0.02      0.29      0.03         7\n",
      "           4       0.01      0.38      0.03         8\n",
      "           5       1.00      0.84      0.91      2779\n",
      "\n",
      "    accuracy                           0.84      2797\n",
      "   macro avg       0.17      0.25      0.16      2797\n",
      "weighted avg       0.99      0.84      0.91      2797\n",
      "\n"
     ]
    }
   ],
   "source": [
    "y_pred = lr.predict(x_test)\n",
    "print(classification_report(y_pred, y_test))"
   ]
  },
  {
   "cell_type": "markdown",
   "id": "5a8d342b",
   "metadata": {},
   "source": [
    "Модель не справляется с дисбалансом классов."
   ]
  },
  {
   "cell_type": "markdown",
   "id": "9ad7ea34",
   "metadata": {},
   "source": [
    "### Other classifiers"
   ]
  },
  {
   "cell_type": "code",
   "execution_count": 19,
   "id": "151f949c",
   "metadata": {},
   "outputs": [],
   "source": [
    "classifiers = {\n",
    "    'lr_l1':LogisticRegression(penalty='l1', C=0.1, solver='saga'),\n",
    "    'lr_l2':LogisticRegression(penalty='l2', C=0.1, solver='saga'),\n",
    "    'tree':DecisionTreeClassifier(),\n",
    "    'rfc': RandomForestClassifier(), \n",
    "    'knc': KNeighborsClassifier(n_neighbors=7),\n",
    "    'svc': SVC()\n",
    "}"
   ]
  },
  {
   "cell_type": "code",
   "execution_count": 20,
   "id": "e870a496",
   "metadata": {},
   "outputs": [],
   "source": [
    "def train_and_predict(model, x_train, x_test, y_train, y_test):\n",
    "    '''\n",
    "    Обучение модели классификации и вывод результатов\n",
    "    '''\n",
    "    model.fit(x_train, y_train)\n",
    "    y_pred = model.predict(x_test)\n",
    "    print(f'{model.__class__.__name__} result')\n",
    "    print(classification_report(y_pred, y_test))\n",
    "    print('----------------------------------')"
   ]
  },
  {
   "cell_type": "code",
   "execution_count": 21,
   "id": "d5057127",
   "metadata": {},
   "outputs": [
    {
     "name": "stdout",
     "output_type": "stream",
     "text": [
      "LogisticRegression result\n",
      "              precision    recall  f1-score   support\n",
      "\n",
      "           0       0.00      0.00      0.00         0\n",
      "           1       0.00      0.00      0.00         0\n",
      "           2       0.00      0.00      0.00         0\n",
      "           3       0.00      0.00      0.00         0\n",
      "           4       0.00      0.00      0.00         0\n",
      "           5       1.00      0.84      0.91      2797\n",
      "\n",
      "    accuracy                           0.84      2797\n",
      "   macro avg       0.17      0.14      0.15      2797\n",
      "weighted avg       1.00      0.84      0.91      2797\n",
      "\n",
      "----------------------------------\n",
      "LogisticRegression result\n",
      "              precision    recall  f1-score   support\n",
      "\n",
      "           0       0.00      0.00      0.00         0\n",
      "           1       0.00      0.00      0.00         0\n",
      "           2       0.00      0.00      0.00         0\n",
      "           3       0.00      0.00      0.00         0\n",
      "           4       0.00      0.00      0.00         0\n",
      "           5       1.00      0.84      0.91      2797\n",
      "\n",
      "    accuracy                           0.84      2797\n",
      "   macro avg       0.17      0.14      0.15      2797\n",
      "weighted avg       1.00      0.84      0.91      2797\n",
      "\n",
      "----------------------------------\n",
      "DecisionTreeClassifier result\n",
      "              precision    recall  f1-score   support\n",
      "\n",
      "           0       0.35      0.29      0.32        66\n",
      "           1       0.09      0.08      0.09        24\n",
      "           2       0.19      0.21      0.20        39\n",
      "           3       0.37      0.34      0.36       117\n",
      "           4       0.37      0.29      0.33       285\n",
      "           5       0.86      0.89      0.88      2266\n",
      "\n",
      "    accuracy                           0.78      2797\n",
      "   macro avg       0.37      0.35      0.36      2797\n",
      "weighted avg       0.76      0.78      0.77      2797\n",
      "\n",
      "----------------------------------\n",
      "RandomForestClassifier result\n",
      "              precision    recall  f1-score   support\n",
      "\n",
      "           0       0.31      1.00      0.48        17\n",
      "           1       0.09      1.00      0.17         2\n",
      "           2       0.19      1.00      0.32         8\n",
      "           3       0.30      0.97      0.45        33\n",
      "           4       0.29      0.98      0.44        65\n",
      "           5       1.00      0.88      0.93      2672\n",
      "\n",
      "    accuracy                           0.88      2797\n",
      "   macro avg       0.36      0.97      0.47      2797\n",
      "weighted avg       0.97      0.88      0.91      2797\n",
      "\n",
      "----------------------------------\n",
      "KNeighborsClassifier result\n",
      "              precision    recall  f1-score   support\n",
      "\n",
      "           0       0.00      0.00      0.00         3\n",
      "           1       0.00      0.00      0.00         3\n",
      "           2       0.02      0.25      0.04         4\n",
      "           3       0.02      0.20      0.03        10\n",
      "           4       0.06      0.25      0.10        56\n",
      "           5       0.98      0.85      0.91      2721\n",
      "\n",
      "    accuracy                           0.83      2797\n",
      "   macro avg       0.18      0.26      0.18      2797\n",
      "weighted avg       0.96      0.83      0.89      2797\n",
      "\n",
      "----------------------------------\n",
      "SVC result\n",
      "              precision    recall  f1-score   support\n",
      "\n",
      "           0       0.00      0.00      0.00         0\n",
      "           1       0.00      0.00      0.00         0\n",
      "           2       0.00      0.00      0.00         0\n",
      "           3       0.00      0.00      0.00         0\n",
      "           4       0.01      1.00      0.03         3\n",
      "           5       1.00      0.84      0.91      2794\n",
      "\n",
      "    accuracy                           0.84      2797\n",
      "   macro avg       0.17      0.31      0.16      2797\n",
      "weighted avg       1.00      0.84      0.91      2797\n",
      "\n",
      "----------------------------------\n"
     ]
    }
   ],
   "source": [
    "for classifier in classifiers.values():\n",
    "    train_and_predict(classifier, x_train, x_test, y_train, y_test)"
   ]
  },
  {
   "cell_type": "markdown",
   "id": "61348873",
   "metadata": {},
   "source": [
    "С учетом дисбаланса классов наиболее убедительный результат показывают методы random forest, decision tree и K-neighbors classifiers, но и то преимущественно за угадывание самого распространенного класса. "
   ]
  },
  {
   "cell_type": "markdown",
   "id": "5e96b298",
   "metadata": {},
   "source": [
    "### Oversampling"
   ]
  },
  {
   "cell_type": "markdown",
   "id": "d06d97dc",
   "metadata": {},
   "source": [
    "Стратегия 1: добавить в наименее представленные классы некоторое количество искусственных значений, меньшее, чем количество элементов самого представленного класса. Тем самым сохраняем некоторое начальное представление низких оценок мало, средних чуть больше, хороших - много. "
   ]
  },
  {
   "cell_type": "code",
   "execution_count": 22,
   "id": "57acdfb9",
   "metadata": {},
   "outputs": [],
   "source": [
    "strategy = {0:1000, 1:1000, 2:2000, 3:2000, 4:2000}"
   ]
  },
  {
   "cell_type": "code",
   "execution_count": 23,
   "id": "88ac0eac",
   "metadata": {},
   "outputs": [],
   "source": [
    "oversample = SMOTE(sampling_strategy=strategy, k_neighbors=5)\n",
    "X_new, Y_new = oversample.fit_resample(features, df.rate)"
   ]
  },
  {
   "cell_type": "code",
   "execution_count": 24,
   "id": "711aecd3",
   "metadata": {},
   "outputs": [],
   "source": [
    "x_train, x_test, y_train, y_test = train_test_split(X_new, Y_new, test_size=0.25, stratify=Y_new)"
   ]
  },
  {
   "cell_type": "code",
   "execution_count": 25,
   "id": "495d00ea",
   "metadata": {},
   "outputs": [
    {
     "name": "stdout",
     "output_type": "stream",
     "text": [
      "LogisticRegression result\n",
      "              precision    recall  f1-score   support\n",
      "\n",
      "           0       0.06      0.50      0.10        28\n",
      "           1       0.81      0.92      0.86       220\n",
      "           2       0.78      0.76      0.77       516\n",
      "           3       0.46      0.62      0.53       369\n",
      "           4       0.15      0.46      0.22       157\n",
      "           5       0.92      0.71      0.80      3057\n",
      "\n",
      "    accuracy                           0.71      4347\n",
      "   macro avg       0.53      0.66      0.55      4347\n",
      "weighted avg       0.83      0.71      0.75      4347\n",
      "\n",
      "----------------------------------\n"
     ]
    }
   ],
   "source": [
    "lr = LogisticRegression(max_iter=5000)\n",
    "train_and_predict(lr, x_train, x_test, y_train, y_test)"
   ]
  },
  {
   "cell_type": "code",
   "execution_count": 28,
   "id": "74e34bfe",
   "metadata": {},
   "outputs": [
    {
     "name": "stdout",
     "output_type": "stream",
     "text": [
      "for k = 3 acc = 0.714975845410628\n",
      "for k = 4 acc = 0.7129054520358868\n",
      "for k = 5 acc = 0.7204968944099379\n",
      "for k = 6 acc = 0.7181964573268921\n",
      "for k = 7 acc = 0.7158960202438464\n",
      "for k = 8 acc = 0.7057740970784449\n",
      "for k = 9 acc = 0.7094547964113181\n"
     ]
    }
   ],
   "source": [
    "# проверим, как изменяется accuracy в зависимости от количества k соседей, по которым рассчитываются искусственные значения\n",
    "for k in range(3, 10):\n",
    "    oversample = SMOTE(sampling_strategy=strategy, k_neighbors=k)\n",
    "    X_new, Y_new = oversample.fit_resample(features, df.rate)\n",
    "    x_train, x_test, y_train, y_test = train_test_split(X_new, Y_new, test_size=0.25, stratify=Y_new)\n",
    "    lr = LogisticRegression(max_iter=5000)\n",
    "    lr.fit(x_train, y_train)\n",
    "    y_pred = lr.predict(x_test)\n",
    "    print(f'for k = {k} acc = {accuracy_score(y_pred, y_test)}')\n",
    "    "
   ]
  },
  {
   "cell_type": "markdown",
   "id": "1a805b1d",
   "metadata": {},
   "source": [
    "Результаты колеблются незначительно. \n",
    "\n",
    "Стратегия 2: сэмплировать значения всех классов, кроме класса с большинством, сравняв количество значений в них"
   ]
  },
  {
   "cell_type": "code",
   "execution_count": 29,
   "id": "4cd1abd0",
   "metadata": {},
   "outputs": [
    {
     "name": "stdout",
     "output_type": "stream",
     "text": [
      "for k = 3 acc = 0.806733432772214\n",
      "for k = 4 acc = 0.7948007670999361\n",
      "for k = 5 acc = 0.805668016194332\n",
      "for k = 6 acc = 0.7995596278144754\n",
      "for k = 7 acc = 0.7973577668868528\n",
      "for k = 8 acc = 0.800411961076781\n",
      "for k = 9 acc = 0.7974287946587115\n"
     ]
    }
   ],
   "source": [
    "for k in range(3, 10):\n",
    "    oversample = SMOTE(sampling_strategy='not majority', k_neighbors=k)\n",
    "    X_new, Y_new = oversample.fit_resample(features, df.rate)\n",
    "    x_train, x_test, y_train, y_test = train_test_split(X_new, Y_new, test_size=0.25, stratify=Y_new)\n",
    "    lr = LogisticRegression(max_iter=5000)\n",
    "    lr.fit(x_train, y_train)\n",
    "    y_pred = lr.predict(x_test)\n",
    "    print(f'for k = {k} acc = {accuracy_score(y_pred, y_test)}')"
   ]
  },
  {
   "cell_type": "markdown",
   "id": "996cee83",
   "metadata": {},
   "source": [
    "Применим прочие классификаторы к данным, сэмплированным по стратегии с наибольшей accuracy на baseline "
   ]
  },
  {
   "cell_type": "code",
   "execution_count": 30,
   "id": "a80cee1b",
   "metadata": {},
   "outputs": [
    {
     "name": "stdout",
     "output_type": "stream",
     "text": [
      "LogisticRegression result\n",
      "              precision    recall  f1-score   support\n",
      "\n",
      "           0       0.81      0.66      0.73      2901\n",
      "           1       0.97      0.86      0.91      2652\n",
      "           2       0.86      0.77      0.81      2596\n",
      "           3       0.59      0.63      0.61      2203\n",
      "           4       0.50      0.57      0.54      2054\n",
      "           5       0.37      0.53      0.44      1673\n",
      "\n",
      "    accuracy                           0.69     14079\n",
      "   macro avg       0.69      0.67      0.67     14079\n",
      "weighted avg       0.72      0.69      0.70     14079\n",
      "\n",
      "----------------------------------\n",
      "LogisticRegression result\n",
      "              precision    recall  f1-score   support\n",
      "\n",
      "           0       0.80      0.66      0.72      2872\n",
      "           1       0.98      0.85      0.91      2701\n",
      "           2       0.85      0.77      0.81      2569\n",
      "           3       0.60      0.65      0.62      2161\n",
      "           4       0.53      0.60      0.56      2094\n",
      "           5       0.40      0.56      0.47      1682\n",
      "\n",
      "    accuracy                           0.69     14079\n",
      "   macro avg       0.69      0.68      0.68     14079\n",
      "weighted avg       0.73      0.69      0.71     14079\n",
      "\n",
      "----------------------------------\n",
      "DecisionTreeClassifier result\n",
      "              precision    recall  f1-score   support\n",
      "\n",
      "           0       0.96      0.92      0.94      2428\n",
      "           1       0.99      0.97      0.98      2395\n",
      "           2       0.97      0.95      0.96      2404\n",
      "           3       0.92      0.90      0.91      2417\n",
      "           4       0.87      0.84      0.85      2435\n",
      "           5       0.69      0.81      0.74      2000\n",
      "\n",
      "    accuracy                           0.90     14079\n",
      "   macro avg       0.90      0.90      0.90     14079\n",
      "weighted avg       0.91      0.90      0.90     14079\n",
      "\n",
      "----------------------------------\n",
      "RandomForestClassifier result\n",
      "              precision    recall  f1-score   support\n",
      "\n",
      "           0       1.00      1.00      1.00      2348\n",
      "           1       1.00      1.00      1.00      2347\n",
      "           2       1.00      1.00      1.00      2347\n",
      "           3       1.00      1.00      1.00      2349\n",
      "           4       0.98      0.98      0.98      2328\n",
      "           5       0.98      0.97      0.98      2360\n",
      "\n",
      "    accuracy                           0.99     14079\n",
      "   macro avg       0.99      0.99      0.99     14079\n",
      "weighted avg       0.99      0.99      0.99     14079\n",
      "\n",
      "----------------------------------\n",
      "KNeighborsClassifier result\n",
      "              precision    recall  f1-score   support\n",
      "\n",
      "           0       1.00      0.82      0.90      2849\n",
      "           1       1.00      0.96      0.98      2434\n",
      "           2       1.00      0.93      0.96      2524\n",
      "           3       1.00      0.86      0.92      2727\n",
      "           4       0.99      0.79      0.88      2944\n",
      "           5       0.25      0.97      0.40       601\n",
      "\n",
      "    accuracy                           0.87     14079\n",
      "   macro avg       0.87      0.89      0.84     14079\n",
      "weighted avg       0.97      0.87      0.90     14079\n",
      "\n",
      "----------------------------------\n",
      "SVC result\n",
      "              precision    recall  f1-score   support\n",
      "\n",
      "           0       1.00      0.99      0.99      2379\n",
      "           1       1.00      1.00      1.00      2347\n",
      "           2       1.00      1.00      1.00      2351\n",
      "           3       1.00      0.99      0.99      2350\n",
      "           4       0.96      0.99      0.97      2277\n",
      "           5       0.97      0.96      0.96      2375\n",
      "\n",
      "    accuracy                           0.99     14079\n",
      "   macro avg       0.99      0.99      0.99     14079\n",
      "weighted avg       0.99      0.99      0.99     14079\n",
      "\n",
      "----------------------------------\n"
     ]
    }
   ],
   "source": [
    "oversample = SMOTE(sampling_strategy='not majority', k_neighbors=3)\n",
    "X_new, Y_new = oversample.fit_resample(features, df.rate)\n",
    "x_train, x_test, y_train, y_test = train_test_split(X_new, Y_new, test_size=0.25, stratify=Y_new)\n",
    "for classifier in classifiers.values():\n",
    "    train_and_predict(classifier, x_train, x_test, y_train, y_test)"
   ]
  },
  {
   "cell_type": "markdown",
   "id": "fc39febd",
   "metadata": {},
   "source": [
    "SVC и RFC дают 0,99 accuracy, что вроде хорошо, но немного настораживает и заставляет задуматься, а не переобучилась ли модель"
   ]
  },
  {
   "cell_type": "code",
   "execution_count": null,
   "id": "496eaf37",
   "metadata": {},
   "outputs": [],
   "source": []
  },
  {
   "cell_type": "markdown",
   "id": "62479ad4",
   "metadata": {},
   "source": [
    "### Новый подход к эмбеддингам:\n",
    "эмбеддинг отзыва - усреднение эмббедингов предложений. Должно получится более адекватное представление для отзывов очень большой длины."
   ]
  },
  {
   "cell_type": "code",
   "execution_count": 31,
   "id": "cbcfacc2",
   "metadata": {},
   "outputs": [],
   "source": [
    "df_orig = pd.read_csv('Data/reviews.csv')"
   ]
  },
  {
   "cell_type": "code",
   "execution_count": 32,
   "id": "189e9efe",
   "metadata": {},
   "outputs": [],
   "source": [
    "df_orig.drop('Unnamed: 0', axis=1, inplace=True)"
   ]
  },
  {
   "cell_type": "code",
   "execution_count": 33,
   "id": "49914ae0-91db-4832-a410-8069c0d8f6e8",
   "metadata": {},
   "outputs": [],
   "source": [
    "stops = stopwords.words('russian')"
   ]
  },
  {
   "cell_type": "code",
   "execution_count": 34,
   "id": "60fe5a1e-fcd5-406c-8841-8ae996c7b110",
   "metadata": {},
   "outputs": [],
   "source": [
    "tokenizer = nltk.data.load('tokenizers/punkt/russian.pickle')"
   ]
  },
  {
   "cell_type": "code",
   "execution_count": 35,
   "id": "1b30edaa-bedb-4d07-9cd6-a70cd9ce3003",
   "metadata": {},
   "outputs": [],
   "source": [
    "morph = pymorphy2.MorphAnalyzer()"
   ]
  },
  {
   "cell_type": "code",
   "execution_count": 36,
   "id": "29e01aa1",
   "metadata": {},
   "outputs": [],
   "source": [
    "def review_to_wordlist(review, remove_stopwords=False ):\n",
    "\n",
    "    # оставляем только буквенные символы\n",
    "    review_text = re.sub(\"[^А-Яа-я]\",\" \", review)\n",
    "    # приводим к нижнему регистру и разбиваем на слова по символу пробела\n",
    "    words = review_text.lower().split()\n",
    "    words_lemmatized = [morph.parse(w)[0].normal_form for w in words]\n",
    "    if remove_stopwords: # убираем стоп-слова\n",
    "        words_lemmatized = [w for w in words_lemmatized if not w in stops]\n",
    "    return(' '.join(words_lemmatized))\n",
    "\n",
    "def review_to_sentences(review, tokenizer, remove_stopwords=False):\n",
    "    # разбиваем обзор на предложения\n",
    "    raw_sentences = tokenizer.tokenize(review.strip())\n",
    "    sentences = []\n",
    "    # применяем предыдущую функцию к каждому предложению\n",
    "    for raw_sentence in raw_sentences:\n",
    "        if len(raw_sentence) > 0:\n",
    "            sentences.append(review_to_wordlist(raw_sentence, remove_stopwords))\n",
    "    return sentences"
   ]
  },
  {
   "cell_type": "code",
   "execution_count": 37,
   "id": "b6138b2e",
   "metadata": {},
   "outputs": [
    {
     "data": {
      "text/plain": [
       "['мы не знать друг друг до это лето', 'мы болтаться по свет земля и вода']"
      ]
     },
     "execution_count": 37,
     "metadata": {},
     "output_type": "execute_result"
    }
   ],
   "source": [
    "review_to_sentences('Мы не знали друг друга до этого лета. Мы болтались по свету, земле и воде', tokenizer)"
   ]
  },
  {
   "cell_type": "code",
   "execution_count": 38,
   "id": "38ba1aad",
   "metadata": {},
   "outputs": [
    {
     "data": {
      "text/plain": [
       "author          5\n",
       "date            0\n",
       "product_id      0\n",
       "product_name    0\n",
       "rate            0\n",
       "text            1\n",
       "dtype: int64"
      ]
     },
     "execution_count": 38,
     "metadata": {},
     "output_type": "execute_result"
    }
   ],
   "source": [
    "df_orig.isnull().sum()"
   ]
  },
  {
   "cell_type": "code",
   "execution_count": 39,
   "id": "aac03e9a",
   "metadata": {},
   "outputs": [],
   "source": [
    "df_orig['author'] =  df_orig['author'].fillna('Неизвестен')"
   ]
  },
  {
   "cell_type": "code",
   "execution_count": 40,
   "id": "34bf9503",
   "metadata": {},
   "outputs": [],
   "source": [
    "df_orig = df_orig.dropna()"
   ]
  },
  {
   "cell_type": "code",
   "execution_count": 41,
   "id": "dba6aa6f",
   "metadata": {},
   "outputs": [
    {
     "data": {
      "text/plain": [
       "author          0\n",
       "date            0\n",
       "product_id      0\n",
       "product_name    0\n",
       "rate            0\n",
       "text            0\n",
       "dtype: int64"
      ]
     },
     "execution_count": 41,
     "metadata": {},
     "output_type": "execute_result"
    }
   ],
   "source": [
    "df_orig.isnull().sum()"
   ]
  },
  {
   "cell_type": "code",
   "execution_count": 42,
   "id": "ce590f7d",
   "metadata": {},
   "outputs": [
    {
     "data": {
      "text/html": [
       "<div>\n",
       "<style scoped>\n",
       "    .dataframe tbody tr th:only-of-type {\n",
       "        vertical-align: middle;\n",
       "    }\n",
       "\n",
       "    .dataframe tbody tr th {\n",
       "        vertical-align: top;\n",
       "    }\n",
       "\n",
       "    .dataframe thead th {\n",
       "        text-align: right;\n",
       "    }\n",
       "</style>\n",
       "<table border=\"1\" class=\"dataframe\">\n",
       "  <thead>\n",
       "    <tr style=\"text-align: right;\">\n",
       "      <th></th>\n",
       "      <th>author</th>\n",
       "      <th>date</th>\n",
       "      <th>product_id</th>\n",
       "      <th>product_name</th>\n",
       "      <th>rate</th>\n",
       "      <th>text</th>\n",
       "    </tr>\n",
       "  </thead>\n",
       "  <tbody>\n",
       "    <tr>\n",
       "      <th>0</th>\n",
       "      <td>Егор Гумеров</td>\n",
       "      <td>15.10.2017</td>\n",
       "      <td>888880022374</td>\n",
       "      <td>АКУСТИЧЕСКАЯ ГИТАРА STAGG SA20D RED</td>\n",
       "      <td>4</td>\n",
       "      <td>Это моя первая гитара. Консультант ответил на ...</td>\n",
       "    </tr>\n",
       "    <tr>\n",
       "      <th>1</th>\n",
       "      <td>Гость</td>\n",
       "      <td>15.06.2010</td>\n",
       "      <td>888880000341</td>\n",
       "      <td>ПРЕДУСИЛИТЕЛЬ ART USBDUALPRE</td>\n",
       "      <td>3</td>\n",
       "      <td>Пожалуйста скажите кто-нибудь у кого он есть т...</td>\n",
       "    </tr>\n",
       "    <tr>\n",
       "      <th>2</th>\n",
       "      <td>Гость</td>\n",
       "      <td>03.06.2010</td>\n",
       "      <td>888880000341</td>\n",
       "      <td>ПРЕДУСИЛИТЕЛЬ ART USBDUALPRE</td>\n",
       "      <td>5</td>\n",
       "      <td>клевая вещь. ка будет в МСК?</td>\n",
       "    </tr>\n",
       "    <tr>\n",
       "      <th>3</th>\n",
       "      <td>Гость</td>\n",
       "      <td>18.05.2010</td>\n",
       "      <td>888880000341</td>\n",
       "      <td>ПРЕДУСИЛИТЕЛЬ ART USBDUALPRE</td>\n",
       "      <td>3</td>\n",
       "      <td>Пришлось снизить оценку -1 т.к. выснилось что ...</td>\n",
       "    </tr>\n",
       "    <tr>\n",
       "      <th>4</th>\n",
       "      <td>Гость</td>\n",
       "      <td>18.05.2010</td>\n",
       "      <td>888880000341</td>\n",
       "      <td>ПРЕДУСИЛИТЕЛЬ ART USBDUALPRE</td>\n",
       "      <td>4</td>\n",
       "      <td>Под ХР сразу не заработал, дрова надо везти с ...</td>\n",
       "    </tr>\n",
       "  </tbody>\n",
       "</table>\n",
       "</div>"
      ],
      "text/plain": [
       "         author        date    product_id  \\\n",
       "0  Егор Гумеров  15.10.2017  888880022374   \n",
       "1         Гость  15.06.2010  888880000341   \n",
       "2         Гость  03.06.2010  888880000341   \n",
       "3         Гость  18.05.2010  888880000341   \n",
       "4         Гость  18.05.2010  888880000341   \n",
       "\n",
       "                          product_name  rate  \\\n",
       "0  АКУСТИЧЕСКАЯ ГИТАРА STAGG SA20D RED     4   \n",
       "1         ПРЕДУСИЛИТЕЛЬ ART USBDUALPRE     3   \n",
       "2         ПРЕДУСИЛИТЕЛЬ ART USBDUALPRE     5   \n",
       "3         ПРЕДУСИЛИТЕЛЬ ART USBDUALPRE     3   \n",
       "4         ПРЕДУСИЛИТЕЛЬ ART USBDUALPRE     4   \n",
       "\n",
       "                                                text  \n",
       "0  Это моя первая гитара. Консультант ответил на ...  \n",
       "1  Пожалуйста скажите кто-нибудь у кого он есть т...  \n",
       "2                       клевая вещь. ка будет в МСК?  \n",
       "3  Пришлось снизить оценку -1 т.к. выснилось что ...  \n",
       "4  Под ХР сразу не заработал, дрова надо везти с ...  "
      ]
     },
     "execution_count": 42,
     "metadata": {},
     "output_type": "execute_result"
    }
   ],
   "source": [
    "df_orig.head()"
   ]
  },
  {
   "cell_type": "code",
   "execution_count": 43,
   "id": "ad840b30",
   "metadata": {},
   "outputs": [],
   "source": [
    "df_orig['sentences'] = df_orig['text'].apply(lambda x: review_to_sentences(x, tokenizer))"
   ]
  },
  {
   "cell_type": "code",
   "execution_count": 44,
   "id": "459854f0",
   "metadata": {},
   "outputs": [
    {
     "data": {
      "text/html": [
       "<div>\n",
       "<style scoped>\n",
       "    .dataframe tbody tr th:only-of-type {\n",
       "        vertical-align: middle;\n",
       "    }\n",
       "\n",
       "    .dataframe tbody tr th {\n",
       "        vertical-align: top;\n",
       "    }\n",
       "\n",
       "    .dataframe thead th {\n",
       "        text-align: right;\n",
       "    }\n",
       "</style>\n",
       "<table border=\"1\" class=\"dataframe\">\n",
       "  <thead>\n",
       "    <tr style=\"text-align: right;\">\n",
       "      <th></th>\n",
       "      <th>author</th>\n",
       "      <th>date</th>\n",
       "      <th>product_id</th>\n",
       "      <th>product_name</th>\n",
       "      <th>rate</th>\n",
       "      <th>text</th>\n",
       "      <th>sentences</th>\n",
       "    </tr>\n",
       "  </thead>\n",
       "  <tbody>\n",
       "    <tr>\n",
       "      <th>0</th>\n",
       "      <td>Егор Гумеров</td>\n",
       "      <td>15.10.2017</td>\n",
       "      <td>888880022374</td>\n",
       "      <td>АКУСТИЧЕСКАЯ ГИТАРА STAGG SA20D RED</td>\n",
       "      <td>4</td>\n",
       "      <td>Это моя первая гитара. Консультант ответил на ...</td>\n",
       "      <td>[это мой первый гитара, консультант ответить н...</td>\n",
       "    </tr>\n",
       "    <tr>\n",
       "      <th>1</th>\n",
       "      <td>Гость</td>\n",
       "      <td>15.06.2010</td>\n",
       "      <td>888880000341</td>\n",
       "      <td>ПРЕДУСИЛИТЕЛЬ ART USBDUALPRE</td>\n",
       "      <td>3</td>\n",
       "      <td>Пожалуйста скажите кто-нибудь у кого он есть т...</td>\n",
       "      <td>[пожалуйста сказать кто нибыть у кто он есть т...</td>\n",
       "    </tr>\n",
       "    <tr>\n",
       "      <th>2</th>\n",
       "      <td>Гость</td>\n",
       "      <td>03.06.2010</td>\n",
       "      <td>888880000341</td>\n",
       "      <td>ПРЕДУСИЛИТЕЛЬ ART USBDUALPRE</td>\n",
       "      <td>5</td>\n",
       "      <td>клевая вещь. ка будет в МСК?</td>\n",
       "      <td>[клёвый вещь, ка быть в мск]</td>\n",
       "    </tr>\n",
       "    <tr>\n",
       "      <th>3</th>\n",
       "      <td>Гость</td>\n",
       "      <td>18.05.2010</td>\n",
       "      <td>888880000341</td>\n",
       "      <td>ПРЕДУСИЛИТЕЛЬ ART USBDUALPRE</td>\n",
       "      <td>3</td>\n",
       "      <td>Пришлось снизить оценку -1 т.к. выснилось что ...</td>\n",
       "      <td>[прийтись снизить оценка так к высниться что п...</td>\n",
       "    </tr>\n",
       "    <tr>\n",
       "      <th>4</th>\n",
       "      <td>Гость</td>\n",
       "      <td>18.05.2010</td>\n",
       "      <td>888880000341</td>\n",
       "      <td>ПРЕДУСИЛИТЕЛЬ ART USBDUALPRE</td>\n",
       "      <td>4</td>\n",
       "      <td>Под ХР сразу не заработал, дрова надо везти с ...</td>\n",
       "      <td>[под хр сразу не заработать дрова надо везти с...</td>\n",
       "    </tr>\n",
       "  </tbody>\n",
       "</table>\n",
       "</div>"
      ],
      "text/plain": [
       "         author        date    product_id  \\\n",
       "0  Егор Гумеров  15.10.2017  888880022374   \n",
       "1         Гость  15.06.2010  888880000341   \n",
       "2         Гость  03.06.2010  888880000341   \n",
       "3         Гость  18.05.2010  888880000341   \n",
       "4         Гость  18.05.2010  888880000341   \n",
       "\n",
       "                          product_name  rate  \\\n",
       "0  АКУСТИЧЕСКАЯ ГИТАРА STAGG SA20D RED     4   \n",
       "1         ПРЕДУСИЛИТЕЛЬ ART USBDUALPRE     3   \n",
       "2         ПРЕДУСИЛИТЕЛЬ ART USBDUALPRE     5   \n",
       "3         ПРЕДУСИЛИТЕЛЬ ART USBDUALPRE     3   \n",
       "4         ПРЕДУСИЛИТЕЛЬ ART USBDUALPRE     4   \n",
       "\n",
       "                                                text  \\\n",
       "0  Это моя первая гитара. Консультант ответил на ...   \n",
       "1  Пожалуйста скажите кто-нибудь у кого он есть т...   \n",
       "2                       клевая вещь. ка будет в МСК?   \n",
       "3  Пришлось снизить оценку -1 т.к. выснилось что ...   \n",
       "4  Под ХР сразу не заработал, дрова надо везти с ...   \n",
       "\n",
       "                                           sentences  \n",
       "0  [это мой первый гитара, консультант ответить н...  \n",
       "1  [пожалуйста сказать кто нибыть у кто он есть т...  \n",
       "2                       [клёвый вещь, ка быть в мск]  \n",
       "3  [прийтись снизить оценка так к высниться что п...  \n",
       "4  [под хр сразу не заработать дрова надо везти с...  "
      ]
     },
     "execution_count": 44,
     "metadata": {},
     "output_type": "execute_result"
    }
   ],
   "source": [
    "df_orig.head()"
   ]
  },
  {
   "cell_type": "code",
   "execution_count": 45,
   "id": "e253c836",
   "metadata": {},
   "outputs": [],
   "source": [
    "def get_avg_embed(sentences):\n",
    "    vectors = [embed_text(sent) for sent in sentences]\n",
    "    features = [np.array(vec)[0] for vec in vectors]\n",
    "    return sum(features)/len(features)\n",
    "    \n",
    "    "
   ]
  },
  {
   "cell_type": "code",
   "execution_count": 46,
   "id": "c4ae20e6",
   "metadata": {},
   "outputs": [
    {
     "data": {
      "text/plain": [
       "['это мой первый гитара',\n",
       " 'консультант ответить на всё мой вопрос быстро оформить покупка сам гитара дойти из спб до ухта рк весь за день',\n",
       " 'взять гитара в рука обнаружить что гриф прогнуться а ведь именно это я и бояться',\n",
       " 'но ничего в комплект идти шестигранник подкрутить гриф без особый проблема',\n",
       " 'ещё струна значительно возвышаться над весь остальной прийтись подпилить порожек',\n",
       " 'сам гитара приятный по звук удобно лежать в рука и после небольшой шаманство петь и плясать',\n",
       " 'крайне рекомендовать к покупка']"
      ]
     },
     "execution_count": 46,
     "metadata": {},
     "output_type": "execute_result"
    }
   ],
   "source": [
    "test = df_orig.sentences.iloc[0]\n",
    "test"
   ]
  },
  {
   "cell_type": "code",
   "execution_count": 151,
   "id": "cffa7b5f",
   "metadata": {},
   "outputs": [
    {
     "data": {
      "text/plain": [
       "(512,)"
      ]
     },
     "execution_count": 151,
     "metadata": {},
     "output_type": "execute_result"
    }
   ],
   "source": [
    "feats = get_avg_embed(test)\n",
    "feats.shape"
   ]
  },
  {
   "cell_type": "code",
   "execution_count": 153,
   "id": "d16e0601",
   "metadata": {},
   "outputs": [
    {
     "name": "stderr",
     "output_type": "stream",
     "text": [
      "100%|████████████████████████████████████████████████████████████████████████████| 11213/11213 [29:08<00:00,  6.41it/s]\n"
     ]
    }
   ],
   "source": [
    "vectors = [get_avg_embed(sents) for sents in tqdm(df_orig.sentences)]"
   ]
  },
  {
   "cell_type": "code",
   "execution_count": 154,
   "id": "7bf0ede2",
   "metadata": {},
   "outputs": [],
   "source": [
    "np_vec = np.array(vectors)"
   ]
  },
  {
   "cell_type": "code",
   "execution_count": 155,
   "id": "b2830f59",
   "metadata": {},
   "outputs": [
    {
     "data": {
      "text/plain": [
       "(11213, 512)"
      ]
     },
     "execution_count": 155,
     "metadata": {},
     "output_type": "execute_result"
    }
   ],
   "source": [
    "np_vec.shape"
   ]
  },
  {
   "cell_type": "code",
   "execution_count": 156,
   "id": "b939aaef",
   "metadata": {},
   "outputs": [],
   "source": [
    "np.save('features_v1_avg', np_vec)"
   ]
  },
  {
   "cell_type": "code",
   "execution_count": 47,
   "id": "68ac9365",
   "metadata": {},
   "outputs": [],
   "source": [
    "vectors = np.load('features_v1_avg.npy')"
   ]
  },
  {
   "cell_type": "code",
   "execution_count": 48,
   "id": "ed1ed7f1",
   "metadata": {},
   "outputs": [
    {
     "data": {
      "text/plain": [
       "(11213, 512)"
      ]
     },
     "execution_count": 48,
     "metadata": {},
     "output_type": "execute_result"
    }
   ],
   "source": [
    "vectors.shape"
   ]
  },
  {
   "cell_type": "code",
   "execution_count": 49,
   "id": "8527868c",
   "metadata": {},
   "outputs": [],
   "source": [
    "x_train, x_test, y_train, y_test = train_test_split(vectors, df_orig.rate, stratify=df_orig.rate)"
   ]
  },
  {
   "cell_type": "code",
   "execution_count": 50,
   "id": "859a2a89",
   "metadata": {},
   "outputs": [
    {
     "name": "stdout",
     "output_type": "stream",
     "text": [
      "              precision    recall  f1-score   support\n",
      "\n",
      "           0       0.00      0.00      0.00         0\n",
      "           1       0.00      0.00      0.00         0\n",
      "           2       0.00      0.00      0.00         0\n",
      "           3       0.04      0.67      0.07         6\n",
      "           4       0.01      0.33      0.03         9\n",
      "           5       1.00      0.84      0.91      2789\n",
      "\n",
      "    accuracy                           0.84      2804\n",
      "   macro avg       0.17      0.31      0.17      2804\n",
      "weighted avg       0.99      0.84      0.91      2804\n",
      "\n"
     ]
    }
   ],
   "source": [
    "lr = LogisticRegression(max_iter=5000)\n",
    "lr.fit(x_train, y_train)\n",
    "y_pred = lr.predict(x_test)\n",
    "print(classification_report(y_pred, y_test))"
   ]
  },
  {
   "cell_type": "code",
   "execution_count": 51,
   "id": "973df56d",
   "metadata": {},
   "outputs": [
    {
     "name": "stdout",
     "output_type": "stream",
     "text": [
      "LogisticRegression result\n",
      "              precision    recall  f1-score   support\n",
      "\n",
      "           0       0.00      0.00      0.00         0\n",
      "           1       0.00      0.00      0.00         0\n",
      "           2       0.00      0.00      0.00         0\n",
      "           3       0.00      0.00      0.00         0\n",
      "           4       0.00      0.00      0.00         0\n",
      "           5       1.00      0.84      0.91      2804\n",
      "\n",
      "    accuracy                           0.84      2804\n",
      "   macro avg       0.17      0.14      0.15      2804\n",
      "weighted avg       1.00      0.84      0.91      2804\n",
      "\n",
      "----------------------------------\n",
      "LogisticRegression result\n",
      "              precision    recall  f1-score   support\n",
      "\n",
      "           0       0.00      0.00      0.00         0\n",
      "           1       0.00      0.00      0.00         0\n",
      "           2       0.00      0.00      0.00         0\n",
      "           3       0.00      0.00      0.00         0\n",
      "           4       0.00      0.00      0.00         0\n",
      "           5       1.00      0.84      0.91      2804\n",
      "\n",
      "    accuracy                           0.84      2804\n",
      "   macro avg       0.17      0.14      0.15      2804\n",
      "weighted avg       1.00      0.84      0.91      2804\n",
      "\n",
      "----------------------------------\n",
      "DecisionTreeClassifier result\n",
      "              precision    recall  f1-score   support\n",
      "\n",
      "           0       0.31      0.20      0.24        86\n",
      "           1       0.09      0.14      0.11        14\n",
      "           2       0.36      0.23      0.28        64\n",
      "           3       0.39      0.30      0.34       140\n",
      "           4       0.32      0.33      0.32       216\n",
      "           5       0.88      0.90      0.89      2284\n",
      "\n",
      "    accuracy                           0.79      2804\n",
      "   macro avg       0.39      0.35      0.36      2804\n",
      "weighted avg       0.78      0.79      0.78      2804\n",
      "\n",
      "----------------------------------\n",
      "RandomForestClassifier result\n",
      "              precision    recall  f1-score   support\n",
      "\n",
      "           0       0.28      0.94      0.43        16\n",
      "           1       0.09      1.00      0.17         2\n",
      "           2       0.29      1.00      0.44        12\n",
      "           3       0.28      1.00      0.43        30\n",
      "           4       0.22      1.00      0.36        50\n",
      "           5       1.00      0.87      0.93      2694\n",
      "\n",
      "    accuracy                           0.88      2804\n",
      "   macro avg       0.36      0.97      0.46      2804\n",
      "weighted avg       0.97      0.88      0.91      2804\n",
      "\n",
      "----------------------------------\n",
      "KNeighborsClassifier result\n",
      "              precision    recall  f1-score   support\n",
      "\n",
      "           0       0.00      0.00      0.00         0\n",
      "           1       0.00      0.00      0.00         3\n",
      "           2       0.00      0.00      0.00         4\n",
      "           3       0.05      0.24      0.08        21\n",
      "           4       0.05      0.28      0.08        40\n",
      "           5       0.98      0.85      0.91      2736\n",
      "\n",
      "    accuracy                           0.83      2804\n",
      "   macro avg       0.18      0.23      0.18      2804\n",
      "weighted avg       0.96      0.83      0.89      2804\n",
      "\n",
      "----------------------------------\n",
      "SVC result\n",
      "              precision    recall  f1-score   support\n",
      "\n",
      "           0       0.00      0.00      0.00         0\n",
      "           1       0.00      0.00      0.00         0\n",
      "           2       0.00      0.00      0.00         0\n",
      "           3       0.00      0.00      0.00         0\n",
      "           4       0.01      1.00      0.02         2\n",
      "           5       1.00      0.84      0.91      2802\n",
      "\n",
      "    accuracy                           0.84      2804\n",
      "   macro avg       0.17      0.31      0.16      2804\n",
      "weighted avg       1.00      0.84      0.91      2804\n",
      "\n",
      "----------------------------------\n"
     ]
    }
   ],
   "source": [
    "for classifier in classifiers.values():\n",
    "    train_and_predict(classifier, x_train, x_test, y_train, y_test)"
   ]
  },
  {
   "cell_type": "markdown",
   "id": "8037f4c2",
   "metadata": {},
   "source": [
    "результаты отличаются незначительно от полученных на предыдущем этапе с эмбеддингами без усреднения по предложениям. "
   ]
  },
  {
   "cell_type": "markdown",
   "id": "8549433b",
   "metadata": {},
   "source": [
    "### усредненные эмбеддинги + SMOTE"
   ]
  },
  {
   "cell_type": "markdown",
   "id": "754fcfde",
   "metadata": {},
   "source": [
    "**Стратегия 1** "
   ]
  },
  {
   "cell_type": "code",
   "execution_count": 53,
   "id": "d4bf4452",
   "metadata": {},
   "outputs": [
    {
     "name": "stdout",
     "output_type": "stream",
     "text": [
      "DecisionTreeClassifier result\n",
      "              precision    recall  f1-score   support\n",
      "\n",
      "           0       0.62      0.57      0.59       272\n",
      "           1       0.85      0.84      0.85       251\n",
      "           2       0.87      0.82      0.85       528\n",
      "           3       0.74      0.65      0.69       567\n",
      "           4       0.56      0.52      0.54       541\n",
      "           5       0.78      0.84      0.81      2193\n",
      "\n",
      "    accuracy                           0.76      4352\n",
      "   macro avg       0.74      0.71      0.72      4352\n",
      "weighted avg       0.75      0.76      0.75      4352\n",
      "\n",
      "----------------------------------\n",
      "RandomForestClassifier result\n",
      "              precision    recall  f1-score   support\n",
      "\n",
      "           0       0.66      0.99      0.80       167\n",
      "           1       0.96      1.00      0.98       240\n",
      "           2       0.97      1.00      0.98       487\n",
      "           3       0.83      0.98      0.90       422\n",
      "           4       0.56      0.99      0.72       282\n",
      "           5       1.00      0.85      0.92      2754\n",
      "\n",
      "    accuracy                           0.90      4352\n",
      "   macro avg       0.83      0.97      0.88      4352\n",
      "weighted avg       0.93      0.90      0.91      4352\n",
      "\n",
      "----------------------------------\n",
      "KNeighborsClassifier result\n",
      "              precision    recall  f1-score   support\n",
      "\n",
      "           0       0.85      0.52      0.64       410\n",
      "           1       0.99      0.77      0.86       324\n",
      "           2       1.00      0.68      0.81       730\n",
      "           3       0.92      0.49      0.64       938\n",
      "           4       0.63      0.49      0.55       644\n",
      "           5       0.51      0.93      0.66      1306\n",
      "\n",
      "    accuracy                           0.68      4352\n",
      "   macro avg       0.82      0.65      0.69      4352\n",
      "weighted avg       0.77      0.68      0.68      4352\n",
      "\n",
      "----------------------------------\n",
      "SVC result\n",
      "              precision    recall  f1-score   support\n",
      "\n",
      "           0       0.58      1.00      0.74       146\n",
      "           1       0.98      0.98      0.98       252\n",
      "           2       0.96      0.95      0.96       506\n",
      "           3       0.86      0.89      0.87       480\n",
      "           4       0.48      0.85      0.62       282\n",
      "           5       0.97      0.85      0.90      2686\n",
      "\n",
      "    accuracy                           0.88      4352\n",
      "   macro avg       0.81      0.92      0.84      4352\n",
      "weighted avg       0.91      0.88      0.89      4352\n",
      "\n",
      "----------------------------------\n"
     ]
    }
   ],
   "source": [
    "oversample = SMOTE(sampling_strategy=strategy, k_neighbors=3)\n",
    "X_new, Y_new = oversample.fit_resample(vectors, df_orig.rate)\n",
    "x_train, x_test, y_train, y_test = train_test_split(X_new, Y_new, test_size=0.25, stratify=Y_new)\n",
    "\n",
    "for name, classifier in classifiers.items(): # не будем рассматривать лог.регрессии с пенальти\n",
    "    if name in ['lr_l1', 'lr_l2']:\n",
    "        continue \n",
    "    train_and_predict(classifier, x_train, x_test, y_train, y_test)"
   ]
  },
  {
   "cell_type": "markdown",
   "id": "1faa4e20",
   "metadata": {},
   "source": [
    "**Стратегия 2**"
   ]
  },
  {
   "cell_type": "code",
   "execution_count": 54,
   "id": "63c2f573",
   "metadata": {},
   "outputs": [
    {
     "name": "stdout",
     "output_type": "stream",
     "text": [
      "DecisionTreeClassifier result\n",
      "              precision    recall  f1-score   support\n",
      "\n",
      "           0       0.96      0.93      0.94      2436\n",
      "           1       0.99      0.97      0.98      2399\n",
      "           2       0.97      0.95      0.96      2407\n",
      "           3       0.93      0.90      0.92      2448\n",
      "           4       0.88      0.83      0.85      2497\n",
      "           5       0.67      0.82      0.74      1925\n",
      "\n",
      "    accuracy                           0.90     14112\n",
      "   macro avg       0.90      0.90      0.90     14112\n",
      "weighted avg       0.91      0.90      0.90     14112\n",
      "\n",
      "----------------------------------\n",
      "RandomForestClassifier result\n",
      "              precision    recall  f1-score   support\n",
      "\n",
      "           0       1.00      1.00      1.00      2354\n",
      "           1       1.00      1.00      1.00      2353\n",
      "           2       1.00      1.00      1.00      2355\n",
      "           3       1.00      0.99      1.00      2363\n",
      "           4       0.98      0.97      0.98      2374\n",
      "           5       0.96      0.98      0.97      2313\n",
      "\n",
      "    accuracy                           0.99     14112\n",
      "   macro avg       0.99      0.99      0.99     14112\n",
      "weighted avg       0.99      0.99      0.99     14112\n",
      "\n",
      "----------------------------------\n",
      "KNeighborsClassifier result\n",
      "              precision    recall  f1-score   support\n",
      "\n",
      "           0       1.00      0.85      0.92      2749\n",
      "           1       1.00      0.97      0.98      2428\n",
      "           2       1.00      0.93      0.97      2520\n",
      "           3       1.00      0.83      0.91      2828\n",
      "           4       0.98      0.77      0.86      3010\n",
      "           5       0.24      0.96      0.38       577\n",
      "\n",
      "    accuracy                           0.87     14112\n",
      "   macro avg       0.87      0.89      0.84     14112\n",
      "weighted avg       0.97      0.87      0.90     14112\n",
      "\n",
      "----------------------------------\n",
      "SVC result\n",
      "              precision    recall  f1-score   support\n",
      "\n",
      "           0       1.00      0.99      0.99      2366\n",
      "           1       1.00      1.00      1.00      2353\n",
      "           2       1.00      0.99      1.00      2367\n",
      "           3       1.00      0.98      0.99      2389\n",
      "           4       0.98      0.94      0.96      2462\n",
      "           5       0.91      0.98      0.94      2175\n",
      "\n",
      "    accuracy                           0.98     14112\n",
      "   macro avg       0.98      0.98      0.98     14112\n",
      "weighted avg       0.98      0.98      0.98     14112\n",
      "\n",
      "----------------------------------\n"
     ]
    }
   ],
   "source": [
    "oversample = SMOTE(sampling_strategy='not majority', k_neighbors=3)\n",
    "X_new, Y_new = oversample.fit_resample(vectors, df_orig.rate)\n",
    "x_train, x_test, y_train, y_test = train_test_split(X_new, Y_new, test_size=0.25, stratify=Y_new)\n",
    "\n",
    "for name, classifier in classifiers.items(): \n",
    "    if name in ['lr_l1', 'lr_l2']:\n",
    "        continue \n",
    "    train_and_predict(classifier, x_train, x_test, y_train, y_test)"
   ]
  },
  {
   "cell_type": "code",
   "execution_count": null,
   "id": "f2f277ce",
   "metadata": {},
   "outputs": [],
   "source": []
  },
  {
   "cell_type": "code",
   "execution_count": null,
   "id": "00bb7e24",
   "metadata": {},
   "outputs": [],
   "source": []
  },
  {
   "cell_type": "markdown",
   "id": "de34f7ba",
   "metadata": {},
   "source": [
    "### дополнительный датасет (отзывы с другого сайта) как тестовый"
   ]
  },
  {
   "cell_type": "code",
   "execution_count": 55,
   "id": "099d1cdd",
   "metadata": {},
   "outputs": [
    {
     "data": {
      "text/html": [
       "<div>\n",
       "<style scoped>\n",
       "    .dataframe tbody tr th:only-of-type {\n",
       "        vertical-align: middle;\n",
       "    }\n",
       "\n",
       "    .dataframe tbody tr th {\n",
       "        vertical-align: top;\n",
       "    }\n",
       "\n",
       "    .dataframe thead th {\n",
       "        text-align: right;\n",
       "    }\n",
       "</style>\n",
       "<table border=\"1\" class=\"dataframe\">\n",
       "  <thead>\n",
       "    <tr style=\"text-align: right;\">\n",
       "      <th></th>\n",
       "      <th>Unnamed: 0</th>\n",
       "      <th>author</th>\n",
       "      <th>date</th>\n",
       "      <th>product_id</th>\n",
       "      <th>product_name</th>\n",
       "      <th>firm</th>\n",
       "      <th>rate</th>\n",
       "      <th>text</th>\n",
       "      <th>topic</th>\n",
       "    </tr>\n",
       "  </thead>\n",
       "  <tbody>\n",
       "    <tr>\n",
       "      <th>0</th>\n",
       "      <td>0</td>\n",
       "      <td>Денис</td>\n",
       "      <td>19.2.20</td>\n",
       "      <td>GIT0029798-000</td>\n",
       "      <td>EB2146 12-54 Earthwood Phosphor Bronze Regular...</td>\n",
       "      <td>Ernie Ball</td>\n",
       "      <td>5</td>\n",
       "      <td>Тут как всегда - отличное качество и звучание</td>\n",
       "      <td>Супер</td>\n",
       "    </tr>\n",
       "    <tr>\n",
       "      <th>1</th>\n",
       "      <td>1</td>\n",
       "      <td>Olga Soboleva</td>\n",
       "      <td>11.8.16</td>\n",
       "      <td>PAH0007008-000</td>\n",
       "      <td>ZED-12FX 6 x mono, 3 x stereo, USB, FX</td>\n",
       "      <td>Allen &amp; Heath</td>\n",
       "      <td>5</td>\n",
       "      <td>За недорогую   цену хорошего   качества микшер...</td>\n",
       "      <td>Недорого   и   качественно, хороший микшер.</td>\n",
       "    </tr>\n",
       "    <tr>\n",
       "      <th>2</th>\n",
       "      <td>2</td>\n",
       "      <td>Иван</td>\n",
       "      <td>18.11.20</td>\n",
       "      <td>PCM0014110-000</td>\n",
       "      <td></td>\n",
       "      <td>ESI</td>\n",
       "      <td>5</td>\n",
       "      <td>Доставка и упаковка как всегда на высоте. Карт...</td>\n",
       "      <td>Карта Esi 22 xt</td>\n",
       "    </tr>\n",
       "    <tr>\n",
       "      <th>3</th>\n",
       "      <td>3</td>\n",
       "      <td>лютый</td>\n",
       "      <td>14.2.20</td>\n",
       "      <td>GIT0039047-000</td>\n",
       "      <td>Cleaning Cloth</td>\n",
       "      <td>Fame</td>\n",
       "      <td>5</td>\n",
       "      <td>Типичная гитарная тряпочка, без переплаты</td>\n",
       "      <td>Нормальная салфетка</td>\n",
       "    </tr>\n",
       "    <tr>\n",
       "      <th>4</th>\n",
       "      <td>4</td>\n",
       "      <td>Artem</td>\n",
       "      <td>16.6.19</td>\n",
       "      <td>PCM0015562-000</td>\n",
       "      <td>Studio 24C</td>\n",
       "      <td>Presonus</td>\n",
       "      <td>5</td>\n",
       "      <td>Ни так давно попробовал DAW Presonus Studio On...</td>\n",
       "      <td>Классная звуковая, и классный софт в комплекте...</td>\n",
       "    </tr>\n",
       "  </tbody>\n",
       "</table>\n",
       "</div>"
      ],
      "text/plain": [
       "   Unnamed: 0         author      date      product_id  \\\n",
       "0           0          Денис   19.2.20  GIT0029798-000   \n",
       "1           1  Olga Soboleva   11.8.16  PAH0007008-000   \n",
       "2           2           Иван  18.11.20  PCM0014110-000   \n",
       "3           3          лютый   14.2.20  GIT0039047-000   \n",
       "4           4          Artem   16.6.19  PCM0015562-000   \n",
       "\n",
       "                                        product_name           firm  rate  \\\n",
       "0  EB2146 12-54 Earthwood Phosphor Bronze Regular...     Ernie Ball     5   \n",
       "1             ZED-12FX 6 x mono, 3 x stereo, USB, FX  Allen & Heath     5   \n",
       "2                                                               ESI     5   \n",
       "3                                     Cleaning Cloth           Fame     5   \n",
       "4                                         Studio 24C       Presonus     5   \n",
       "\n",
       "                                                text  \\\n",
       "0      Тут как всегда - отличное качество и звучание   \n",
       "1  За недорогую   цену хорошего   качества микшер...   \n",
       "2  Доставка и упаковка как всегда на высоте. Карт...   \n",
       "3          Типичная гитарная тряпочка, без переплаты   \n",
       "4  Ни так давно попробовал DAW Presonus Studio On...   \n",
       "\n",
       "                                               topic  \n",
       "0                                              Супер  \n",
       "1        Недорого   и   качественно, хороший микшер.  \n",
       "2                                    Карта Esi 22 xt  \n",
       "3                                Нормальная салфетка  \n",
       "4  Классная звуковая, и классный софт в комплекте...  "
      ]
     },
     "execution_count": 55,
     "metadata": {},
     "output_type": "execute_result"
    }
   ],
   "source": [
    "df_test = pd.read_csv('Data/reviews_musicstore.csv')\n",
    "df_test.head()"
   ]
  },
  {
   "cell_type": "code",
   "execution_count": 56,
   "id": "d173b9f4",
   "metadata": {},
   "outputs": [],
   "source": [
    "df_test = df_test[['rate', 'text']]"
   ]
  },
  {
   "cell_type": "code",
   "execution_count": 57,
   "id": "c846e07c",
   "metadata": {},
   "outputs": [
    {
     "data": {
      "text/plain": [
       "5    5307\n",
       "4     627\n",
       "3      73\n",
       "2      19\n",
       "1       8\n",
       "0       6\n",
       "Name: rate, dtype: int64"
      ]
     },
     "execution_count": 57,
     "metadata": {},
     "output_type": "execute_result"
    }
   ],
   "source": [
    "df_test.rate.value_counts()"
   ]
  },
  {
   "cell_type": "code",
   "execution_count": 58,
   "id": "b8b4c39e",
   "metadata": {},
   "outputs": [],
   "source": [
    "df_test['sentences'] = df_test['text'].apply(lambda x: review_to_sentences(x, tokenizer))"
   ]
  },
  {
   "cell_type": "code",
   "execution_count": 59,
   "id": "09124513",
   "metadata": {},
   "outputs": [
    {
     "data": {
      "text/html": [
       "<div>\n",
       "<style scoped>\n",
       "    .dataframe tbody tr th:only-of-type {\n",
       "        vertical-align: middle;\n",
       "    }\n",
       "\n",
       "    .dataframe tbody tr th {\n",
       "        vertical-align: top;\n",
       "    }\n",
       "\n",
       "    .dataframe thead th {\n",
       "        text-align: right;\n",
       "    }\n",
       "</style>\n",
       "<table border=\"1\" class=\"dataframe\">\n",
       "  <thead>\n",
       "    <tr style=\"text-align: right;\">\n",
       "      <th></th>\n",
       "      <th>rate</th>\n",
       "      <th>text</th>\n",
       "      <th>sentences</th>\n",
       "    </tr>\n",
       "  </thead>\n",
       "  <tbody>\n",
       "    <tr>\n",
       "      <th>0</th>\n",
       "      <td>5</td>\n",
       "      <td>Тут как всегда - отличное качество и звучание</td>\n",
       "      <td>[тут как всегда отличный качество и звучание]</td>\n",
       "    </tr>\n",
       "    <tr>\n",
       "      <th>1</th>\n",
       "      <td>5</td>\n",
       "      <td>За недорогую   цену хорошего   качества микшер...</td>\n",
       "      <td>[за недорогой цена хороший качество микшерный ...</td>\n",
       "    </tr>\n",
       "    <tr>\n",
       "      <th>2</th>\n",
       "      <td>5</td>\n",
       "      <td>Доставка и упаковка как всегда на высоте. Карт...</td>\n",
       "      <td>[доставка и упаковка как всегда на высота, кар...</td>\n",
       "    </tr>\n",
       "    <tr>\n",
       "      <th>3</th>\n",
       "      <td>5</td>\n",
       "      <td>Типичная гитарная тряпочка, без переплаты</td>\n",
       "      <td>[типичный гитарный тряпочка без переплата]</td>\n",
       "    </tr>\n",
       "    <tr>\n",
       "      <th>4</th>\n",
       "      <td>5</td>\n",
       "      <td>Ни так давно попробовал DAW Presonus Studio On...</td>\n",
       "      <td>[ни так давно попробовать потестировать неделя...</td>\n",
       "    </tr>\n",
       "  </tbody>\n",
       "</table>\n",
       "</div>"
      ],
      "text/plain": [
       "   rate                                               text  \\\n",
       "0     5      Тут как всегда - отличное качество и звучание   \n",
       "1     5  За недорогую   цену хорошего   качества микшер...   \n",
       "2     5  Доставка и упаковка как всегда на высоте. Карт...   \n",
       "3     5          Типичная гитарная тряпочка, без переплаты   \n",
       "4     5  Ни так давно попробовал DAW Presonus Studio On...   \n",
       "\n",
       "                                           sentences  \n",
       "0      [тут как всегда отличный качество и звучание]  \n",
       "1  [за недорогой цена хороший качество микшерный ...  \n",
       "2  [доставка и упаковка как всегда на высота, кар...  \n",
       "3         [типичный гитарный тряпочка без переплата]  \n",
       "4  [ни так давно попробовать потестировать неделя...  "
      ]
     },
     "execution_count": 59,
     "metadata": {},
     "output_type": "execute_result"
    }
   ],
   "source": [
    "df_test.head()"
   ]
  },
  {
   "cell_type": "code",
   "execution_count": 60,
   "id": "a7451905",
   "metadata": {},
   "outputs": [
    {
     "data": {
      "text/plain": [
       "rate         0\n",
       "text         0\n",
       "sentences    0\n",
       "dtype: int64"
      ]
     },
     "execution_count": 60,
     "metadata": {},
     "output_type": "execute_result"
    }
   ],
   "source": [
    "df_test.isnull().sum()"
   ]
  },
  {
   "cell_type": "code",
   "execution_count": 61,
   "id": "745e0b7c",
   "metadata": {},
   "outputs": [
    {
     "name": "stderr",
     "output_type": "stream",
     "text": [
      "100%|██████████████████████████████████████████████████████████████████████████████| 6040/6040 [14:41<00:00,  6.85it/s]\n"
     ]
    }
   ],
   "source": [
    "test_vectors = [get_avg_embed(sents) for sents in tqdm(df_test.sentences)]"
   ]
  },
  {
   "cell_type": "code",
   "execution_count": 70,
   "id": "2921210f",
   "metadata": {},
   "outputs": [],
   "source": [
    "x_train, y_train = vectors, df_orig.rate\n",
    "x_test, y_test = test_vectors, df_test.rate"
   ]
  },
  {
   "cell_type": "code",
   "execution_count": 71,
   "id": "6d6d72b3",
   "metadata": {},
   "outputs": [
    {
     "name": "stdout",
     "output_type": "stream",
     "text": [
      "LogisticRegression result\n",
      "              precision    recall  f1-score   support\n",
      "\n",
      "           0       0.00      0.00      0.00         0\n",
      "           1       0.00      0.00      0.00         0\n",
      "           2       0.00      0.00      0.00         0\n",
      "           3       0.00      0.00      0.00         0\n",
      "           4       0.00      0.00      0.00         0\n",
      "           5       1.00      0.88      0.94      6040\n",
      "\n",
      "    accuracy                           0.88      6040\n",
      "   macro avg       0.17      0.15      0.16      6040\n",
      "weighted avg       1.00      0.88      0.94      6040\n",
      "\n",
      "----------------------------------\n",
      "LogisticRegression result\n",
      "              precision    recall  f1-score   support\n",
      "\n",
      "           0       0.00      0.00      0.00         0\n",
      "           1       0.00      0.00      0.00         0\n",
      "           2       0.00      0.00      0.00         0\n",
      "           3       0.00      0.00      0.00         0\n",
      "           4       0.00      0.00      0.00         0\n",
      "           5       1.00      0.88      0.94      6040\n",
      "\n",
      "    accuracy                           0.88      6040\n",
      "   macro avg       0.17      0.15      0.16      6040\n",
      "weighted avg       1.00      0.88      0.94      6040\n",
      "\n",
      "----------------------------------\n",
      "DecisionTreeClassifier result\n",
      "              precision    recall  f1-score   support\n",
      "\n",
      "           0       0.00      0.00      0.00        89\n",
      "           1       0.00      0.00      0.00        61\n",
      "           2       0.05      0.01      0.02       107\n",
      "           3       0.05      0.02      0.02       265\n",
      "           4       0.12      0.13      0.13       598\n",
      "           5       0.83      0.89      0.86      4920\n",
      "\n",
      "    accuracy                           0.74      6040\n",
      "   macro avg       0.18      0.17      0.17      6040\n",
      "weighted avg       0.69      0.74      0.71      6040\n",
      "\n",
      "----------------------------------\n",
      "RandomForestClassifier result\n",
      "              precision    recall  f1-score   support\n",
      "\n",
      "           0       0.00      0.00      0.00         0\n",
      "           1       0.00      0.00      0.00         0\n",
      "           2       0.00      0.00      0.00         0\n",
      "           3       0.00      0.00      0.00         0\n",
      "           4       0.00      0.00      0.00         0\n",
      "           5       1.00      0.88      0.94      6040\n",
      "\n",
      "    accuracy                           0.88      6040\n",
      "   macro avg       0.17      0.15      0.16      6040\n",
      "weighted avg       1.00      0.88      0.94      6040\n",
      "\n",
      "----------------------------------\n",
      "KNeighborsClassifier result\n",
      "              precision    recall  f1-score   support\n",
      "\n",
      "           0       0.00      0.00      0.00         3\n",
      "           1       0.00      0.00      0.00         7\n",
      "           2       0.05      0.08      0.06        13\n",
      "           3       0.01      0.03      0.02        40\n",
      "           4       0.02      0.12      0.03        85\n",
      "           5       0.98      0.88      0.93      5892\n",
      "\n",
      "    accuracy                           0.86      6040\n",
      "   macro avg       0.18      0.18      0.17      6040\n",
      "weighted avg       0.95      0.86      0.90      6040\n",
      "\n",
      "----------------------------------\n",
      "SVC result\n",
      "              precision    recall  f1-score   support\n",
      "\n",
      "           0       0.00      0.00      0.00         0\n",
      "           1       0.00      0.00      0.00         0\n",
      "           2       0.00      0.00      0.00         0\n",
      "           3       0.00      0.00      0.00         0\n",
      "           4       0.00      0.00      0.00         0\n",
      "           5       1.00      0.88      0.94      6040\n",
      "\n",
      "    accuracy                           0.88      6040\n",
      "   macro avg       0.17      0.15      0.16      6040\n",
      "weighted avg       1.00      0.88      0.94      6040\n",
      "\n",
      "----------------------------------\n"
     ]
    }
   ],
   "source": [
    "for classifier in classifiers.values(): \n",
    "    train_and_predict(classifier, x_train, x_test, y_train, y_test)"
   ]
  },
  {
   "cell_type": "markdown",
   "id": "96eed795",
   "metadata": {},
   "source": [
    "Модели показывают высокую accuracy только за счет того, что в основном предсказывают самый распространенный класс 5"
   ]
  },
  {
   "cell_type": "markdown",
   "id": "5fca4ec0",
   "metadata": {},
   "source": [
    "### Oversampling на основном датасете, проверка на тестовом"
   ]
  },
  {
   "cell_type": "markdown",
   "id": "c458ec92",
   "metadata": {},
   "source": [
    "**Стратегия 1**"
   ]
  },
  {
   "cell_type": "code",
   "execution_count": 68,
   "id": "392379b4",
   "metadata": {},
   "outputs": [],
   "source": [
    "oversample = SMOTE(sampling_strategy=strategy, k_neighbors=5)\n",
    "X_new, Y_new = oversample.fit_resample(vectors, df_orig.rate)"
   ]
  },
  {
   "cell_type": "code",
   "execution_count": 69,
   "id": "d6854860",
   "metadata": {},
   "outputs": [
    {
     "name": "stdout",
     "output_type": "stream",
     "text": [
      "LogisticRegression result\n",
      "              precision    recall  f1-score   support\n",
      "\n",
      "           0       0.00      0.00      0.00         0\n",
      "           1       0.00      0.00      0.00        34\n",
      "           2       0.16      0.01      0.02       223\n",
      "           3       0.00      0.00      0.00        68\n",
      "           4       0.00      0.60      0.01         5\n",
      "           5       0.96      0.89      0.92      5710\n",
      "\n",
      "    accuracy                           0.84      6040\n",
      "   macro avg       0.19      0.25      0.16      6040\n",
      "weighted avg       0.91      0.84      0.87      6040\n",
      "\n",
      "----------------------------------\n",
      "LogisticRegression result\n",
      "              precision    recall  f1-score   support\n",
      "\n",
      "           0       0.00      0.00      0.00         0\n",
      "           1       0.00      0.00      0.00         9\n",
      "           2       0.21      0.02      0.04       171\n",
      "           3       0.04      0.03      0.04        88\n",
      "           4       0.00      0.11      0.01        18\n",
      "           5       0.96      0.89      0.92      5754\n",
      "\n",
      "    accuracy                           0.85      6040\n",
      "   macro avg       0.20      0.18      0.17      6040\n",
      "weighted avg       0.92      0.85      0.88      6040\n",
      "\n",
      "----------------------------------\n",
      "DecisionTreeClassifier result\n",
      "              precision    recall  f1-score   support\n",
      "\n",
      "           0       0.00      0.00      0.00       204\n",
      "           1       0.00      0.00      0.00       116\n",
      "           2       0.05      0.00      0.01       218\n",
      "           3       0.22      0.04      0.07       371\n",
      "           4       0.13      0.13      0.13       646\n",
      "           5       0.76      0.89      0.82      4485\n",
      "\n",
      "    accuracy                           0.68      6040\n",
      "   macro avg       0.19      0.18      0.17      6040\n",
      "weighted avg       0.59      0.68      0.63      6040\n",
      "\n",
      "----------------------------------\n",
      "RandomForestClassifier result\n",
      "              precision    recall  f1-score   support\n",
      "\n",
      "           0       0.00      0.00      0.00         0\n",
      "           1       0.00      0.00      0.00         0\n",
      "           2       0.05      0.33      0.09         3\n",
      "           3       0.00      0.00      0.00         9\n",
      "           4       0.00      0.33      0.00         3\n",
      "           5       1.00      0.88      0.93      6025\n",
      "\n",
      "    accuracy                           0.88      6040\n",
      "   macro avg       0.18      0.26      0.17      6040\n",
      "weighted avg       1.00      0.88      0.93      6040\n",
      "\n",
      "----------------------------------\n",
      "KNeighborsClassifier result\n",
      "              precision    recall  f1-score   support\n",
      "\n",
      "           0       0.00      0.00      0.00       116\n",
      "           1       0.25      0.01      0.02       254\n",
      "           2       0.16      0.01      0.01       435\n",
      "           3       0.33      0.02      0.04      1000\n",
      "           4       0.16      0.11      0.13       872\n",
      "           5       0.57      0.90      0.70      3363\n",
      "\n",
      "    accuracy                           0.52      6040\n",
      "   macro avg       0.24      0.18      0.15      6040\n",
      "weighted avg       0.42      0.52      0.42      6040\n",
      "\n",
      "----------------------------------\n",
      "SVC result\n",
      "              precision    recall  f1-score   support\n",
      "\n",
      "           0       0.00      0.00      0.00         0\n",
      "           1       0.00      0.00      0.00        15\n",
      "           2       0.16      0.07      0.09        46\n",
      "           3       0.11      0.06      0.08       130\n",
      "           4       0.05      0.29      0.09       112\n",
      "           5       0.96      0.89      0.93      5737\n",
      "\n",
      "    accuracy                           0.85      6040\n",
      "   macro avg       0.21      0.22      0.20      6040\n",
      "weighted avg       0.92      0.85      0.88      6040\n",
      "\n",
      "----------------------------------\n"
     ]
    }
   ],
   "source": [
    "for classifier in classifiers.values(): \n",
    "    train_and_predict(classifier, X_new, test_vectors, Y_new, df_test.rate)"
   ]
  },
  {
   "cell_type": "markdown",
   "id": "f4791c83",
   "metadata": {},
   "source": [
    "**Стратегия 2**"
   ]
  },
  {
   "cell_type": "code",
   "execution_count": 64,
   "id": "ef80ea9b",
   "metadata": {},
   "outputs": [],
   "source": [
    "oversample = SMOTE(sampling_strategy='not majority', k_neighbors=3)\n",
    "X_new, Y_new = oversample.fit_resample(vectors, df_orig.rate)"
   ]
  },
  {
   "cell_type": "code",
   "execution_count": 67,
   "id": "45512182",
   "metadata": {},
   "outputs": [
    {
     "name": "stdout",
     "output_type": "stream",
     "text": [
      "LogisticRegression result\n",
      "              precision    recall  f1-score   support\n",
      "\n",
      "           0       0.00      0.00      0.00       233\n",
      "           1       0.25      0.01      0.01       347\n",
      "           2       0.21      0.01      0.02       323\n",
      "           3       0.21      0.02      0.04       630\n",
      "           4       0.49      0.11      0.18      2895\n",
      "           5       0.29      0.95      0.44      1612\n",
      "\n",
      "    accuracy                           0.31      6040\n",
      "   macro avg       0.24      0.18      0.12      6040\n",
      "weighted avg       0.36      0.31      0.21      6040\n",
      "\n",
      "----------------------------------\n",
      "LogisticRegression result\n",
      "              precision    recall  f1-score   support\n",
      "\n",
      "           0       0.00      0.00      0.00       129\n",
      "           1       0.25      0.01      0.01       357\n",
      "           2       0.11      0.01      0.01       302\n",
      "           3       0.22      0.02      0.04       646\n",
      "           4       0.51      0.10      0.17      3082\n",
      "           5       0.27      0.95      0.42      1524\n",
      "\n",
      "    accuracy                           0.29      6040\n",
      "   macro avg       0.23      0.18      0.11      6040\n",
      "weighted avg       0.37      0.29      0.20      6040\n",
      "\n",
      "----------------------------------\n",
      "DecisionTreeClassifier result\n",
      "              precision    recall  f1-score   support\n",
      "\n",
      "           0       0.00      0.00      0.00       273\n",
      "           1       0.25      0.02      0.03       126\n",
      "           2       0.00      0.00      0.00       195\n",
      "           3       0.10      0.02      0.03       435\n",
      "           4       0.42      0.10      0.16      2593\n",
      "           5       0.41      0.89      0.56      2418\n",
      "\n",
      "    accuracy                           0.40      6040\n",
      "   macro avg       0.20      0.17      0.13      6040\n",
      "weighted avg       0.36      0.40      0.30      6040\n",
      "\n",
      "----------------------------------\n",
      "RandomForestClassifier result\n",
      "              precision    recall  f1-score   support\n",
      "\n",
      "           0       0.00      0.00      0.00         4\n",
      "           1       0.00      0.00      0.00         1\n",
      "           2       0.00      0.00      0.00         9\n",
      "           3       0.03      0.04      0.03        48\n",
      "           4       0.34      0.11      0.16      1938\n",
      "           5       0.67      0.88      0.76      4040\n",
      "\n",
      "    accuracy                           0.63      6040\n",
      "   macro avg       0.17      0.17      0.16      6040\n",
      "weighted avg       0.56      0.63      0.56      6040\n",
      "\n",
      "----------------------------------\n",
      "KNeighborsClassifier result\n",
      "              precision    recall  f1-score   support\n",
      "\n",
      "           0       0.00      0.00      0.00       204\n",
      "           1       0.12      0.00      0.01       245\n",
      "           2       0.05      0.00      0.01       343\n",
      "           3       0.29      0.02      0.03      1208\n",
      "           4       0.53      0.10      0.17      3353\n",
      "           5       0.12      0.93      0.21       687\n",
      "\n",
      "    accuracy                           0.17      6040\n",
      "   macro avg       0.19      0.18      0.07      6040\n",
      "weighted avg       0.38      0.17      0.12      6040\n",
      "\n",
      "----------------------------------\n",
      "SVC result\n",
      "              precision    recall  f1-score   support\n",
      "\n",
      "           0       0.00      0.00      0.00         1\n",
      "           1       0.00      0.00      0.00        13\n",
      "           2       0.11      0.06      0.08        33\n",
      "           3       0.10      0.06      0.07       125\n",
      "           4       0.40      0.12      0.18      2125\n",
      "           5       0.64      0.90      0.74      3743\n",
      "\n",
      "    accuracy                           0.60      6040\n",
      "   macro avg       0.21      0.19      0.18      6040\n",
      "weighted avg       0.54      0.60      0.53      6040\n",
      "\n",
      "----------------------------------\n"
     ]
    }
   ],
   "source": [
    "for classifier in classifiers.values(): \n",
    "    train_and_predict(classifier, X_new, test_vectors, Y_new, df_test.rate)"
   ]
  },
  {
   "cell_type": "markdown",
   "id": "02d95b50",
   "metadata": {},
   "source": [
    "Снова низкие скоры для всех оценок, кроме 5"
   ]
  },
  {
   "cell_type": "code",
   "execution_count": null,
   "id": "24e65335",
   "metadata": {},
   "outputs": [],
   "source": []
  }
 ],
 "metadata": {
  "kernelspec": {
   "display_name": "Python 3",
   "language": "python",
   "name": "python3"
  },
  "language_info": {
   "codemirror_mode": {
    "name": "ipython",
    "version": 3
   },
   "file_extension": ".py",
   "mimetype": "text/x-python",
   "name": "python",
   "nbconvert_exporter": "python",
   "pygments_lexer": "ipython3",
   "version": "3.8.8"
  }
 },
 "nbformat": 4,
 "nbformat_minor": 5
}
