{
 "cells": [
  {
   "cell_type": "markdown",
   "id": "081cb14a",
   "metadata": {},
   "source": [
    "### imports"
   ]
  },
  {
   "cell_type": "code",
   "execution_count": 1,
   "id": "3ad60538",
   "metadata": {},
   "outputs": [],
   "source": [
    "import pandas as pd\n",
    "import numpy as np\n",
    "import seaborn as sns\n",
    "import matplotlib.pyplot as plt \n",
    "\n",
    "import tensorflow as tf\n",
    "import tensorflow_hub as hub\n",
    "import tensorflow_text\n",
    "from tensorflow.keras.models import Sequential\n",
    "from tensorflow.keras.layers import Embedding, Dense, Dropout\n",
    "from tensorflow.keras.optimizers import Adam\n",
    "from tensorflow.keras import utils\n",
    "from tensorflow.keras import metrics\n",
    "from datasets import load_dataset, Dataset\n",
    "from transformers import BertForSequenceClassification, AutoTokenizer\n",
    "from transformers import AdamW, get_linear_schedule_with_warmup\n",
    "import torch\n",
    "from torch.utils.data import TensorDataset\n",
    "from torch.utils.data import DataLoader, RandomSampler, SequentialSampler\n",
    "\n",
    "from tqdm import tqdm \n",
    "from collections import Counter\n",
    "import random\n",
    "\n",
    "from sklearn.model_selection import train_test_split, cross_val_score, GridSearchCV\n",
    "from sklearn.metrics import accuracy_score, classification_report, roc_auc_score, roc_curve, auc,confusion_matrix, f1_score\n",
    "from sklearn.preprocessing import LabelEncoder\n",
    "\n",
    "from sklearn.linear_model import LogisticRegression\n",
    "from sklearn.tree import DecisionTreeClassifier\n",
    "from sklearn.ensemble import RandomForestClassifier\n",
    "from sklearn.neighbors import KNeighborsClassifier\n",
    "from sklearn.svm import SVC\n",
    "\n",
    "from imblearn.over_sampling import SMOTE\n",
    "from imblearn.under_sampling import EditedNearestNeighbours\n",
    "\n",
    "import nltk\n",
    "import pymorphy2\n",
    "import re\n",
    "from nltk.corpus import stopwords\n",
    "from nltk import ngrams\n",
    "\n",
    "from mtranslate import translate as translate_new\n",
    "import pickle"
   ]
  },
  {
   "cell_type": "code",
   "execution_count": null,
   "id": "f09444ff",
   "metadata": {},
   "outputs": [],
   "source": [
    "import warnings\n",
    "warnings.simplefilter('ignore')"
   ]
  },
  {
   "cell_type": "markdown",
   "id": "0116b44d",
   "metadata": {},
   "source": [
    "#### useful visualization functions"
   ]
  },
  {
   "cell_type": "code",
   "execution_count": 58,
   "id": "8d2645db",
   "metadata": {},
   "outputs": [],
   "source": [
    "def plot_distribution(df, columns):\n",
    "    \"\"\"\n",
    "    Построение гистограмм для списка колонок датафрейма\n",
    "    \"\"\"\n",
    "    for col in columns:\n",
    "        if df[col].dtype == object:\n",
    "            continue\n",
    "        plt.figure(figsize=(9, 7))\n",
    "        sns.distplot(df[col], bins=50)\n",
    "        plt.title(f'{col} distribution')\n",
    "        plt.show()\n",
    "        \n",
    "def plot_count(df, columns):\n",
    "    \"\"\"\n",
    "    Построение столбчатых диаграмм для списка колонок датафрейма\n",
    "    \"\"\"\n",
    "    for col in columns:\n",
    "        plt.figure(figsize=(9, 7))\n",
    "        sns.countplot(x=df[col], data=df)\n",
    "        plt.title(f'{col} distribution')\n",
    "        plt.show()\n",
    "        \n",
    "def plot_confusion_matrix(cm, classes,\n",
    "                          normalize=False,\n",
    "                          title='Confusion matrix',\n",
    "                          cmap=plt.cm.Blues):\n",
    "    \"\"\"\n",
    "    Визуализация матрицы ошибок\n",
    "    \"\"\"\n",
    "    \n",
    "    plt.imshow(cm, interpolation='nearest', cmap=cmap)\n",
    "    plt.title(title)\n",
    "    plt.colorbar()\n",
    "    tick_marks = np.arange(len(classes))\n",
    "    plt.xticks(tick_marks, classes, rotation=45)\n",
    "    plt.yticks(tick_marks, classes)\n",
    "\n",
    "    if normalize:\n",
    "        cm = cm.astype('float') / cm.sum(axis=1)[:, np.newaxis]\n",
    "        print(\"Normalized confusion matrix\")\n",
    "    else:\n",
    "        print('Confusion matrix, without normalization')\n",
    "\n",
    "    thresh = cm.max() / 2.\n",
    "    for i in range (cm.shape[0]):\n",
    "        for j in range (cm.shape[1]):\n",
    "            plt.text(j, i, cm[i, j],\n",
    "                 horizontalalignment=\"center\",\n",
    "                 color=\"white\" if cm[i, j] > thresh else \"black\")\n",
    "\n",
    "    plt.tight_layout()\n",
    "    plt.ylabel('True label')\n",
    "    plt.xlabel('Predicted label')\n",
    "    \n",
    "def plot_nn_metrics(history):  \n",
    "    \"\"\"\n",
    "    Визуализация изменения значений функции потерь и метрики accuracy в процессе обучения нейросети \n",
    "    \"\"\"\n",
    "    fig, ax = plt.subplots(nrows=1, ncols=2, figsize=(15, 5))\n",
    "\n",
    "    plt.subplots_adjust(wspace=0.3, hspace=0.5) \n",
    "\n",
    "    ax[0].plot(history.history['accuracy'], \n",
    "             label='Доля верных ответов на train')\n",
    "    ax[0].plot(history.history['val_accuracy'], \n",
    "             label='Доля верных ответов на val')\n",
    "    ax[0].legend()\n",
    "    ax[0].set_title('Метрика \"accuracy\"', fontsize=15)\n",
    "\n",
    "\n",
    "    ax[1].plot(history.history['loss'], \n",
    "             label='Потери на train')\n",
    "    ax[1].plot(history.history['val_loss'], \n",
    "             label='Потери на val')\n",
    "    ax[1].legend()\n",
    "    ax[1].set_title('Метрика \"loss\"', fontsize=15)\n",
    "    \n",
    "    \n",
    "def plot_multiclass_roc(y_pred, y_test, n_classes, figsize=(10, 7)):\n",
    "    \n",
    "    # structures\n",
    "    fpr = dict()\n",
    "    tpr = dict()\n",
    "    roc_auc = dict()\n",
    "\n",
    "    # calculate dummies once\n",
    "    y_test_dummies = pd.get_dummies(y_test, drop_first=False).values\n",
    "    for i in range(n_classes):\n",
    "        fpr[i], tpr[i], _ = roc_curve(y_test_dummies[:, i], y_pred[:, i])\n",
    "        roc_auc[i] = auc(fpr[i], tpr[i])\n",
    "\n",
    "    # roc for each class\n",
    "    fig, ax = plt.subplots(figsize=figsize)\n",
    "    ax.plot([0, 1], [0, 1], 'k--')\n",
    "    ax.set_xlim([0.0, 1.0])\n",
    "    ax.set_ylim([0.0, 1.05])\n",
    "    ax.set_xlabel('False Positive Rate')\n",
    "    ax.set_ylabel('True Positive Rate')\n",
    "    ax.set_title('Receiver operating characteristic example')\n",
    "    for i in range(n_classes):\n",
    "        ax.plot(fpr[i], tpr[i], label='ROC curve (area = %0.2f) for label %i' % (roc_auc[i], i))\n",
    "    ax.legend(loc=\"best\")\n",
    "    ax.grid(alpha=.4)\n",
    "    sns.despine()\n",
    "    plt.show()"
   ]
  },
  {
   "cell_type": "markdown",
   "id": "5af51fa4",
   "metadata": {},
   "source": [
    "### Intro"
   ]
  },
  {
   "cell_type": "markdown",
   "id": "c18c11d3",
   "metadata": {},
   "source": [
    "Данные собраны с сайта музыкального магазина pop-music.ru. Скрипты по сбору данных содержатся в ноутбуках Collecting links.ipynb и Collecting data.ipynb"
   ]
  },
  {
   "cell_type": "code",
   "execution_count": 741,
   "id": "992d6797",
   "metadata": {},
   "outputs": [
    {
     "data": {
      "text/html": [
       "<div>\n",
       "<style scoped>\n",
       "    .dataframe tbody tr th:only-of-type {\n",
       "        vertical-align: middle;\n",
       "    }\n",
       "\n",
       "    .dataframe tbody tr th {\n",
       "        vertical-align: top;\n",
       "    }\n",
       "\n",
       "    .dataframe thead th {\n",
       "        text-align: right;\n",
       "    }\n",
       "</style>\n",
       "<table border=\"1\" class=\"dataframe\">\n",
       "  <thead>\n",
       "    <tr style=\"text-align: right;\">\n",
       "      <th></th>\n",
       "      <th>author</th>\n",
       "      <th>date</th>\n",
       "      <th>product_id</th>\n",
       "      <th>product_name</th>\n",
       "      <th>rate</th>\n",
       "      <th>text</th>\n",
       "    </tr>\n",
       "  </thead>\n",
       "  <tbody>\n",
       "    <tr>\n",
       "      <th>0</th>\n",
       "      <td>Егор Гумеров</td>\n",
       "      <td>15.10.2017</td>\n",
       "      <td>888880022374</td>\n",
       "      <td>АКУСТИЧЕСКАЯ ГИТАРА STAGG SA20D RED</td>\n",
       "      <td>4</td>\n",
       "      <td>Это моя первая гитара. Консультант ответил на ...</td>\n",
       "    </tr>\n",
       "    <tr>\n",
       "      <th>1</th>\n",
       "      <td>Гость</td>\n",
       "      <td>15.06.2010</td>\n",
       "      <td>888880000341</td>\n",
       "      <td>ПРЕДУСИЛИТЕЛЬ ART USBDUALPRE</td>\n",
       "      <td>3</td>\n",
       "      <td>Пожалуйста скажите кто-нибудь у кого он есть т...</td>\n",
       "    </tr>\n",
       "    <tr>\n",
       "      <th>2</th>\n",
       "      <td>Гость</td>\n",
       "      <td>03.06.2010</td>\n",
       "      <td>888880000341</td>\n",
       "      <td>ПРЕДУСИЛИТЕЛЬ ART USBDUALPRE</td>\n",
       "      <td>5</td>\n",
       "      <td>клевая вещь. ка будет в МСК?</td>\n",
       "    </tr>\n",
       "    <tr>\n",
       "      <th>3</th>\n",
       "      <td>Гость</td>\n",
       "      <td>18.05.2010</td>\n",
       "      <td>888880000341</td>\n",
       "      <td>ПРЕДУСИЛИТЕЛЬ ART USBDUALPRE</td>\n",
       "      <td>3</td>\n",
       "      <td>Пришлось снизить оценку -1 т.к. выснилось что ...</td>\n",
       "    </tr>\n",
       "    <tr>\n",
       "      <th>4</th>\n",
       "      <td>Гость</td>\n",
       "      <td>18.05.2010</td>\n",
       "      <td>888880000341</td>\n",
       "      <td>ПРЕДУСИЛИТЕЛЬ ART USBDUALPRE</td>\n",
       "      <td>4</td>\n",
       "      <td>Под ХР сразу не заработал, дрова надо везти с ...</td>\n",
       "    </tr>\n",
       "  </tbody>\n",
       "</table>\n",
       "</div>"
      ],
      "text/plain": [
       "         author        date    product_id  \\\n",
       "0  Егор Гумеров  15.10.2017  888880022374   \n",
       "1         Гость  15.06.2010  888880000341   \n",
       "2         Гость  03.06.2010  888880000341   \n",
       "3         Гость  18.05.2010  888880000341   \n",
       "4         Гость  18.05.2010  888880000341   \n",
       "\n",
       "                          product_name  rate  \\\n",
       "0  АКУСТИЧЕСКАЯ ГИТАРА STAGG SA20D RED     4   \n",
       "1         ПРЕДУСИЛИТЕЛЬ ART USBDUALPRE     3   \n",
       "2         ПРЕДУСИЛИТЕЛЬ ART USBDUALPRE     5   \n",
       "3         ПРЕДУСИЛИТЕЛЬ ART USBDUALPRE     3   \n",
       "4         ПРЕДУСИЛИТЕЛЬ ART USBDUALPRE     4   \n",
       "\n",
       "                                                text  \n",
       "0  Это моя первая гитара. Консультант ответил на ...  \n",
       "1  Пожалуйста скажите кто-нибудь у кого он есть т...  \n",
       "2                       клевая вещь. ка будет в МСК?  \n",
       "3  Пришлось снизить оценку -1 т.к. выснилось что ...  \n",
       "4  Под ХР сразу не заработал, дрова надо везти с ...  "
      ]
     },
     "execution_count": 741,
     "metadata": {},
     "output_type": "execute_result"
    }
   ],
   "source": [
    "df = pd.read_csv('Data/reviews.csv')\n",
    "df = df.drop('Unnamed: 0', axis=1)\n",
    "df.head()"
   ]
  },
  {
   "cell_type": "code",
   "execution_count": 742,
   "id": "92b54d28",
   "metadata": {},
   "outputs": [
    {
     "name": "stdout",
     "output_type": "stream",
     "text": [
      "<class 'pandas.core.frame.DataFrame'>\n",
      "RangeIndex: 11214 entries, 0 to 11213\n",
      "Data columns (total 6 columns):\n",
      " #   Column        Non-Null Count  Dtype \n",
      "---  ------        --------------  ----- \n",
      " 0   author        11209 non-null  object\n",
      " 1   date          11214 non-null  object\n",
      " 2   product_id    11214 non-null  int64 \n",
      " 3   product_name  11214 non-null  object\n",
      " 4   rate          11214 non-null  int64 \n",
      " 5   text          11213 non-null  object\n",
      "dtypes: int64(2), object(4)\n",
      "memory usage: 525.8+ KB\n"
     ]
    }
   ],
   "source": [
    "df.info()"
   ]
  },
  {
   "cell_type": "markdown",
   "id": "616f81ac",
   "metadata": {},
   "source": [
    "#### Null values"
   ]
  },
  {
   "cell_type": "code",
   "execution_count": 743,
   "id": "dc1d4618",
   "metadata": {},
   "outputs": [
    {
     "data": {
      "text/plain": [
       "author          5\n",
       "date            0\n",
       "product_id      0\n",
       "product_name    0\n",
       "rate            0\n",
       "text            1\n",
       "dtype: int64"
      ]
     },
     "execution_count": 743,
     "metadata": {},
     "output_type": "execute_result"
    }
   ],
   "source": [
    "df.isnull().sum()"
   ]
  },
  {
   "cell_type": "markdown",
   "id": "ca57a213",
   "metadata": {},
   "source": [
    "Для построения классификации по тексту отзывов имя автора отзыва роли  не играет, эти пропуски можно заполнить. Строки с пропусками в поле текст для модели ничего не дадут, их можно удалить."
   ]
  },
  {
   "cell_type": "code",
   "execution_count": 744,
   "id": "39f3f9f2",
   "metadata": {},
   "outputs": [
    {
     "data": {
      "text/plain": [
       "author          0\n",
       "date            0\n",
       "product_id      0\n",
       "product_name    0\n",
       "rate            0\n",
       "text            0\n",
       "dtype: int64"
      ]
     },
     "execution_count": 744,
     "metadata": {},
     "output_type": "execute_result"
    }
   ],
   "source": [
    "df['author'] = df['author'].fillna('Неизвестен')\n",
    "df = df.dropna()\n",
    "df.isnull().sum()"
   ]
  },
  {
   "cell_type": "markdown",
   "id": "8263c6ca",
   "metadata": {},
   "source": [
    "### Preprocessing"
   ]
  },
  {
   "cell_type": "code",
   "execution_count": 745,
   "id": "6af98f4d",
   "metadata": {},
   "outputs": [
    {
     "data": {
      "text/plain": [
       "array([4, 3, 5, 2, 1, 0], dtype=int64)"
      ]
     },
     "execution_count": 745,
     "metadata": {},
     "output_type": "execute_result"
    }
   ],
   "source": [
    "df.rate.unique()"
   ]
  },
  {
   "cell_type": "markdown",
   "id": "25bd0849",
   "metadata": {},
   "source": [
    "Есть оценки 0. Если посмотреть на текст отзывов с рейтингом 0, увидим, что большая часть не несет эмоциональной окраски, а представляет из себя вопросы к тому или иному товару. Для анализа настроений текстов эти отзывы не информативны, можно убрать их из датасета"
   ]
  },
  {
   "cell_type": "code",
   "execution_count": 747,
   "id": "8b0169e2",
   "metadata": {},
   "outputs": [
    {
     "data": {
      "text/html": [
       "<div>\n",
       "<style scoped>\n",
       "    .dataframe tbody tr th:only-of-type {\n",
       "        vertical-align: middle;\n",
       "    }\n",
       "\n",
       "    .dataframe tbody tr th {\n",
       "        vertical-align: top;\n",
       "    }\n",
       "\n",
       "    .dataframe thead th {\n",
       "        text-align: right;\n",
       "    }\n",
       "</style>\n",
       "<table border=\"1\" class=\"dataframe\">\n",
       "  <thead>\n",
       "    <tr style=\"text-align: right;\">\n",
       "      <th></th>\n",
       "      <th>author</th>\n",
       "      <th>date</th>\n",
       "      <th>product_id</th>\n",
       "      <th>product_name</th>\n",
       "      <th>rate</th>\n",
       "      <th>text</th>\n",
       "    </tr>\n",
       "  </thead>\n",
       "  <tbody>\n",
       "    <tr>\n",
       "      <th>7309</th>\n",
       "      <td>Иван</td>\n",
       "      <td>02.05.2020</td>\n",
       "      <td>888880023176</td>\n",
       "      <td>Комплект для звукозаписи STEINBERG UR22 MKII R...</td>\n",
       "      <td>0</td>\n",
       "      <td>Скажите, что лучше взять - этот комплект или s...</td>\n",
       "    </tr>\n",
       "    <tr>\n",
       "      <th>10686</th>\n",
       "      <td>kirian</td>\n",
       "      <td>30.03.2021</td>\n",
       "      <td>888880026082</td>\n",
       "      <td>Электрогитара IBANEZ RGA42FM-BLF</td>\n",
       "      <td>0</td>\n",
       "      <td>Подскажите, пожалуйста, а модель серого цвета,...</td>\n",
       "    </tr>\n",
       "    <tr>\n",
       "      <th>3290</th>\n",
       "      <td>Иван</td>\n",
       "      <td>29.05.2020</td>\n",
       "      <td>888880025141</td>\n",
       "      <td>Настольная микрофонная стойка FZONE PC-2</td>\n",
       "      <td>0</td>\n",
       "      <td>Какая максимальная высота подъема</td>\n",
       "    </tr>\n",
       "    <tr>\n",
       "      <th>5776</th>\n",
       "      <td>Алексей</td>\n",
       "      <td>09.01.2021</td>\n",
       "      <td>888880017122</td>\n",
       "      <td>USB АУДИО ИНТЕРФЕЙС BEHRINGER U-PHORIA UM2</td>\n",
       "      <td>0</td>\n",
       "      <td>Здравствуйте! Имеется эта карта и хочу к ней п...</td>\n",
       "    </tr>\n",
       "    <tr>\n",
       "      <th>5250</th>\n",
       "      <td>Виталий</td>\n",
       "      <td>07.04.2019</td>\n",
       "      <td>888880025140</td>\n",
       "      <td>Микрофонный пантограф FZONE NB-35</td>\n",
       "      <td>0</td>\n",
       "      <td>Здравствуйте, подойдёт микрофон dexp u400?</td>\n",
       "    </tr>\n",
       "    <tr>\n",
       "      <th>4533</th>\n",
       "      <td>Клиент</td>\n",
       "      <td>29.10.2021</td>\n",
       "      <td>888880028847</td>\n",
       "      <td>Аудиоинтерфейс TASCAM MiNiSTUDIO Creator US-42B</td>\n",
       "      <td>0</td>\n",
       "      <td>Мощности хватит, чтобы корректно работать с ми...</td>\n",
       "    </tr>\n",
       "    <tr>\n",
       "      <th>5923</th>\n",
       "      <td>Владимир</td>\n",
       "      <td>31.05.2020</td>\n",
       "      <td>888880025072</td>\n",
       "      <td>Комплект AUDIENT ID14 + SE ELECTRONICS SE 2200</td>\n",
       "      <td>0</td>\n",
       "      <td>Здравствуйте , когда будет в наличии ?</td>\n",
       "    </tr>\n",
       "    <tr>\n",
       "      <th>4575</th>\n",
       "      <td>Nikita</td>\n",
       "      <td>09.05.2020</td>\n",
       "      <td>888880023083</td>\n",
       "      <td>Микрофон TASCAM TM-80</td>\n",
       "      <td>0</td>\n",
       "      <td>что лучше Микрофон TASCAM TM-80 или AKG P120</td>\n",
       "    </tr>\n",
       "    <tr>\n",
       "      <th>840</th>\n",
       "      <td>Nikita</td>\n",
       "      <td>11.05.2020</td>\n",
       "      <td>88880005974</td>\n",
       "      <td>ДЕРЖАТЕЛЬ МИКРОФОННЫЙ ПАУК FORCE MK-6B</td>\n",
       "      <td>0</td>\n",
       "      <td>этот паук подойдет для микрофона SE ELECTRONIC...</td>\n",
       "    </tr>\n",
       "    <tr>\n",
       "      <th>3105</th>\n",
       "      <td>Гость</td>\n",
       "      <td>16.12.2012</td>\n",
       "      <td>88880005111</td>\n",
       "      <td>ГИТАРНАЯ ПЕДАЛЬ VOX V847A WAH WAH</td>\n",
       "      <td>0</td>\n",
       "      <td>В чём принципиальная разница между 847-й и 845...</td>\n",
       "    </tr>\n",
       "    <tr>\n",
       "      <th>8774</th>\n",
       "      <td>Сэсэг Базарова</td>\n",
       "      <td>15.10.2021</td>\n",
       "      <td>888880026388</td>\n",
       "      <td>Электроакустика BATON ROUGE AR101S/ACE</td>\n",
       "      <td>0</td>\n",
       "      <td>Здравствуйте,товар пришол отлично,звук хорошый.</td>\n",
       "    </tr>\n",
       "    <tr>\n",
       "      <th>10514</th>\n",
       "      <td>Максим</td>\n",
       "      <td>09.02.2021</td>\n",
       "      <td>888880022331</td>\n",
       "      <td>ГИТАРНЫЙ КОМБО MARSHALL CODE 25</td>\n",
       "      <td>0</td>\n",
       "      <td>Здравствуйте, подскажите пожалуйста, когда ожи...</td>\n",
       "    </tr>\n",
       "    <tr>\n",
       "      <th>3752</th>\n",
       "      <td>Альбина</td>\n",
       "      <td>08.05.2020</td>\n",
       "      <td>88880004064</td>\n",
       "      <td>ГИТАРА АКУСТИЧЕСКАЯ MARTINEZ FAW-702 TWRS</td>\n",
       "      <td>0</td>\n",
       "      <td>Здравствуйте, когда будет поступление?</td>\n",
       "    </tr>\n",
       "    <tr>\n",
       "      <th>5626</th>\n",
       "      <td>Никита</td>\n",
       "      <td>02.10.2020</td>\n",
       "      <td>888880023799</td>\n",
       "      <td>Студийный комплект SE ELECTRONICS X1 S VOCAL PACK</td>\n",
       "      <td>0</td>\n",
       "      <td>Здравствуйте, хорошо ли будет работать этот ми...</td>\n",
       "    </tr>\n",
       "    <tr>\n",
       "      <th>7268</th>\n",
       "      <td>Nikita</td>\n",
       "      <td>10.05.2020</td>\n",
       "      <td>888880014147</td>\n",
       "      <td>Микрофон FORCE MC-100UBO</td>\n",
       "      <td>0</td>\n",
       "      <td>какая стока подойдет для записи видео?</td>\n",
       "    </tr>\n",
       "  </tbody>\n",
       "</table>\n",
       "</div>"
      ],
      "text/plain": [
       "               author        date    product_id  \\\n",
       "7309             Иван  02.05.2020  888880023176   \n",
       "10686          kirian  30.03.2021  888880026082   \n",
       "3290             Иван  29.05.2020  888880025141   \n",
       "5776          Алексей  09.01.2021  888880017122   \n",
       "5250         Виталий   07.04.2019  888880025140   \n",
       "4533           Клиент  29.10.2021  888880028847   \n",
       "5923        Владимир   31.05.2020  888880025072   \n",
       "4575           Nikita  09.05.2020  888880023083   \n",
       "840            Nikita  11.05.2020   88880005974   \n",
       "3105            Гость  16.12.2012   88880005111   \n",
       "8774   Сэсэг Базарова  15.10.2021  888880026388   \n",
       "10514          Максим  09.02.2021  888880022331   \n",
       "3752          Альбина  08.05.2020   88880004064   \n",
       "5626           Никита  02.10.2020  888880023799   \n",
       "7268           Nikita  10.05.2020  888880014147   \n",
       "\n",
       "                                            product_name  rate  \\\n",
       "7309   Комплект для звукозаписи STEINBERG UR22 MKII R...     0   \n",
       "10686                   Электрогитара IBANEZ RGA42FM-BLF     0   \n",
       "3290            Настольная микрофонная стойка FZONE PC-2     0   \n",
       "5776          USB АУДИО ИНТЕРФЕЙС BEHRINGER U-PHORIA UM2     0   \n",
       "5250                   Микрофонный пантограф FZONE NB-35     0   \n",
       "4533     Аудиоинтерфейс TASCAM MiNiSTUDIO Creator US-42B     0   \n",
       "5923      Комплект AUDIENT ID14 + SE ELECTRONICS SE 2200     0   \n",
       "4575                               Микрофон TASCAM TM-80     0   \n",
       "840               ДЕРЖАТЕЛЬ МИКРОФОННЫЙ ПАУК FORCE MK-6B     0   \n",
       "3105                   ГИТАРНАЯ ПЕДАЛЬ VOX V847A WAH WAH     0   \n",
       "8774              Электроакустика BATON ROUGE AR101S/ACE     0   \n",
       "10514                    ГИТАРНЫЙ КОМБО MARSHALL CODE 25     0   \n",
       "3752           ГИТАРА АКУСТИЧЕСКАЯ MARTINEZ FAW-702 TWRS     0   \n",
       "5626   Студийный комплект SE ELECTRONICS X1 S VOCAL PACK     0   \n",
       "7268                            Микрофон FORCE MC-100UBO     0   \n",
       "\n",
       "                                                    text  \n",
       "7309   Скажите, что лучше взять - этот комплект или s...  \n",
       "10686  Подскажите, пожалуйста, а модель серого цвета,...  \n",
       "3290                   Какая максимальная высота подъема  \n",
       "5776   Здравствуйте! Имеется эта карта и хочу к ней п...  \n",
       "5250         Здравствуйте, подойдёт микрофон dexp u400?   \n",
       "4533   Мощности хватит, чтобы корректно работать с ми...  \n",
       "5923              Здравствуйте , когда будет в наличии ?  \n",
       "4575        что лучше Микрофон TASCAM TM-80 или AKG P120  \n",
       "840    этот паук подойдет для микрофона SE ELECTRONIC...  \n",
       "3105   В чём принципиальная разница между 847-й и 845...  \n",
       "8774     Здравствуйте,товар пришол отлично,звук хорошый.  \n",
       "10514  Здравствуйте, подскажите пожалуйста, когда ожи...  \n",
       "3752             Здравствуйте, когда будет поступление?   \n",
       "5626   Здравствуйте, хорошо ли будет работать этот ми...  \n",
       "7268              какая стока подойдет для записи видео?  "
      ]
     },
     "execution_count": 747,
     "metadata": {},
     "output_type": "execute_result"
    }
   ],
   "source": [
    "df[df.rate==0].sample(15)"
   ]
  },
  {
   "cell_type": "code",
   "execution_count": 748,
   "id": "63e84362",
   "metadata": {},
   "outputs": [],
   "source": [
    "df = df[df.rate!=0]"
   ]
  },
  {
   "cell_type": "markdown",
   "id": "c39e52d4",
   "metadata": {},
   "source": [
    "Распределение целевой переменной rate по классам несбалансированно. Выделим более крупные группы настроенйи отзывов по их оценкам."
   ]
  },
  {
   "cell_type": "code",
   "execution_count": 749,
   "id": "dbf6c2cc",
   "metadata": {},
   "outputs": [
    {
     "data": {
      "text/plain": [
       "5    9408\n",
       "4     900\n",
       "3     432\n",
       "2     169\n",
       "1      88\n",
       "Name: rate, dtype: int64"
      ]
     },
     "execution_count": 749,
     "metadata": {},
     "output_type": "execute_result"
    }
   ],
   "source": [
    "df.rate.value_counts()"
   ]
  },
  {
   "cell_type": "code",
   "execution_count": 750,
   "id": "e3f76b44",
   "metadata": {},
   "outputs": [],
   "source": [
    "def get_sentiment(row):\n",
    "    if row == 3 or row == 4:\n",
    "        val = 'Neutral'\n",
    "    elif row == 1 or row == 2:\n",
    "        val = 'Negative'\n",
    "    elif row == 5:\n",
    "        val = 'Positive'\n",
    "    else:\n",
    "        val = -1\n",
    "    return val"
   ]
  },
  {
   "cell_type": "code",
   "execution_count": 751,
   "id": "aa80c3fc",
   "metadata": {},
   "outputs": [],
   "source": [
    "df['sentiment'] = df['rate'].apply(get_sentiment)"
   ]
  },
  {
   "cell_type": "code",
   "execution_count": 752,
   "id": "e4377eee",
   "metadata": {},
   "outputs": [
    {
     "data": {
      "text/html": [
       "<div>\n",
       "<style scoped>\n",
       "    .dataframe tbody tr th:only-of-type {\n",
       "        vertical-align: middle;\n",
       "    }\n",
       "\n",
       "    .dataframe tbody tr th {\n",
       "        vertical-align: top;\n",
       "    }\n",
       "\n",
       "    .dataframe thead th {\n",
       "        text-align: right;\n",
       "    }\n",
       "</style>\n",
       "<table border=\"1\" class=\"dataframe\">\n",
       "  <thead>\n",
       "    <tr style=\"text-align: right;\">\n",
       "      <th></th>\n",
       "      <th>author</th>\n",
       "      <th>date</th>\n",
       "      <th>product_id</th>\n",
       "      <th>product_name</th>\n",
       "      <th>rate</th>\n",
       "      <th>text</th>\n",
       "      <th>sentiment</th>\n",
       "    </tr>\n",
       "  </thead>\n",
       "  <tbody>\n",
       "  </tbody>\n",
       "</table>\n",
       "</div>"
      ],
      "text/plain": [
       "Empty DataFrame\n",
       "Columns: [author, date, product_id, product_name, rate, text, sentiment]\n",
       "Index: []"
      ]
     },
     "execution_count": 752,
     "metadata": {},
     "output_type": "execute_result"
    }
   ],
   "source": [
    "df[df.sentiment==-1] #все значения заполнены"
   ]
  },
  {
   "cell_type": "code",
   "execution_count": 753,
   "id": "93755c49",
   "metadata": {},
   "outputs": [
    {
     "data": {
      "text/plain": [
       "Positive    9408\n",
       "Neutral     1332\n",
       "Negative     257\n",
       "Name: sentiment, dtype: int64"
      ]
     },
     "execution_count": 753,
     "metadata": {},
     "output_type": "execute_result"
    }
   ],
   "source": [
    "df.sentiment.value_counts()"
   ]
  },
  {
   "cell_type": "code",
   "execution_count": 754,
   "id": "a72ec0a1",
   "metadata": {},
   "outputs": [
    {
     "data": {
      "text/html": [
       "<div>\n",
       "<style scoped>\n",
       "    .dataframe tbody tr th:only-of-type {\n",
       "        vertical-align: middle;\n",
       "    }\n",
       "\n",
       "    .dataframe tbody tr th {\n",
       "        vertical-align: top;\n",
       "    }\n",
       "\n",
       "    .dataframe thead th {\n",
       "        text-align: right;\n",
       "    }\n",
       "</style>\n",
       "<table border=\"1\" class=\"dataframe\">\n",
       "  <thead>\n",
       "    <tr style=\"text-align: right;\">\n",
       "      <th></th>\n",
       "      <th>author</th>\n",
       "      <th>date</th>\n",
       "      <th>product_id</th>\n",
       "      <th>product_name</th>\n",
       "      <th>rate</th>\n",
       "      <th>text</th>\n",
       "      <th>sentiment</th>\n",
       "      <th>dt</th>\n",
       "    </tr>\n",
       "  </thead>\n",
       "  <tbody>\n",
       "    <tr>\n",
       "      <th>0</th>\n",
       "      <td>Егор Гумеров</td>\n",
       "      <td>15.10.2017</td>\n",
       "      <td>888880022374</td>\n",
       "      <td>АКУСТИЧЕСКАЯ ГИТАРА STAGG SA20D RED</td>\n",
       "      <td>4</td>\n",
       "      <td>Это моя первая гитара. Консультант ответил на ...</td>\n",
       "      <td>Neutral</td>\n",
       "      <td>2017-10-15</td>\n",
       "    </tr>\n",
       "    <tr>\n",
       "      <th>1</th>\n",
       "      <td>Гость</td>\n",
       "      <td>15.06.2010</td>\n",
       "      <td>888880000341</td>\n",
       "      <td>ПРЕДУСИЛИТЕЛЬ ART USBDUALPRE</td>\n",
       "      <td>3</td>\n",
       "      <td>Пожалуйста скажите кто-нибудь у кого он есть т...</td>\n",
       "      <td>Neutral</td>\n",
       "      <td>2010-06-15</td>\n",
       "    </tr>\n",
       "    <tr>\n",
       "      <th>2</th>\n",
       "      <td>Гость</td>\n",
       "      <td>03.06.2010</td>\n",
       "      <td>888880000341</td>\n",
       "      <td>ПРЕДУСИЛИТЕЛЬ ART USBDUALPRE</td>\n",
       "      <td>5</td>\n",
       "      <td>клевая вещь. ка будет в МСК?</td>\n",
       "      <td>Positive</td>\n",
       "      <td>2010-03-06</td>\n",
       "    </tr>\n",
       "    <tr>\n",
       "      <th>3</th>\n",
       "      <td>Гость</td>\n",
       "      <td>18.05.2010</td>\n",
       "      <td>888880000341</td>\n",
       "      <td>ПРЕДУСИЛИТЕЛЬ ART USBDUALPRE</td>\n",
       "      <td>3</td>\n",
       "      <td>Пришлось снизить оценку -1 т.к. выснилось что ...</td>\n",
       "      <td>Neutral</td>\n",
       "      <td>2010-05-18</td>\n",
       "    </tr>\n",
       "    <tr>\n",
       "      <th>4</th>\n",
       "      <td>Гость</td>\n",
       "      <td>18.05.2010</td>\n",
       "      <td>888880000341</td>\n",
       "      <td>ПРЕДУСИЛИТЕЛЬ ART USBDUALPRE</td>\n",
       "      <td>4</td>\n",
       "      <td>Под ХР сразу не заработал, дрова надо везти с ...</td>\n",
       "      <td>Neutral</td>\n",
       "      <td>2010-05-18</td>\n",
       "    </tr>\n",
       "  </tbody>\n",
       "</table>\n",
       "</div>"
      ],
      "text/plain": [
       "         author        date    product_id  \\\n",
       "0  Егор Гумеров  15.10.2017  888880022374   \n",
       "1         Гость  15.06.2010  888880000341   \n",
       "2         Гость  03.06.2010  888880000341   \n",
       "3         Гость  18.05.2010  888880000341   \n",
       "4         Гость  18.05.2010  888880000341   \n",
       "\n",
       "                          product_name  rate  \\\n",
       "0  АКУСТИЧЕСКАЯ ГИТАРА STAGG SA20D RED     4   \n",
       "1         ПРЕДУСИЛИТЕЛЬ ART USBDUALPRE     3   \n",
       "2         ПРЕДУСИЛИТЕЛЬ ART USBDUALPRE     5   \n",
       "3         ПРЕДУСИЛИТЕЛЬ ART USBDUALPRE     3   \n",
       "4         ПРЕДУСИЛИТЕЛЬ ART USBDUALPRE     4   \n",
       "\n",
       "                                                text sentiment         dt  \n",
       "0  Это моя первая гитара. Консультант ответил на ...   Neutral 2017-10-15  \n",
       "1  Пожалуйста скажите кто-нибудь у кого он есть т...   Neutral 2010-06-15  \n",
       "2                       клевая вещь. ка будет в МСК?  Positive 2010-03-06  \n",
       "3  Пришлось снизить оценку -1 т.к. выснилось что ...   Neutral 2010-05-18  \n",
       "4  Под ХР сразу не заработал, дрова надо везти с ...   Neutral 2010-05-18  "
      ]
     },
     "execution_count": 754,
     "metadata": {},
     "output_type": "execute_result"
    }
   ],
   "source": [
    "df['dt'] = pd.to_datetime(df.date)\n",
    "df.head()"
   ]
  },
  {
   "cell_type": "code",
   "execution_count": 755,
   "id": "00c13367",
   "metadata": {},
   "outputs": [
    {
     "data": {
      "text/html": [
       "<div>\n",
       "<style scoped>\n",
       "    .dataframe tbody tr th:only-of-type {\n",
       "        vertical-align: middle;\n",
       "    }\n",
       "\n",
       "    .dataframe tbody tr th {\n",
       "        vertical-align: top;\n",
       "    }\n",
       "\n",
       "    .dataframe thead th {\n",
       "        text-align: right;\n",
       "    }\n",
       "</style>\n",
       "<table border=\"1\" class=\"dataframe\">\n",
       "  <thead>\n",
       "    <tr style=\"text-align: right;\">\n",
       "      <th></th>\n",
       "      <th>author</th>\n",
       "      <th>date</th>\n",
       "      <th>product_id</th>\n",
       "      <th>product_name</th>\n",
       "      <th>rate</th>\n",
       "      <th>text</th>\n",
       "      <th>sentiment</th>\n",
       "      <th>dt</th>\n",
       "      <th>year</th>\n",
       "    </tr>\n",
       "  </thead>\n",
       "  <tbody>\n",
       "    <tr>\n",
       "      <th>0</th>\n",
       "      <td>Егор Гумеров</td>\n",
       "      <td>15.10.2017</td>\n",
       "      <td>888880022374</td>\n",
       "      <td>АКУСТИЧЕСКАЯ ГИТАРА STAGG SA20D RED</td>\n",
       "      <td>4</td>\n",
       "      <td>Это моя первая гитара. Консультант ответил на ...</td>\n",
       "      <td>Neutral</td>\n",
       "      <td>2017-10-15</td>\n",
       "      <td>2017</td>\n",
       "    </tr>\n",
       "    <tr>\n",
       "      <th>1</th>\n",
       "      <td>Гость</td>\n",
       "      <td>15.06.2010</td>\n",
       "      <td>888880000341</td>\n",
       "      <td>ПРЕДУСИЛИТЕЛЬ ART USBDUALPRE</td>\n",
       "      <td>3</td>\n",
       "      <td>Пожалуйста скажите кто-нибудь у кого он есть т...</td>\n",
       "      <td>Neutral</td>\n",
       "      <td>2010-06-15</td>\n",
       "      <td>2010</td>\n",
       "    </tr>\n",
       "    <tr>\n",
       "      <th>2</th>\n",
       "      <td>Гость</td>\n",
       "      <td>03.06.2010</td>\n",
       "      <td>888880000341</td>\n",
       "      <td>ПРЕДУСИЛИТЕЛЬ ART USBDUALPRE</td>\n",
       "      <td>5</td>\n",
       "      <td>клевая вещь. ка будет в МСК?</td>\n",
       "      <td>Positive</td>\n",
       "      <td>2010-03-06</td>\n",
       "      <td>2010</td>\n",
       "    </tr>\n",
       "    <tr>\n",
       "      <th>3</th>\n",
       "      <td>Гость</td>\n",
       "      <td>18.05.2010</td>\n",
       "      <td>888880000341</td>\n",
       "      <td>ПРЕДУСИЛИТЕЛЬ ART USBDUALPRE</td>\n",
       "      <td>3</td>\n",
       "      <td>Пришлось снизить оценку -1 т.к. выснилось что ...</td>\n",
       "      <td>Neutral</td>\n",
       "      <td>2010-05-18</td>\n",
       "      <td>2010</td>\n",
       "    </tr>\n",
       "    <tr>\n",
       "      <th>4</th>\n",
       "      <td>Гость</td>\n",
       "      <td>18.05.2010</td>\n",
       "      <td>888880000341</td>\n",
       "      <td>ПРЕДУСИЛИТЕЛЬ ART USBDUALPRE</td>\n",
       "      <td>4</td>\n",
       "      <td>Под ХР сразу не заработал, дрова надо везти с ...</td>\n",
       "      <td>Neutral</td>\n",
       "      <td>2010-05-18</td>\n",
       "      <td>2010</td>\n",
       "    </tr>\n",
       "  </tbody>\n",
       "</table>\n",
       "</div>"
      ],
      "text/plain": [
       "         author        date    product_id  \\\n",
       "0  Егор Гумеров  15.10.2017  888880022374   \n",
       "1         Гость  15.06.2010  888880000341   \n",
       "2         Гость  03.06.2010  888880000341   \n",
       "3         Гость  18.05.2010  888880000341   \n",
       "4         Гость  18.05.2010  888880000341   \n",
       "\n",
       "                          product_name  rate  \\\n",
       "0  АКУСТИЧЕСКАЯ ГИТАРА STAGG SA20D RED     4   \n",
       "1         ПРЕДУСИЛИТЕЛЬ ART USBDUALPRE     3   \n",
       "2         ПРЕДУСИЛИТЕЛЬ ART USBDUALPRE     5   \n",
       "3         ПРЕДУСИЛИТЕЛЬ ART USBDUALPRE     3   \n",
       "4         ПРЕДУСИЛИТЕЛЬ ART USBDUALPRE     4   \n",
       "\n",
       "                                                text sentiment         dt  \\\n",
       "0  Это моя первая гитара. Консультант ответил на ...   Neutral 2017-10-15   \n",
       "1  Пожалуйста скажите кто-нибудь у кого он есть т...   Neutral 2010-06-15   \n",
       "2                       клевая вещь. ка будет в МСК?  Positive 2010-03-06   \n",
       "3  Пришлось снизить оценку -1 т.к. выснилось что ...   Neutral 2010-05-18   \n",
       "4  Под ХР сразу не заработал, дрова надо везти с ...   Neutral 2010-05-18   \n",
       "\n",
       "   year  \n",
       "0  2017  \n",
       "1  2010  \n",
       "2  2010  \n",
       "3  2010  \n",
       "4  2010  "
      ]
     },
     "execution_count": 755,
     "metadata": {},
     "output_type": "execute_result"
    }
   ],
   "source": [
    "df['year'] = df['dt'].dt.year\n",
    "df.head()"
   ]
  },
  {
   "cell_type": "markdown",
   "id": "2276e88f",
   "metadata": {},
   "source": [
    "### Cleaning text for EDA"
   ]
  },
  {
   "cell_type": "markdown",
   "id": "1c9c504f",
   "metadata": {},
   "source": [
    "Примечание: на этом этапе я применяю лемматизацию и удаление стоп-слов, в частности за тем, чтобы посмотреть наиболее часто встречающиеся n-граммы в текстах отзывов. "
   ]
  },
  {
   "cell_type": "code",
   "execution_count": 129,
   "id": "8bf0729f",
   "metadata": {},
   "outputs": [],
   "source": [
    "stops = stopwords.words('russian')\n",
    "stops.append('это')\n",
    "tokenizer = nltk.data.load('tokenizers/punkt/russian.pickle')\n",
    "morph = pymorphy2.MorphAnalyzer()\n",
    "\n",
    "def review_to_wordlist(review, remove_stopwords=False ):\n",
    "\n",
    "    # оставляем только буквенные символы\n",
    "    review_text = re.sub(\"[^А-Яа-я]\",\" \", review)\n",
    "    # приводим к нижнему регистру и разбиваем на слова по символу пробела\n",
    "    words = review_text.lower().split()\n",
    "    words_lemmatized = [morph.parse(w)[0].normal_form for w in words]\n",
    "    if remove_stopwords: # убираем стоп-слова\n",
    "        words_lemmatized = [w for w in words_lemmatized if not w in stops]\n",
    "    return(' '.join(words_lemmatized))\n",
    "\n",
    "def review_to_sentences(review, tokenizer, remove_stopwords=False):\n",
    "    # разбиваем обзор на предложения\n",
    "    raw_sentences = tokenizer.tokenize(review.strip())\n",
    "    sentences = []\n",
    "    # применяем предыдущую функцию к каждому предложению\n",
    "    for raw_sentence in raw_sentences:\n",
    "        if len(raw_sentence) > 0:\n",
    "            sentences.append(review_to_wordlist(raw_sentence, remove_stopwords))\n",
    "    return sentences"
   ]
  },
  {
   "cell_type": "code",
   "execution_count": 143,
   "id": "07df6c76",
   "metadata": {},
   "outputs": [],
   "source": [
    "# df['sentences'] = df['text'].apply(lambda x: review_to_sentences(x, tokenizer, True))"
   ]
  },
  {
   "cell_type": "code",
   "execution_count": 758,
   "id": "2ee07090",
   "metadata": {},
   "outputs": [
    {
     "data": {
      "text/plain": [
       "'первый гитара консультант ответить всё вопрос быстро оформить покупка гитара дойти спб ухта рк весь день взять гитара рука обнаружить гриф прогнуться именно бояться комплект идти шестигранник подкрутить гриф особый проблема ещё струна значительно возвышаться весь остальной прийтись подпилить порожек гитара приятный звук удобно лежать рука небольшой шаманство петь плясать крайне рекомендовать покупка'"
      ]
     },
     "execution_count": 758,
     "metadata": {},
     "output_type": "execute_result"
    }
   ],
   "source": [
    "review_to_wordlist(df['text'].values[0], True)"
   ]
  },
  {
   "cell_type": "code",
   "execution_count": 760,
   "id": "d8e05071",
   "metadata": {},
   "outputs": [],
   "source": [
    "df['text_cleaned'] = df['text'].apply(lambda x: review_to_wordlist(x, True))"
   ]
  },
  {
   "cell_type": "code",
   "execution_count": 761,
   "id": "7be2d406",
   "metadata": {},
   "outputs": [
    {
     "data": {
      "text/plain": [
       "'первый гитара консультант ответить всё вопрос быстро оформить покупка гитара дойти спб ухта рк весь день взять гитара рука обнаружить гриф прогнуться именно бояться комплект идти шестигранник подкрутить гриф особый проблема ещё струна значительно возвышаться весь остальной прийтись подпилить порожек гитара приятный звук удобно лежать рука небольшой шаманство петь плясать крайне рекомендовать покупка'"
      ]
     },
     "execution_count": 761,
     "metadata": {},
     "output_type": "execute_result"
    }
   ],
   "source": [
    "df['text_cleaned'].values[0]"
   ]
  },
  {
   "cell_type": "code",
   "execution_count": 762,
   "id": "7a5a1a17",
   "metadata": {},
   "outputs": [
    {
     "data": {
      "text/html": [
       "<div>\n",
       "<style scoped>\n",
       "    .dataframe tbody tr th:only-of-type {\n",
       "        vertical-align: middle;\n",
       "    }\n",
       "\n",
       "    .dataframe tbody tr th {\n",
       "        vertical-align: top;\n",
       "    }\n",
       "\n",
       "    .dataframe thead th {\n",
       "        text-align: right;\n",
       "    }\n",
       "</style>\n",
       "<table border=\"1\" class=\"dataframe\">\n",
       "  <thead>\n",
       "    <tr style=\"text-align: right;\">\n",
       "      <th></th>\n",
       "      <th>author</th>\n",
       "      <th>date</th>\n",
       "      <th>product_id</th>\n",
       "      <th>product_name</th>\n",
       "      <th>rate</th>\n",
       "      <th>text</th>\n",
       "      <th>sentiment</th>\n",
       "      <th>dt</th>\n",
       "      <th>year</th>\n",
       "      <th>text_cleaned</th>\n",
       "    </tr>\n",
       "  </thead>\n",
       "  <tbody>\n",
       "    <tr>\n",
       "      <th>0</th>\n",
       "      <td>Егор Гумеров</td>\n",
       "      <td>15.10.2017</td>\n",
       "      <td>888880022374</td>\n",
       "      <td>АКУСТИЧЕСКАЯ ГИТАРА STAGG SA20D RED</td>\n",
       "      <td>4</td>\n",
       "      <td>Это моя первая гитара. Консультант ответил на ...</td>\n",
       "      <td>Neutral</td>\n",
       "      <td>2017-10-15</td>\n",
       "      <td>2017</td>\n",
       "      <td>первый гитара консультант ответить всё вопрос ...</td>\n",
       "    </tr>\n",
       "    <tr>\n",
       "      <th>1</th>\n",
       "      <td>Гость</td>\n",
       "      <td>15.06.2010</td>\n",
       "      <td>888880000341</td>\n",
       "      <td>ПРЕДУСИЛИТЕЛЬ ART USBDUALPRE</td>\n",
       "      <td>3</td>\n",
       "      <td>Пожалуйста скажите кто-нибудь у кого он есть т...</td>\n",
       "      <td>Neutral</td>\n",
       "      <td>2010-06-15</td>\n",
       "      <td>2010</td>\n",
       "      <td>пожалуйста сказать нибыть должный еле слышный ...</td>\n",
       "    </tr>\n",
       "    <tr>\n",
       "      <th>2</th>\n",
       "      <td>Гость</td>\n",
       "      <td>03.06.2010</td>\n",
       "      <td>888880000341</td>\n",
       "      <td>ПРЕДУСИЛИТЕЛЬ ART USBDUALPRE</td>\n",
       "      <td>5</td>\n",
       "      <td>клевая вещь. ка будет в МСК?</td>\n",
       "      <td>Positive</td>\n",
       "      <td>2010-03-06</td>\n",
       "      <td>2010</td>\n",
       "      <td>клёвый вещь ка мск</td>\n",
       "    </tr>\n",
       "    <tr>\n",
       "      <th>3</th>\n",
       "      <td>Гость</td>\n",
       "      <td>18.05.2010</td>\n",
       "      <td>888880000341</td>\n",
       "      <td>ПРЕДУСИЛИТЕЛЬ ART USBDUALPRE</td>\n",
       "      <td>3</td>\n",
       "      <td>Пришлось снизить оценку -1 т.к. выснилось что ...</td>\n",
       "      <td>Neutral</td>\n",
       "      <td>2010-05-18</td>\n",
       "      <td>2010</td>\n",
       "      <td>прийтись снизить оценка высниться помимо еобхо...</td>\n",
       "    </tr>\n",
       "    <tr>\n",
       "      <th>4</th>\n",
       "      <td>Гость</td>\n",
       "      <td>18.05.2010</td>\n",
       "      <td>888880000341</td>\n",
       "      <td>ПРЕДУСИЛИТЕЛЬ ART USBDUALPRE</td>\n",
       "      <td>4</td>\n",
       "      <td>Под ХР сразу не заработал, дрова надо везти с ...</td>\n",
       "      <td>Neutral</td>\n",
       "      <td>2010-05-18</td>\n",
       "      <td>2010</td>\n",
       "      <td>хр сразу заработать дрова везти сайт странно б...</td>\n",
       "    </tr>\n",
       "  </tbody>\n",
       "</table>\n",
       "</div>"
      ],
      "text/plain": [
       "         author        date    product_id  \\\n",
       "0  Егор Гумеров  15.10.2017  888880022374   \n",
       "1         Гость  15.06.2010  888880000341   \n",
       "2         Гость  03.06.2010  888880000341   \n",
       "3         Гость  18.05.2010  888880000341   \n",
       "4         Гость  18.05.2010  888880000341   \n",
       "\n",
       "                          product_name  rate  \\\n",
       "0  АКУСТИЧЕСКАЯ ГИТАРА STAGG SA20D RED     4   \n",
       "1         ПРЕДУСИЛИТЕЛЬ ART USBDUALPRE     3   \n",
       "2         ПРЕДУСИЛИТЕЛЬ ART USBDUALPRE     5   \n",
       "3         ПРЕДУСИЛИТЕЛЬ ART USBDUALPRE     3   \n",
       "4         ПРЕДУСИЛИТЕЛЬ ART USBDUALPRE     4   \n",
       "\n",
       "                                                text sentiment         dt  \\\n",
       "0  Это моя первая гитара. Консультант ответил на ...   Neutral 2017-10-15   \n",
       "1  Пожалуйста скажите кто-нибудь у кого он есть т...   Neutral 2010-06-15   \n",
       "2                       клевая вещь. ка будет в МСК?  Positive 2010-03-06   \n",
       "3  Пришлось снизить оценку -1 т.к. выснилось что ...   Neutral 2010-05-18   \n",
       "4  Под ХР сразу не заработал, дрова надо везти с ...   Neutral 2010-05-18   \n",
       "\n",
       "   year                                       text_cleaned  \n",
       "0  2017  первый гитара консультант ответить всё вопрос ...  \n",
       "1  2010  пожалуйста сказать нибыть должный еле слышный ...  \n",
       "2  2010                                 клёвый вещь ка мск  \n",
       "3  2010  прийтись снизить оценка высниться помимо еобхо...  \n",
       "4  2010  хр сразу заработать дрова везти сайт странно б...  "
      ]
     },
     "execution_count": 762,
     "metadata": {},
     "output_type": "execute_result"
    }
   ],
   "source": [
    "df.head()"
   ]
  },
  {
   "cell_type": "code",
   "execution_count": 763,
   "id": "c963499b",
   "metadata": {},
   "outputs": [],
   "source": [
    "df.to_csv('Data/reviews_preprocessed_1412.csv', index=False)"
   ]
  },
  {
   "cell_type": "markdown",
   "id": "bb02d385",
   "metadata": {},
   "source": [
    "### Some visualisations"
   ]
  },
  {
   "cell_type": "code",
   "execution_count": 764,
   "id": "050675ac",
   "metadata": {},
   "outputs": [
    {
     "data": {
      "image/png": "[encoded data removed]",
      "text/plain": [
       "<Figure size 720x432 with 1 Axes>"
      ]
     },
     "metadata": {},
     "output_type": "display_data"
    }
   ],
   "source": [
    "df.groupby(['year','sentiment'])['sentiment'].count().unstack().plot(legend=True, figsize=(10, 6))\n",
    "plt.title('Динамика количества отзывов по годам')\n",
    "plt.xlabel('Year')\n",
    "plt.ylabel('Sentiment count')\n",
    "plt.show()"
   ]
  },
  {
   "cell_type": "markdown",
   "id": "f4c99982",
   "metadata": {},
   "source": [
    "Добавим столбцы, содержащие информацию о том, из скольки символов и из скольки слов состоит отзыв "
   ]
  },
  {
   "cell_type": "code",
   "execution_count": 765,
   "id": "fd2c2122",
   "metadata": {},
   "outputs": [],
   "source": [
    "df['char_len'] = df['text'].astype(str).apply(len)\n",
    "df['word_count'] = df['text'].apply(lambda x: len(str(x).split()))"
   ]
  },
  {
   "cell_type": "code",
   "execution_count": 766,
   "id": "94a39727",
   "metadata": {},
   "outputs": [
    {
     "data": {
      "image/png": "[encoded data removed]",
      "text/plain": [
       "<Figure size 648x504 with 1 Axes>"
      ]
     },
     "metadata": {},
     "output_type": "display_data"
    },
    {
     "data": {
      "image/png": "[encoded data removed]",
      "text/plain": [
       "<Figure size 648x504 with 1 Axes>"
      ]
     },
     "metadata": {},
     "output_type": "display_data"
    }
   ],
   "source": [
    "plot_distribution(df, ['char_len','word_count'])"
   ]
  },
  {
   "cell_type": "markdown",
   "id": "c8ac90c6",
   "metadata": {},
   "source": [
    "Датасет содержит много коротких отзывов, однако есть отдельные тексты, состоящие из большого количества (сотни) слов"
   ]
  },
  {
   "cell_type": "code",
   "execution_count": 767,
   "id": "79da8c9f",
   "metadata": {},
   "outputs": [
    {
     "data": {
      "text/plain": [
       "627"
      ]
     },
     "execution_count": 767,
     "metadata": {},
     "output_type": "execute_result"
    }
   ],
   "source": [
    "df.word_count.max()"
   ]
  },
  {
   "cell_type": "code",
   "execution_count": 768,
   "id": "69606656",
   "metadata": {
    "scrolled": false
   },
   "outputs": [
    {
     "data": {
      "image/png": "[encoded data removed]",
      "text/plain": [
       "<Figure size 648x504 with 1 Axes>"
      ]
     },
     "metadata": {},
     "output_type": "display_data"
    },
    {
     "data": {
      "image/png": "[encoded data removed]",
      "text/plain": [
       "<Figure size 648x504 with 1 Axes>"
      ]
     },
     "metadata": {},
     "output_type": "display_data"
    }
   ],
   "source": [
    "plot_count(df, ['rate', 'sentiment'])"
   ]
  },
  {
   "cell_type": "markdown",
   "id": "30720a8e",
   "metadata": {},
   "source": [
    "Как уже было замечено ранее, наблюдаем сильный дисбаланс классов: положительных оценок много, остальные представлены в меньшем количестве"
   ]
  },
  {
   "cell_type": "markdown",
   "id": "1dea3516",
   "metadata": {},
   "source": [
    "### Frequent n-grams"
   ]
  },
  {
   "cell_type": "code",
   "execution_count": 241,
   "id": "5375eb2a",
   "metadata": {},
   "outputs": [],
   "source": [
    "def most_frequent(words, sentiment):\n",
    "    color='blue'\n",
    "    if sentiment == 'Positive':\n",
    "        color = 'green'\n",
    "    elif sentiment == 'Neutral':\n",
    "        color = 'grey'\n",
    "    elif sentiment == 'Negative':\n",
    "        color = 'red'\n",
    "\n",
    "        \n",
    "    freq_dict = Counter(words)\n",
    "    freq_words = freq_dict.most_common(15)\n",
    "\n",
    "    y = [x[0] for x in freq_words]\n",
    "    x = [x[1] for x in freq_words]\n",
    "\n",
    "    plt.figure(figsize=(8, 5))\n",
    "    sns.barplot(x=x, y=y, color=color).set_title(f'Most common {sentiment} words')\n",
    "\n",
    "    plt.show()"
   ]
  },
  {
   "cell_type": "code",
   "execution_count": 194,
   "id": "3b1905f3",
   "metadata": {},
   "outputs": [],
   "source": [
    "def generate_ngrams(texts, n_range):\n",
    "    result = []\n",
    "    for t in texts:\n",
    "        result += list(ngrams(t.split(), n_range))\n",
    "        \n",
    "    result = [' '.join(list(result[i])) for i in range(len(result))]\n",
    "     \n",
    "    return result"
   ]
  },
  {
   "cell_type": "code",
   "execution_count": 195,
   "id": "1212eb71",
   "metadata": {},
   "outputs": [],
   "source": [
    "unigrams_pos = generate_ngrams(df[df.sentiment=='Positive'].text_cleaned.values, 1)\n",
    "unigrams_neut = generate_ngrams(df[df.sentiment=='Neutral'].text_cleaned.values, 1)\n",
    "unigrams_neg = generate_ngrams(df[df.sentiment=='Negative'].text_cleaned.values, 1)"
   ]
  },
  {
   "cell_type": "code",
   "execution_count": 496,
   "id": "8bc13639",
   "metadata": {},
   "outputs": [
    {
     "data": {
      "image/png": "[encoded data removed]",
      "text/plain": [
       "<Figure size 576x360 with 1 Axes>"
      ]
     },
     "metadata": {},
     "output_type": "display_data"
    }
   ],
   "source": [
    "most_frequent(unigrams_pos, 'Positive')"
   ]
  },
  {
   "cell_type": "code",
   "execution_count": 497,
   "id": "e5d1c665",
   "metadata": {},
   "outputs": [
    {
     "data": {
      "image/png": "[encoded data removed]",
      "text/plain": [
       "<Figure size 576x360 with 1 Axes>"
      ]
     },
     "metadata": {},
     "output_type": "display_data"
    }
   ],
   "source": [
    "most_frequent(unigrams_neut, 'Neutral')"
   ]
  },
  {
   "cell_type": "code",
   "execution_count": 498,
   "id": "e31cf2e4",
   "metadata": {},
   "outputs": [
    {
     "data": {
      "image/png": "[encoded data removed]",
      "text/plain": [
       "<Figure size 576x360 with 1 Axes>"
      ]
     },
     "metadata": {},
     "output_type": "display_data"
    }
   ],
   "source": [
    "most_frequent(unigrams_neg, 'Negative')"
   ]
  },
  {
   "cell_type": "code",
   "execution_count": 245,
   "id": "5f7404f6",
   "metadata": {},
   "outputs": [],
   "source": [
    "bigrams_pos = generate_ngrams(df[df.sentiment=='Positive'].text_cleaned.values, 2)\n",
    "bigrams_neut = generate_ngrams(df[df.sentiment=='Neutral'].text_cleaned.values, 2)\n",
    "bigrams_neg = generate_ngrams(df[df.sentiment=='Negative'].text_cleaned.values, 2)"
   ]
  },
  {
   "cell_type": "code",
   "execution_count": 499,
   "id": "0f7d2fa1",
   "metadata": {},
   "outputs": [
    {
     "data": {
      "image/png": "[encoded data removed]",
      "text/plain": [
       "<Figure size 576x360 with 1 Axes>"
      ]
     },
     "metadata": {},
     "output_type": "display_data"
    }
   ],
   "source": [
    "most_frequent(bigrams_pos, 'Positive')"
   ]
  },
  {
   "cell_type": "code",
   "execution_count": 500,
   "id": "26e01bd7",
   "metadata": {},
   "outputs": [
    {
     "data": {
      "image/png": "[encoded data removed]",
      "text/plain": [
       "<Figure size 576x360 with 1 Axes>"
      ]
     },
     "metadata": {},
     "output_type": "display_data"
    }
   ],
   "source": [
    "most_frequent(bigrams_neut, 'Neutral')"
   ]
  },
  {
   "cell_type": "code",
   "execution_count": 501,
   "id": "2d91865d",
   "metadata": {},
   "outputs": [
    {
     "data": {
      "image/png": "[encoded data removed]",
      "text/plain": [
       "<Figure size 576x360 with 1 Axes>"
      ]
     },
     "metadata": {},
     "output_type": "display_data"
    }
   ],
   "source": [
    "most_frequent(bigrams_neg, 'Negative')"
   ]
  },
  {
   "cell_type": "markdown",
   "id": "3c285328",
   "metadata": {},
   "source": [
    "Для униграмм графики наиболее частотных слов похожи даже между позитивными и негативными выборками отзывов. Но на биграммах различия уже видны. Так же и на триграммах."
   ]
  },
  {
   "cell_type": "code",
   "execution_count": 251,
   "id": "0b9b4bb5",
   "metadata": {},
   "outputs": [],
   "source": [
    "trigrams_pos = generate_ngrams(df[df.sentiment=='Positive'].text_cleaned.values, 3)\n",
    "trigrams_neut = generate_ngrams(df[df.sentiment=='Neutral'].text_cleaned.values, 3)\n",
    "trigrams_neg = generate_ngrams(df[df.sentiment=='Negative'].text_cleaned.values, 3)"
   ]
  },
  {
   "cell_type": "code",
   "execution_count": 502,
   "id": "0c322d53",
   "metadata": {},
   "outputs": [
    {
     "data": {
      "image/png": "[encoded data removed]",
      "text/plain": [
       "<Figure size 576x360 with 1 Axes>"
      ]
     },
     "metadata": {},
     "output_type": "display_data"
    }
   ],
   "source": [
    "most_frequent(trigrams_pos, 'Positive')"
   ]
  },
  {
   "cell_type": "code",
   "execution_count": 503,
   "id": "0f04fcb5",
   "metadata": {},
   "outputs": [
    {
     "data": {
      "image/png": "[encoded data removed]",
      "text/plain": [
       "<Figure size 576x360 with 1 Axes>"
      ]
     },
     "metadata": {},
     "output_type": "display_data"
    }
   ],
   "source": [
    "most_frequent(trigrams_neut, 'Neutral')"
   ]
  },
  {
   "cell_type": "code",
   "execution_count": 504,
   "id": "24f9ed27",
   "metadata": {},
   "outputs": [
    {
     "data": {
      "image/png": "[encoded data removed]",
      "text/plain": [
       "<Figure size 576x360 with 1 Axes>"
      ]
     },
     "metadata": {},
     "output_type": "display_data"
    }
   ],
   "source": [
    "most_frequent(trigrams_neg, 'Negative')"
   ]
  },
  {
   "cell_type": "markdown",
   "id": "81011954",
   "metadata": {},
   "source": [
    "### Handling imbalanced data"
   ]
  },
  {
   "cell_type": "markdown",
   "id": "9500a3cd",
   "metadata": {},
   "source": [
    "#### Getting extra data\n",
    "Данные сильно не сбалансированны, и первые модели показывали высокую accuracy только за счет того, что преимущественно предсказывали оценки самого представленного класса. Есть возможность обогатить датасет данными несколькими способами:\n",
    "- взять отзывы с нейтральными и негативными оценками с другого сайта\n",
    "- взять отзывы с нейтральными и негативными оценками из датасета Kaggle\n",
    "- создать искусственные сущности малопредставленных классов путем перевода отзыва на иностранный язык и обратного перевода на русский.\n",
    "\n",
    "Все эти манипуляции с данными вынесены в отдельный ноутбук. здесь результаты соединения всех источников"
   ]
  },
  {
   "cell_type": "code",
   "execution_count": 637,
   "id": "2047ed87",
   "metadata": {},
   "outputs": [
    {
     "data": {
      "text/html": [
       "<div>\n",
       "<style scoped>\n",
       "    .dataframe tbody tr th:only-of-type {\n",
       "        vertical-align: middle;\n",
       "    }\n",
       "\n",
       "    .dataframe tbody tr th {\n",
       "        vertical-align: top;\n",
       "    }\n",
       "\n",
       "    .dataframe thead th {\n",
       "        text-align: right;\n",
       "    }\n",
       "</style>\n",
       "<table border=\"1\" class=\"dataframe\">\n",
       "  <thead>\n",
       "    <tr style=\"text-align: right;\">\n",
       "      <th></th>\n",
       "      <th>text</th>\n",
       "      <th>rate</th>\n",
       "    </tr>\n",
       "  </thead>\n",
       "  <tbody>\n",
       "    <tr>\n",
       "      <th>0</th>\n",
       "      <td>Это моя первая гитара. Консультант ответил на ...</td>\n",
       "      <td>4</td>\n",
       "    </tr>\n",
       "    <tr>\n",
       "      <th>1</th>\n",
       "      <td>Пожалуйста скажите кто-нибудь у кого он есть т...</td>\n",
       "      <td>3</td>\n",
       "    </tr>\n",
       "    <tr>\n",
       "      <th>2</th>\n",
       "      <td>клевая вещь. ка будет в МСК?</td>\n",
       "      <td>5</td>\n",
       "    </tr>\n",
       "    <tr>\n",
       "      <th>3</th>\n",
       "      <td>Пришлось снизить оценку -1 т.к. выснилось что ...</td>\n",
       "      <td>3</td>\n",
       "    </tr>\n",
       "    <tr>\n",
       "      <th>4</th>\n",
       "      <td>Под ХР сразу не заработал, дрова надо везти с ...</td>\n",
       "      <td>4</td>\n",
       "    </tr>\n",
       "  </tbody>\n",
       "</table>\n",
       "</div>"
      ],
      "text/plain": [
       "                                                text  rate\n",
       "0  Это моя первая гитара. Консультант ответил на ...     4\n",
       "1  Пожалуйста скажите кто-нибудь у кого он есть т...     3\n",
       "2                       клевая вещь. ка будет в МСК?     5\n",
       "3  Пришлось снизить оценку -1 т.к. выснилось что ...     3\n",
       "4  Под ХР сразу не заработал, дрова надо везти с ...     4"
      ]
     },
     "execution_count": 637,
     "metadata": {},
     "output_type": "execute_result"
    }
   ],
   "source": [
    "df_full = pd.read_csv('Data/after_aug_full.csv')\n",
    "df_full.head()"
   ]
  },
  {
   "cell_type": "code",
   "execution_count": 638,
   "id": "f35eaf89",
   "metadata": {},
   "outputs": [],
   "source": [
    "df_full['sentiment'] = df_full.rate.apply(get_sentiment)"
   ]
  },
  {
   "cell_type": "code",
   "execution_count": 639,
   "id": "1f9d59f2",
   "metadata": {},
   "outputs": [
    {
     "data": {
      "text/plain": [
       "text         3\n",
       "rate         0\n",
       "sentiment    0\n",
       "dtype: int64"
      ]
     },
     "execution_count": 639,
     "metadata": {},
     "output_type": "execute_result"
    }
   ],
   "source": [
    "df_full.isnull().sum()"
   ]
  },
  {
   "cell_type": "code",
   "execution_count": 640,
   "id": "9ba051da",
   "metadata": {},
   "outputs": [],
   "source": [
    "df_full = df_full.dropna()"
   ]
  },
  {
   "cell_type": "code",
   "execution_count": 641,
   "id": "566c82d1",
   "metadata": {},
   "outputs": [],
   "source": [
    "df_full.drop(df_full[df_full.sentiment==-1].index, inplace=True)"
   ]
  },
  {
   "cell_type": "code",
   "execution_count": 642,
   "id": "25a8cb98",
   "metadata": {},
   "outputs": [],
   "source": [
    "df_full['sentences'] = df_full['text'].apply(lambda x: review_to_sentences(x, tokenizer))\n",
    "df_full['text_cleaned'] = df_full['sentences'].apply(lambda x: ' '.join(x))"
   ]
  },
  {
   "cell_type": "code",
   "execution_count": 643,
   "id": "2d3976d6",
   "metadata": {},
   "outputs": [],
   "source": [
    "df_full.to_csv('Data/after_aug_preprocessed.csv')"
   ]
  },
  {
   "cell_type": "code",
   "execution_count": 3,
   "id": "93c92daf",
   "metadata": {},
   "outputs": [],
   "source": [
    "# df_full = pd.read_csv('Data/after_aug_preprocessed.csv')"
   ]
  },
  {
   "cell_type": "code",
   "execution_count": 5,
   "id": "b79c62eb",
   "metadata": {},
   "outputs": [
    {
     "data": {
      "image/png": "[encoded data removed]",
      "text/plain": [
       "<Figure size 648x504 with 1 Axes>"
      ]
     },
     "metadata": {},
     "output_type": "display_data"
    },
    {
     "data": {
      "image/png": "[encoded data removed]",
      "text/plain": [
       "<Figure size 648x504 with 1 Axes>"
      ]
     },
     "metadata": {},
     "output_type": "display_data"
    }
   ],
   "source": [
    "plot_count(df_full, ['rate', 'sentiment'])"
   ]
  },
  {
   "cell_type": "markdown",
   "id": "4326e13d",
   "metadata": {},
   "source": [
    "Негативных отзывов по-прежнему значительно меньше, но в целом картина теперь более сбалансированная."
   ]
  },
  {
   "cell_type": "markdown",
   "id": "c7a0bc92",
   "metadata": {},
   "source": [
    "### Review embeddings\n",
    "\n",
    "Эмбеддинги отзывов будем получать с помощью модели universal-sentence-encoder от tensorflow\n",
    "\n",
    "Примечание: здесь в отличие от этапа EDA данные не лемматизируются, стоп-слова не удалены"
   ]
  },
  {
   "cell_type": "code",
   "execution_count": 335,
   "id": "590b936e",
   "metadata": {},
   "outputs": [],
   "source": [
    "module_url = 'https://tfhub.dev/google/universal-sentence-encoder-multilingual-large/3'"
   ]
  },
  {
   "cell_type": "code",
   "execution_count": 336,
   "id": "d2777cf6",
   "metadata": {},
   "outputs": [],
   "source": [
    "model = hub.load(module_url)"
   ]
  },
  {
   "cell_type": "code",
   "execution_count": 337,
   "id": "a11474cf",
   "metadata": {},
   "outputs": [],
   "source": [
    "def embed_text(input):\n",
    "    return model(input)"
   ]
  },
  {
   "cell_type": "code",
   "execution_count": 338,
   "id": "ae0a6852",
   "metadata": {},
   "outputs": [],
   "source": [
    "# def get_avg_embed(sentences):\n",
    "#     vectors = [embed_text(sent) for sent in sentences]\n",
    "#     features = [np.array(vec)[0] for vec in vectors]\n",
    "#     return sum(features)/len(features)"
   ]
  },
  {
   "cell_type": "code",
   "execution_count": 769,
   "id": "c542f425",
   "metadata": {},
   "outputs": [
    {
     "name": "stderr",
     "output_type": "stream",
     "text": [
      "100%|████████████████████████████████████████████████████████████████████████████| 15164/15164 [22:59<00:00, 10.99it/s]\n"
     ]
    }
   ],
   "source": [
    "review_embeddings = [embed_text(sents) for sents in tqdm(df_full.sentences)]"
   ]
  },
  {
   "cell_type": "code",
   "execution_count": 772,
   "id": "5d970502",
   "metadata": {},
   "outputs": [],
   "source": [
    "features = [np.array(vec)[0] for vec in review_embeddings]"
   ]
  },
  {
   "cell_type": "code",
   "execution_count": 773,
   "id": "87efec5d",
   "metadata": {},
   "outputs": [
    {
     "data": {
      "text/plain": [
       "array([ 2.50889435e-02,  1.45921940e-02, -3.24366707e-03,  5.39506972e-02,\n",
       "        2.80524138e-03,  4.17258330e-02, -3.28141563e-02,  6.78619742e-02,\n",
       "        1.92527473e-02,  1.71219301e-03,  2.47563794e-02, -2.76583945e-03,\n",
       "       -5.02115786e-02, -4.15134691e-02, -9.79871862e-03, -8.16176459e-02,\n",
       "        5.67616262e-02, -1.02089280e-02,  2.08990015e-02,  7.61493966e-02,\n",
       "       -1.44009190e-02, -1.88124832e-02,  2.28703637e-02,  7.62632787e-02,\n",
       "        4.45895717e-02, -5.48449717e-02,  3.58972736e-02,  5.31252995e-02,\n",
       "        4.40389663e-02,  4.68753427e-02,  1.56867653e-02,  1.99432503e-02,\n",
       "       -2.14840975e-02, -4.79593612e-02, -1.54269496e-02, -3.33655812e-02,\n",
       "        6.61619455e-02,  5.65089360e-02,  3.11498605e-02, -1.02784097e-01,\n",
       "        7.28475451e-02,  4.40087775e-03,  2.41239741e-03,  2.97181448e-03,\n",
       "       -1.82451028e-02, -2.52154414e-02, -6.31105527e-02, -9.20046400e-03,\n",
       "       -1.21336104e-03, -3.99171002e-02,  4.30778712e-02,  7.58779496e-02,\n",
       "        6.57735392e-02,  2.55618989e-02,  8.28709155e-02, -1.56273507e-02,\n",
       "       -1.08817838e-01, -1.30412150e-02, -6.42155856e-02,  8.07560459e-02,\n",
       "       -4.94514778e-03, -2.70834146e-03, -4.16185781e-02, -7.53318053e-03,\n",
       "       -4.44931276e-02,  2.57682744e-02, -2.47670021e-02,  7.10539892e-03,\n",
       "        5.57510369e-03,  1.25111304e-02,  7.76535645e-02,  9.62153636e-03,\n",
       "       -1.39574171e-03, -3.17803621e-02,  3.83290090e-03, -2.51953136e-02,\n",
       "       -3.75524610e-02, -5.54488041e-02, -1.09502621e-01,  5.55131771e-03,\n",
       "        3.55993696e-02, -1.03199422e-01,  7.26475865e-02, -4.91641574e-02,\n",
       "       -2.12028399e-02,  4.84308042e-02, -1.86451729e-02,  1.23427669e-02,\n",
       "       -1.48794847e-02, -3.34183499e-02, -3.01212519e-02,  5.70068657e-02,\n",
       "        6.92729279e-02,  1.04722820e-01, -3.29780243e-02,  3.80876735e-02,\n",
       "       -1.00617275e-01,  1.06625199e-01,  1.48054911e-02, -2.27520391e-02,\n",
       "        1.21253999e-02, -6.39054775e-02,  8.37973580e-02,  4.21037488e-02,\n",
       "       -1.73825976e-02, -4.29223664e-02, -5.53287193e-02,  4.39167432e-02,\n",
       "       -2.24070437e-02, -3.02208029e-02,  3.35572697e-02,  6.74349070e-02,\n",
       "        6.39129728e-02,  1.54408030e-02, -1.20880470e-01, -4.17803414e-03,\n",
       "        4.32069823e-02, -3.97162959e-02,  6.77066147e-02, -2.06689499e-02,\n",
       "       -3.49656167e-03,  4.56061028e-02, -3.62931914e-03, -9.82572418e-03,\n",
       "       -6.61789626e-02, -2.20387988e-02,  2.89160144e-02, -8.09044540e-02,\n",
       "        7.35430047e-02,  4.16523926e-02,  2.51633395e-02, -3.57422158e-02,\n",
       "       -1.97819751e-02,  3.32105346e-02,  7.26419613e-02,  2.47832591e-04,\n",
       "       -6.19425699e-02,  2.97093554e-03, -3.99489291e-02, -6.52869865e-02,\n",
       "        1.89429224e-02, -1.20731024e-02, -2.20490247e-02,  3.47431451e-02,\n",
       "       -3.35058058e-03,  8.10324494e-03, -1.84681788e-02, -5.40249720e-02,\n",
       "       -2.41546705e-02, -8.58466923e-02, -1.61520671e-02,  6.61654696e-02,\n",
       "       -4.06390391e-02, -2.20309291e-02, -2.71311053e-03,  4.68581654e-02,\n",
       "       -2.74868868e-02,  3.02779954e-02, -2.98297647e-02,  3.21290642e-02,\n",
       "        6.33558109e-02,  1.10579379e-01, -2.46642716e-02,  3.18771563e-02,\n",
       "        1.37513708e-02,  1.62771363e-02,  1.08570643e-02,  4.03601378e-02,\n",
       "       -4.68865894e-02,  1.57100838e-02, -1.00595802e-01,  2.44170055e-03,\n",
       "       -6.32966980e-02, -1.92889757e-02,  1.00814123e-02,  1.40640233e-02,\n",
       "        2.98191141e-02, -2.08255276e-02, -1.00459717e-01, -2.85027176e-02,\n",
       "        5.35505358e-03,  6.10880926e-02, -5.64497449e-02, -5.88683821e-02,\n",
       "       -3.86041068e-02,  5.59802055e-02, -4.83248271e-02, -4.79011647e-02,\n",
       "       -1.19474055e-02, -9.78998616e-02, -4.63682972e-02, -3.52986045e-02,\n",
       "       -3.29797342e-02, -2.02477537e-02, -4.99381982e-02, -5.34189530e-02,\n",
       "       -1.02133989e-01, -3.47620435e-02, -1.93932303e-03,  2.01612543e-02,\n",
       "        1.71438362e-02, -6.49445280e-02,  9.03003290e-03, -5.39861172e-02,\n",
       "        3.08330823e-02,  3.50424871e-02, -1.82201639e-02,  3.77136730e-02,\n",
       "       -1.93766420e-04,  6.69809282e-02, -3.54711674e-02, -3.45977172e-02,\n",
       "        5.55956997e-02,  5.17397653e-03,  4.70056050e-02,  1.23604745e-01,\n",
       "       -6.72893878e-03, -2.71269120e-02, -2.47761160e-02, -1.21243121e-02,\n",
       "        3.80603820e-02,  7.06061628e-03, -3.93858738e-02, -2.06631701e-02,\n",
       "        4.82637100e-02,  6.48290589e-02,  2.16466207e-02, -2.23768298e-02,\n",
       "       -2.18933392e-02,  1.03613932e-03,  2.23348886e-02, -1.14755191e-01,\n",
       "        1.56609751e-02, -8.76852963e-03,  4.93011586e-02,  1.79724710e-03,\n",
       "       -3.13973054e-02, -5.74348830e-02, -3.42016108e-02,  3.03294547e-02,\n",
       "        3.05450372e-02, -9.18101426e-03,  2.12192331e-02,  7.16988519e-02,\n",
       "       -3.06395311e-02, -1.37147680e-02,  4.27983478e-02, -4.04380932e-02,\n",
       "        2.96915490e-02,  7.49090612e-02, -1.65122617e-02, -8.89834110e-03,\n",
       "        1.29106045e-02,  6.96430635e-03,  1.54783456e-02, -7.78962821e-02,\n",
       "        3.20454575e-02, -7.31025590e-03, -3.24590355e-02, -3.77554335e-02,\n",
       "       -6.91323148e-05, -8.75116233e-03, -1.55308340e-02, -4.41136323e-02,\n",
       "        3.65338288e-02, -3.00261546e-02,  3.30054015e-02, -1.04747945e-02,\n",
       "       -1.04739526e-02, -4.50375341e-02,  2.35243458e-02, -3.94774042e-03,\n",
       "       -1.84923261e-02, -4.67926031e-03, -6.88646734e-02, -1.60945486e-02,\n",
       "        1.00721838e-02,  2.52919421e-02,  8.48064851e-03,  6.25658631e-02,\n",
       "       -4.06659134e-02,  4.17848788e-02, -1.53657258e-03, -6.01534359e-03,\n",
       "       -3.00363582e-02,  5.04753627e-02,  8.72218981e-02,  1.30247483e-02,\n",
       "       -4.64171991e-02,  6.67226911e-02,  4.55080532e-03,  2.86093410e-02,\n",
       "        1.07313814e-02,  2.63779648e-02,  6.60952106e-02,  6.79590553e-02,\n",
       "        3.93653587e-02, -2.22520251e-02,  3.29782590e-02,  2.04637498e-02,\n",
       "        5.17266206e-02,  3.82009558e-02, -3.48313823e-02,  1.64632890e-02,\n",
       "       -6.04362600e-02, -4.87990342e-02, -8.35311413e-03,  6.77884137e-03,\n",
       "        2.71394267e-04, -5.94888665e-02,  2.89101023e-02,  1.57438330e-02,\n",
       "        7.35410154e-02,  6.13098182e-02,  1.18537247e-03,  2.20855586e-02,\n",
       "        8.20767730e-02,  2.10208483e-02,  9.35013071e-02, -3.52601372e-02,\n",
       "        7.19946623e-02,  3.57159004e-02, -3.34520116e-02, -2.11226717e-02,\n",
       "        3.23703699e-02, -1.15865711e-02, -5.92818893e-02,  3.12256422e-02,\n",
       "       -2.28445791e-02, -5.19277342e-02, -1.28193535e-02,  1.29873129e-02,\n",
       "        1.79499872e-02, -4.86768223e-02,  9.03117005e-03,  1.56167392e-02,\n",
       "        2.97891349e-02, -6.26188144e-02,  6.20895177e-02, -2.86355540e-02,\n",
       "        4.10778336e-02,  3.10478639e-03,  7.88679905e-03,  4.35908400e-02,\n",
       "        3.11559495e-02,  4.15355675e-02,  3.25483107e-03,  1.75915789e-02,\n",
       "        4.71161380e-02,  5.49285822e-02, -5.11644259e-02, -2.03596279e-02,\n",
       "       -1.02132604e-01, -2.06202287e-02,  1.18983565e-02, -6.28609955e-02,\n",
       "        4.25458364e-02, -6.23571798e-02, -6.00219294e-02,  2.21157931e-02,\n",
       "       -8.19684267e-02,  5.43327071e-02,  5.41387387e-02, -1.96829662e-02,\n",
       "        6.69901147e-02,  6.39687013e-03,  6.29869550e-02,  6.38622567e-02,\n",
       "       -2.67721061e-02,  3.14300805e-02,  3.29041705e-02,  1.85299129e-03,\n",
       "        3.69155556e-02,  5.59111089e-02,  4.42628413e-02,  2.29044408e-02,\n",
       "       -1.14039697e-01,  5.02155721e-02, -6.63127750e-02, -4.18631472e-02,\n",
       "        4.40093838e-02,  4.99383174e-02, -4.14869748e-02,  7.21917255e-03,\n",
       "       -2.60838598e-04, -9.22393519e-03,  1.88760702e-02,  4.16379608e-02,\n",
       "       -5.14361262e-03,  9.08177253e-03,  4.86157946e-02, -1.16742980e-02,\n",
       "        1.05224168e-02,  9.70244259e-02,  5.28376922e-02, -6.06786273e-02,\n",
       "       -5.98877110e-02,  5.01419138e-03,  2.49332171e-02, -5.42413816e-02,\n",
       "        4.23402078e-02,  1.75205339e-02,  4.38485555e-02,  6.34125918e-02,\n",
       "        3.46125588e-02, -4.32306230e-02, -4.39575389e-02, -2.69115530e-02,\n",
       "        3.03411875e-02,  7.43395695e-03, -2.39807963e-02,  1.46838604e-02,\n",
       "       -8.06847587e-03,  5.88912517e-02, -6.82416977e-03, -2.43360717e-02,\n",
       "       -3.44445370e-02,  2.89722309e-02,  1.20861055e-02, -5.87404966e-02,\n",
       "       -1.16482675e-02,  4.90747839e-02,  1.28958700e-02,  8.55739638e-02,\n",
       "       -8.06366093e-03, -1.81555711e-02, -8.76107626e-03, -1.46161914e-02,\n",
       "       -4.28365506e-02,  5.19014038e-02, -1.02953985e-01, -7.28389830e-04,\n",
       "       -1.83662977e-02, -2.25292277e-02,  3.45665030e-02,  2.78307609e-02,\n",
       "        2.65710820e-02,  3.54554616e-02, -2.41373875e-03,  1.78339519e-02,\n",
       "        4.34622504e-02,  8.12921673e-03, -1.14003653e-02,  6.58645183e-02,\n",
       "        2.09396947e-02, -1.56414546e-02, -6.93402737e-02,  5.16585298e-02,\n",
       "       -2.65872292e-02,  2.58260239e-02,  4.35581617e-02, -2.67360657e-02,\n",
       "        7.33785331e-02,  5.28857969e-02,  2.70001404e-03,  2.20018276e-03,\n",
       "       -2.23252811e-02, -2.89361482e-03,  3.76188271e-02,  2.91542877e-02,\n",
       "        2.10548695e-02,  2.82527842e-02, -3.00515275e-02,  4.93282415e-02,\n",
       "       -9.98129230e-03, -8.31424296e-02, -1.29535809e-04,  1.34278079e-02,\n",
       "       -6.64089918e-02,  3.42873335e-02, -1.17099835e-02,  2.38685105e-02,\n",
       "       -3.68358903e-02, -2.65469979e-02,  2.70939688e-03, -5.08796386e-02,\n",
       "       -2.11808570e-02,  1.98805239e-03, -2.72170990e-03, -1.72641054e-02,\n",
       "       -7.18870759e-02,  1.03252605e-01,  6.07625730e-02,  6.60398155e-02,\n",
       "       -4.97092605e-02,  1.09334383e-02, -1.89835113e-02, -2.07829420e-02,\n",
       "        1.05133979e-02, -1.30552463e-02, -4.14071269e-02, -2.44556721e-02,\n",
       "        4.76991683e-02,  3.59857082e-02, -9.98091511e-03,  2.64305640e-02,\n",
       "       -2.56360173e-02,  6.30831486e-03, -7.11210445e-02, -4.26745228e-02,\n",
       "       -3.86588951e-03, -3.91220264e-02,  1.30787477e-01,  8.90745893e-02,\n",
       "       -1.88904349e-04, -4.71769571e-02, -5.33614308e-02, -1.17362188e-02,\n",
       "        3.79843102e-03, -5.26751503e-02,  4.34870496e-02,  1.37585383e-02],\n",
       "      dtype=float32)"
      ]
     },
     "execution_count": 773,
     "metadata": {},
     "output_type": "execute_result"
    }
   ],
   "source": [
    "features[0]"
   ]
  },
  {
   "cell_type": "code",
   "execution_count": 774,
   "id": "c571f9da",
   "metadata": {},
   "outputs": [
    {
     "data": {
      "text/plain": [
       "(15164, 512)"
      ]
     },
     "execution_count": 774,
     "metadata": {},
     "output_type": "execute_result"
    }
   ],
   "source": [
    "np_vec = np.array(features)\n",
    "np_vec.shape"
   ]
  },
  {
   "cell_type": "code",
   "execution_count": 775,
   "id": "8b14059a",
   "metadata": {},
   "outputs": [],
   "source": [
    "np.save('vectors_aug_1412', np_vec)"
   ]
  },
  {
   "cell_type": "code",
   "execution_count": 4,
   "id": "e9006a45",
   "metadata": {},
   "outputs": [],
   "source": [
    "# features = np.load('vectors_aug_1412.npy')"
   ]
  },
  {
   "cell_type": "code",
   "execution_count": 781,
   "id": "44d5dd63",
   "metadata": {},
   "outputs": [
    {
     "data": {
      "text/html": [
       "<div>\n",
       "<style scoped>\n",
       "    .dataframe tbody tr th:only-of-type {\n",
       "        vertical-align: middle;\n",
       "    }\n",
       "\n",
       "    .dataframe tbody tr th {\n",
       "        vertical-align: top;\n",
       "    }\n",
       "\n",
       "    .dataframe thead th {\n",
       "        text-align: right;\n",
       "    }\n",
       "</style>\n",
       "<table border=\"1\" class=\"dataframe\">\n",
       "  <thead>\n",
       "    <tr style=\"text-align: right;\">\n",
       "      <th></th>\n",
       "      <th>text</th>\n",
       "      <th>rate</th>\n",
       "      <th>sentiment</th>\n",
       "      <th>sentences</th>\n",
       "      <th>text_cleaned</th>\n",
       "    </tr>\n",
       "  </thead>\n",
       "  <tbody>\n",
       "    <tr>\n",
       "      <th>14871</th>\n",
       "      <td>Я виноват, что не сверил его размеры перед пок...</td>\n",
       "      <td>4</td>\n",
       "      <td>Neutral</td>\n",
       "      <td>[я виноватый что не сверить он размер перед по...</td>\n",
       "      <td>я виноватый что не сверить он размер перед пок...</td>\n",
       "    </tr>\n",
       "    <tr>\n",
       "      <th>7972</th>\n",
       "      <td>Для своей цены вполне неплохая модель, отлично...</td>\n",
       "      <td>4</td>\n",
       "      <td>Neutral</td>\n",
       "      <td>[для свой цена вполне неплохой модель отлично ...</td>\n",
       "      <td>для свой цена вполне неплохой модель отлично п...</td>\n",
       "    </tr>\n",
       "    <tr>\n",
       "      <th>9231</th>\n",
       "      <td>Спасибо за доставку в Волгодонск,дошла быстро,...</td>\n",
       "      <td>5</td>\n",
       "      <td>Positive</td>\n",
       "      <td>[спасибо за доставка в волгодонск дойти быстро...</td>\n",
       "      <td>спасибо за доставка в волгодонск дойти быстро ...</td>\n",
       "    </tr>\n",
       "    <tr>\n",
       "      <th>7792</th>\n",
       "      <td>Неплохая гитара для начинающего басиста,как не...</td>\n",
       "      <td>5</td>\n",
       "      <td>Positive</td>\n",
       "      <td>[неплохой гитара для начинающий басистый как н...</td>\n",
       "      <td>неплохой гитара для начинающий басистый как не...</td>\n",
       "    </tr>\n",
       "    <tr>\n",
       "      <th>8382</th>\n",
       "      <td>Несмотря на то, что гитара пришла упакованной,...</td>\n",
       "      <td>2</td>\n",
       "      <td>Negative</td>\n",
       "      <td>[несмотря на то что гитара прийти упаковать у ...</td>\n",
       "      <td>несмотря на то что гитара прийти упаковать у о...</td>\n",
       "    </tr>\n",
       "    <tr>\n",
       "      <th>12259</th>\n",
       "      <td>У меня есть 3 штуки для подключения кабелей XL...</td>\n",
       "      <td>2</td>\n",
       "      <td>Negative</td>\n",
       "      <td>[у я есть штука для подключение кабель к разъё...</td>\n",
       "      <td>у я есть штука для подключение кабель к разъём...</td>\n",
       "    </tr>\n",
       "    <tr>\n",
       "      <th>13238</th>\n",
       "      <td>Я никогда не мог получить желаемый звук, испол...</td>\n",
       "      <td>4</td>\n",
       "      <td>Neutral</td>\n",
       "      <td>[я никогда не мочь получить желаемый звук испо...</td>\n",
       "      <td>я никогда не мочь получить желаемый звук испол...</td>\n",
       "    </tr>\n",
       "    <tr>\n",
       "      <th>6793</th>\n",
       "      <td>Здравствуйте.  Посоветуйте струны серии  ERNIE...</td>\n",
       "      <td>5</td>\n",
       "      <td>Positive</td>\n",
       "      <td>[здравствуйте, посоветовать струна серия под с...</td>\n",
       "      <td>здравствуйте посоветовать струна серия под ста...</td>\n",
       "    </tr>\n",
       "    <tr>\n",
       "      <th>8301</th>\n",
       "      <td>Поддержу предыдущего оратора.\\nЗа месяц эмоции...</td>\n",
       "      <td>5</td>\n",
       "      <td>Positive</td>\n",
       "      <td>[поддержать предыдущий оратор, за месяц эмоция...</td>\n",
       "      <td>поддержать предыдущий оратор за месяц эмоция о...</td>\n",
       "    </tr>\n",
       "    <tr>\n",
       "      <th>13972</th>\n",
       "      <td>Я никогда раньше не имел педали фузза, но проб...</td>\n",
       "      <td>4</td>\n",
       "      <td>Neutral</td>\n",
       "      <td>[я никогда ранний не иметь педаль фузз но проб...</td>\n",
       "      <td>я никогда ранний не иметь педаль фузз но пробо...</td>\n",
       "    </tr>\n",
       "  </tbody>\n",
       "</table>\n",
       "</div>"
      ],
      "text/plain": [
       "                                                    text  rate sentiment  \\\n",
       "14871  Я виноват, что не сверил его размеры перед пок...     4   Neutral   \n",
       "7972   Для своей цены вполне неплохая модель, отлично...     4   Neutral   \n",
       "9231   Спасибо за доставку в Волгодонск,дошла быстро,...     5  Positive   \n",
       "7792   Неплохая гитара для начинающего басиста,как не...     5  Positive   \n",
       "8382   Несмотря на то, что гитара пришла упакованной,...     2  Negative   \n",
       "12259  У меня есть 3 штуки для подключения кабелей XL...     2  Negative   \n",
       "13238  Я никогда не мог получить желаемый звук, испол...     4   Neutral   \n",
       "6793   Здравствуйте.  Посоветуйте струны серии  ERNIE...     5  Positive   \n",
       "8301   Поддержу предыдущего оратора.\\nЗа месяц эмоции...     5  Positive   \n",
       "13972  Я никогда раньше не имел педали фузза, но проб...     4   Neutral   \n",
       "\n",
       "                                               sentences  \\\n",
       "14871  [я виноватый что не сверить он размер перед по...   \n",
       "7972   [для свой цена вполне неплохой модель отлично ...   \n",
       "9231   [спасибо за доставка в волгодонск дойти быстро...   \n",
       "7792   [неплохой гитара для начинающий басистый как н...   \n",
       "8382   [несмотря на то что гитара прийти упаковать у ...   \n",
       "12259  [у я есть штука для подключение кабель к разъё...   \n",
       "13238  [я никогда не мочь получить желаемый звук испо...   \n",
       "6793   [здравствуйте, посоветовать струна серия под с...   \n",
       "8301   [поддержать предыдущий оратор, за месяц эмоция...   \n",
       "13972  [я никогда ранний не иметь педаль фузз но проб...   \n",
       "\n",
       "                                            text_cleaned  \n",
       "14871  я виноватый что не сверить он размер перед пок...  \n",
       "7972   для свой цена вполне неплохой модель отлично п...  \n",
       "9231   спасибо за доставка в волгодонск дойти быстро ...  \n",
       "7792   неплохой гитара для начинающий басистый как не...  \n",
       "8382   несмотря на то что гитара прийти упаковать у о...  \n",
       "12259  у я есть штука для подключение кабель к разъём...  \n",
       "13238  я никогда не мочь получить желаемый звук испол...  \n",
       "6793   здравствуйте посоветовать струна серия под ста...  \n",
       "8301   поддержать предыдущий оратор за месяц эмоция о...  \n",
       "13972  я никогда ранний не иметь педаль фузз но пробо...  "
      ]
     },
     "execution_count": 781,
     "metadata": {},
     "output_type": "execute_result"
    }
   ],
   "source": [
    "df_full.sample(10)"
   ]
  },
  {
   "cell_type": "code",
   "execution_count": 366,
   "id": "7ffc2084",
   "metadata": {},
   "outputs": [],
   "source": [
    "def cos_similarity(a, b):\n",
    "    cos_sim = 1 - np.dot(a, b)/(np.linalg.norm(a)*np.linalg.norm(b))\n",
    "    return cos_sim"
   ]
  },
  {
   "cell_type": "code",
   "execution_count": 782,
   "id": "73627a9b",
   "metadata": {},
   "outputs": [
    {
     "data": {
      "text/plain": [
       "0.8482875972986221"
      ]
     },
     "execution_count": 782,
     "metadata": {},
     "output_type": "execute_result"
    }
   ],
   "source": [
    "# косинусное расстояние между векторами позитивного и негативного отзывов \n",
    "cos_similarity(vectors[9231],  vectors[13238])"
   ]
  },
  {
   "cell_type": "code",
   "execution_count": 785,
   "id": "52532751",
   "metadata": {},
   "outputs": [
    {
     "data": {
      "text/plain": [
       "0.7885563671588898"
      ]
     },
     "execution_count": 785,
     "metadata": {},
     "output_type": "execute_result"
    }
   ],
   "source": [
    "# косинусное расстояние между веторами двух позитивных отзывов - эти вектора находятся ближе друг к другу\n",
    "cos_similarity(vectors[9231],  vectors[7792])"
   ]
  },
  {
   "cell_type": "markdown",
   "id": "094ea503",
   "metadata": {},
   "source": [
    "### split data on train and test"
   ]
  },
  {
   "cell_type": "markdown",
   "id": "a99578c9",
   "metadata": {},
   "source": [
    "Отделяю 20% исходного датасета для тестов уже после обучения модели, оставшиеся данные разбиваю на тренировочную и валидационную выборки"
   ]
  },
  {
   "cell_type": "code",
   "execution_count": 5,
   "id": "2f3c11d6",
   "metadata": {},
   "outputs": [],
   "source": [
    "X, x_test, Y, y_test = train_test_split(features, df_full.sentiment, stratify=df_full.sentiment, test_size=0.2, random_state=146)"
   ]
  },
  {
   "cell_type": "code",
   "execution_count": 6,
   "id": "cb230648",
   "metadata": {},
   "outputs": [],
   "source": [
    "x_train, x_val, y_train, y_val = train_test_split(np.array(X), np.array(Y), stratify=Y, test_size=0.25, random_state=146)"
   ]
  },
  {
   "cell_type": "code",
   "execution_count": 7,
   "id": "9536e00e",
   "metadata": {},
   "outputs": [
    {
     "name": "stdout",
     "output_type": "stream",
     "text": [
      "(9098, 512)\n",
      "(3033, 512)\n"
     ]
    }
   ],
   "source": [
    "print(x_train.shape)\n",
    "print(x_val.shape)"
   ]
  },
  {
   "cell_type": "markdown",
   "id": "996f88fa",
   "metadata": {},
   "source": [
    "### Baseline"
   ]
  },
  {
   "cell_type": "code",
   "execution_count": 11,
   "id": "1d56e7b0",
   "metadata": {},
   "outputs": [
    {
     "name": "stdout",
     "output_type": "stream",
     "text": [
      "              precision    recall  f1-score   support\n",
      "\n",
      "    Negative       0.09      0.57      0.15        30\n",
      "     Neutral       0.72      0.67      0.69      1370\n",
      "    Positive       0.79      0.76      0.78      1633\n",
      "\n",
      "    accuracy                           0.72      3033\n",
      "   macro avg       0.53      0.67      0.54      3033\n",
      "weighted avg       0.75      0.72      0.73      3033\n",
      "\n"
     ]
    }
   ],
   "source": [
    "lr = LogisticRegression(max_iter=5000)\n",
    "lr.fit(x_train, y_train)\n",
    "y_pred = lr.predict(x_val)\n",
    "print(classification_report(y_pred, y_val))"
   ]
  },
  {
   "cell_type": "markdown",
   "id": "49ba28c1",
   "metadata": {},
   "source": [
    "Результат средний, скоры для меньшего класса оставляют желать лучшего "
   ]
  },
  {
   "cell_type": "markdown",
   "id": "faaf9086",
   "metadata": {},
   "source": [
    "### other classifiers"
   ]
  },
  {
   "cell_type": "code",
   "execution_count": 12,
   "id": "33062788",
   "metadata": {},
   "outputs": [],
   "source": [
    "classifiers = {\n",
    "    'lr_l1':LogisticRegression(penalty='l1', C=0.1, solver='saga', max_iter=5000),\n",
    "    'lr_l2':LogisticRegression(penalty='l2', C=0.1, solver='saga', max_iter=5000),\n",
    "    'tree':DecisionTreeClassifier(),\n",
    "    'rfc': RandomForestClassifier(), \n",
    "    'knc': KNeighborsClassifier(n_neighbors=7),\n",
    "    'svc': SVC()\n",
    "}"
   ]
  },
  {
   "cell_type": "code",
   "execution_count": 13,
   "id": "ec3a6839",
   "metadata": {},
   "outputs": [],
   "source": [
    "def train_and_predict(model, x_train, x_test, y_train, y_test):\n",
    "    '''\n",
    "    Обучение модели классификации и вывод результатов\n",
    "    '''\n",
    "    model.fit(x_train, y_train)\n",
    "    y_pred = model.predict(x_test)\n",
    "    print(f'{model.__class__.__name__} result')\n",
    "    print(classification_report(y_pred, y_test))\n",
    "    print('----------------------------------')"
   ]
  },
  {
   "cell_type": "code",
   "execution_count": 16,
   "id": "27211705",
   "metadata": {},
   "outputs": [
    {
     "name": "stdout",
     "output_type": "stream",
     "text": [
      "LogisticRegression result\n",
      "              precision    recall  f1-score   support\n",
      "\n",
      "    Negative       0.00      0.00      0.00         0\n",
      "     Neutral       0.65      0.61      0.63      1354\n",
      "    Positive       0.76      0.71      0.73      1679\n",
      "\n",
      "    accuracy                           0.67      3033\n",
      "   macro avg       0.47      0.44      0.46      3033\n",
      "weighted avg       0.71      0.67      0.69      3033\n",
      "\n",
      "----------------------------------\n",
      "LogisticRegression result\n",
      "              precision    recall  f1-score   support\n",
      "\n",
      "    Negative       0.00      0.00      0.00         0\n",
      "     Neutral       0.73      0.66      0.69      1412\n",
      "    Positive       0.79      0.76      0.77      1621\n",
      "\n",
      "    accuracy                           0.71      3033\n",
      "   macro avg       0.50      0.47      0.49      3033\n",
      "weighted avg       0.76      0.71      0.73      3033\n",
      "\n",
      "----------------------------------\n",
      "DecisionTreeClassifier result\n",
      "              precision    recall  f1-score   support\n",
      "\n",
      "    Negative       0.13      0.14      0.14       180\n",
      "     Neutral       0.60      0.59      0.59      1291\n",
      "    Positive       0.70      0.70      0.70      1562\n",
      "\n",
      "    accuracy                           0.62      3033\n",
      "   macro avg       0.48      0.48      0.48      3033\n",
      "weighted avg       0.62      0.62      0.62      3033\n",
      "\n",
      "----------------------------------\n",
      "RandomForestClassifier result\n",
      "              precision    recall  f1-score   support\n",
      "\n",
      "    Negative       0.02      0.60      0.03         5\n",
      "     Neutral       0.76      0.66      0.71      1472\n",
      "    Positive       0.77      0.78      0.78      1556\n",
      "\n",
      "    accuracy                           0.72      3033\n",
      "   macro avg       0.52      0.68      0.50      3033\n",
      "weighted avg       0.77      0.72      0.74      3033\n",
      "\n",
      "----------------------------------\n",
      "KNeighborsClassifier result\n",
      "              precision    recall  f1-score   support\n",
      "\n",
      "    Negative       0.08      0.33      0.13        49\n",
      "     Neutral       0.65      0.68      0.67      1238\n",
      "    Positive       0.82      0.73      0.77      1746\n",
      "\n",
      "    accuracy                           0.70      3033\n",
      "   macro avg       0.52      0.58      0.52      3033\n",
      "weighted avg       0.74      0.70      0.72      3033\n",
      "\n",
      "----------------------------------\n",
      "SVC result\n",
      "              precision    recall  f1-score   support\n",
      "\n",
      "    Negative       0.05      0.71      0.10        14\n",
      "     Neutral       0.77      0.70      0.73      1408\n",
      "    Positive       0.82      0.79      0.80      1611\n",
      "\n",
      "    accuracy                           0.75      3033\n",
      "   macro avg       0.55      0.73      0.54      3033\n",
      "weighted avg       0.79      0.75      0.77      3033\n",
      "\n",
      "----------------------------------\n"
     ]
    }
   ],
   "source": [
    "for classifier in classifiers.values():\n",
    "    train_and_predict(classifier, x_train, x_val, y_train, y_val)"
   ]
  },
  {
   "cell_type": "markdown",
   "id": "b244703a",
   "metadata": {},
   "source": [
    "Как мы видим, классификаторы плохо справляются с малым классом негативных отзывов. Попробуем дополнительно преобразовать данные"
   ]
  },
  {
   "cell_type": "markdown",
   "id": "35ef3ebb",
   "metadata": {},
   "source": [
    "### Undersampling, oversampling"
   ]
  },
  {
   "cell_type": "code",
   "execution_count": 8,
   "id": "db91f1de",
   "metadata": {},
   "outputs": [
    {
     "data": {
      "text/plain": [
       "Counter({'Positive': 6233, 'Neutral': 5125, 'Negative': 773})"
      ]
     },
     "execution_count": 8,
     "metadata": {},
     "output_type": "execute_result"
    }
   ],
   "source": [
    "Counter(Y)"
   ]
  },
  {
   "cell_type": "markdown",
   "id": "4d75f874",
   "metadata": {},
   "source": [
    "Метод EditedNearestNeighbours позволяет уменьшить количество объектов классов таким образом, чтобы получить кластеры объектов, более четко отделенные друг от друга. Для нас это будет полезным, чтобы классификаторам было легче разделять данные по классам."
   ]
  },
  {
   "cell_type": "code",
   "execution_count": 9,
   "id": "ffd7d667",
   "metadata": {},
   "outputs": [],
   "source": [
    "enn = EditedNearestNeighbours(sampling_strategy='majority', kind_sel='mode') "
   ]
  },
  {
   "cell_type": "code",
   "execution_count": 10,
   "id": "69554972",
   "metadata": {},
   "outputs": [],
   "source": [
    "X_resampled, Y_resampled = enn.fit_resample(X, Y)"
   ]
  },
  {
   "cell_type": "code",
   "execution_count": 11,
   "id": "6c090bb8",
   "metadata": {},
   "outputs": [
    {
     "data": {
      "text/plain": [
       "Counter({'Negative': 773, 'Neutral': 5125, 'Positive': 4928})"
      ]
     },
     "execution_count": 11,
     "metadata": {},
     "output_type": "execute_result"
    }
   ],
   "source": [
    "Counter(Y_resampled)"
   ]
  },
  {
   "cell_type": "code",
   "execution_count": 12,
   "id": "29e516f1",
   "metadata": {},
   "outputs": [],
   "source": [
    "smote = SMOTE(sampling_strategy='not majority')"
   ]
  },
  {
   "cell_type": "code",
   "execution_count": 13,
   "id": "43f704b0",
   "metadata": {},
   "outputs": [],
   "source": [
    "X_resampled, Y_resampled = smote.fit_resample(X_resampled, Y_resampled)"
   ]
  },
  {
   "cell_type": "code",
   "execution_count": 14,
   "id": "b2898f72",
   "metadata": {},
   "outputs": [
    {
     "data": {
      "text/plain": [
       "Counter({'Negative': 5125, 'Neutral': 5125, 'Positive': 5125})"
      ]
     },
     "execution_count": 14,
     "metadata": {},
     "output_type": "execute_result"
    }
   ],
   "source": [
    "Counter(Y_resampled)"
   ]
  },
  {
   "cell_type": "code",
   "execution_count": 15,
   "id": "d570da10",
   "metadata": {},
   "outputs": [],
   "source": [
    "x_train, x_val, y_train, y_val = train_test_split(np.array(X_resampled), np.array(Y_resampled), test_size=0.25, random_state=146)"
   ]
  },
  {
   "cell_type": "markdown",
   "id": "0f80482c",
   "metadata": {},
   "source": [
    "### Choosing a Classifier"
   ]
  },
  {
   "cell_type": "code",
   "execution_count": 107,
   "id": "a2b53075",
   "metadata": {},
   "outputs": [],
   "source": [
    "def get_scores_from_report(clf):\n",
    "    report_body = clf.split('\\n\\n')[1]\n",
    "    items = report_body.split('\\n')\n",
    "    fscores_dict = {i.split()[0]: float(i.split()[-2]) for i in items}\n",
    "    return fscores_dict"
   ]
  },
  {
   "cell_type": "code",
   "execution_count": 26,
   "id": "e7bef4b2",
   "metadata": {
    "scrolled": false
   },
   "outputs": [
    {
     "name": "stdout",
     "output_type": "stream",
     "text": [
      "LogisticRegression result\n",
      "              precision    recall  f1-score   support\n",
      "\n",
      "    Negative       0.70      0.64      0.67      1372\n",
      "     Neutral       0.51      0.57      0.54      1161\n",
      "    Positive       0.75      0.75      0.75      1311\n",
      "\n",
      "    accuracy                           0.65      3844\n",
      "   macro avg       0.65      0.65      0.65      3844\n",
      "weighted avg       0.66      0.65      0.65      3844\n",
      "\n",
      "----------------------------------\n",
      "LogisticRegression result\n",
      "              precision    recall  f1-score   support\n",
      "\n",
      "    Negative       0.73      0.67      0.70      1353\n",
      "     Neutral       0.57      0.60      0.58      1220\n",
      "    Positive       0.76      0.78      0.77      1271\n",
      "\n",
      "    accuracy                           0.68      3844\n",
      "   macro avg       0.68      0.68      0.68      3844\n",
      "weighted avg       0.69      0.68      0.68      3844\n",
      "\n",
      "----------------------------------\n",
      "DecisionTreeClassifier result\n",
      "              precision    recall  f1-score   support\n",
      "\n",
      "    Negative       0.83      0.76      0.79      1353\n",
      "     Neutral       0.59      0.62      0.60      1213\n",
      "    Positive       0.70      0.72      0.71      1278\n",
      "\n",
      "    accuracy                           0.70      3844\n",
      "   macro avg       0.70      0.70      0.70      3844\n",
      "weighted avg       0.71      0.70      0.71      3844\n",
      "\n",
      "----------------------------------\n",
      "RandomForestClassifier result\n",
      "              precision    recall  f1-score   support\n",
      "\n",
      "    Negative       0.96      0.95      0.96      1265\n",
      "     Neutral       0.85      0.75      0.79      1456\n",
      "    Positive       0.74      0.86      0.80      1123\n",
      "\n",
      "    accuracy                           0.85      3844\n",
      "   macro avg       0.85      0.86      0.85      3844\n",
      "weighted avg       0.85      0.85      0.85      3844\n",
      "\n",
      "----------------------------------\n",
      "KNeighborsClassifier result\n",
      "              precision    recall  f1-score   support\n",
      "\n",
      "    Negative       0.99      0.54      0.70      2276\n",
      "     Neutral       0.26      0.86      0.40       393\n",
      "    Positive       0.74      0.83      0.78      1175\n",
      "\n",
      "    accuracy                           0.66      3844\n",
      "   macro avg       0.67      0.74      0.63      3844\n",
      "weighted avg       0.84      0.66      0.70      3844\n",
      "\n",
      "----------------------------------\n",
      "SVC result\n",
      "              precision    recall  f1-score   support\n",
      "\n",
      "    Negative       0.90      0.97      0.93      1168\n",
      "     Neutral       0.83      0.78      0.80      1379\n",
      "    Positive       0.84      0.85      0.85      1297\n",
      "\n",
      "    accuracy                           0.86      3844\n",
      "   macro avg       0.86      0.86      0.86      3844\n",
      "weighted avg       0.86      0.86      0.86      3844\n",
      "\n",
      "----------------------------------\n"
     ]
    }
   ],
   "source": [
    "acc_dict = {}\n",
    "fscores = {}\n",
    "\n",
    "for name, classifier in classifiers.items():\n",
    "    classifier.fit(x_train, y_train)\n",
    "    y_pred = classifier.predict(x_val)\n",
    "    print(f'{classifier.__class__.__name__} result')\n",
    "    print(classification_report(y_pred, y_val))\n",
    "    print('----------------------------------')\n",
    "    acc_dict[name] = accuracy_score(y_pred, y_val)\n",
    "    fscores[name] = get_scores_from_report(classification_report(y_pred, y_val))"
   ]
  },
  {
   "cell_type": "code",
   "execution_count": 27,
   "id": "b005c247",
   "metadata": {},
   "outputs": [
    {
     "data": {
      "text/plain": [
       "<AxesSubplot:title={'center':'F1-scores'}>"
      ]
     },
     "execution_count": 27,
     "metadata": {},
     "output_type": "execute_result"
    },
    {
     "data": {
      "image/png": "[encoded data removed]",
      "text/plain": [
       "<Figure size 576x432 with 1 Axes>"
      ]
     },
     "metadata": {},
     "output_type": "display_data"
    }
   ],
   "source": [
    "pd.DataFrame(fscores).T.plot(kind='bar', figsize=(8, 6), title='F1-scores')"
   ]
  },
  {
   "cell_type": "code",
   "execution_count": 28,
   "id": "3fcfba6a",
   "metadata": {},
   "outputs": [
    {
     "data": {
      "text/plain": [
       "Text(0.5, 1.0, 'Accuracy scores')"
      ]
     },
     "execution_count": 28,
     "metadata": {},
     "output_type": "execute_result"
    },
    {
     "data": {
      "image/png": "[encoded data removed]",
      "text/plain": [
       "<Figure size 576x432 with 1 Axes>"
      ]
     },
     "metadata": {},
     "output_type": "display_data"
    }
   ],
   "source": [
    "sorted_tuples = sorted(acc_dict.items(), key=lambda item: item[1])\n",
    "sorted_dict = {k: v for k, v in sorted_tuples}\n",
    "plt.figure(figsize=(8, 6))\n",
    "sns.barplot(x=list(sorted_dict.keys()),y=[round(i, 3) for i in sorted_dict.values()]).set_title('Accuracy scores')"
   ]
  },
  {
   "cell_type": "markdown",
   "id": "7f7c763b",
   "metadata": {},
   "source": [
    "Наилучший результат и высокие f1-score для каждого класса показали RandomForestClassifier и SVC. "
   ]
  },
  {
   "cell_type": "markdown",
   "id": "04946b6e",
   "metadata": {},
   "source": [
    "### Hyperparameters tuning for the best classifiers"
   ]
  },
  {
   "cell_type": "code",
   "execution_count": 59,
   "id": "29a1d9d6",
   "metadata": {},
   "outputs": [],
   "source": [
    "param_grid = {'C':[1,10,100],'gamma':[1,0.1,0.001], 'kernel':['linear','rbf'], probability=True}"
   ]
  },
  {
   "cell_type": "code",
   "execution_count": 61,
   "id": "c008f085",
   "metadata": {},
   "outputs": [],
   "source": [
    "grid_svc = GridSearchCV(SVC(), param_grid, verbose=1)"
   ]
  },
  {
   "cell_type": "code",
   "execution_count": null,
   "id": "1298fa03",
   "metadata": {},
   "outputs": [
    {
     "name": "stdout",
     "output_type": "stream",
     "text": [
      "Fitting 5 folds for each of 18 candidates, totalling 90 fits\n"
     ]
    }
   ],
   "source": [
    "grid_svc.fit(x_train,y_train)"
   ]
  },
  {
   "cell_type": "code",
   "execution_count": 7,
   "id": "8e57e5b3",
   "metadata": {},
   "outputs": [],
   "source": [
    "# загружаю уже обученную модель\n",
    "\n",
    "# with open('Models/svc_1512.sav', 'rb') as f:\n",
    "#     grid_svc = pickle.load(f)"
   ]
  },
  {
   "cell_type": "code",
   "execution_count": 61,
   "id": "2c18e04f",
   "metadata": {},
   "outputs": [
    {
     "data": {
      "text/plain": [
       "SVC(C=100, gamma=0.1, probability=True)"
      ]
     },
     "execution_count": 61,
     "metadata": {},
     "output_type": "execute_result"
    }
   ],
   "source": [
    "grid_svc.fit(x_train,y_train)"
   ]
  },
  {
   "cell_type": "code",
   "execution_count": 62,
   "id": "c4ba4939",
   "metadata": {},
   "outputs": [],
   "source": [
    "y_pred_svc = grid_svc.predict(x_val)"
   ]
  },
  {
   "cell_type": "code",
   "execution_count": 63,
   "id": "5cb881c3",
   "metadata": {},
   "outputs": [
    {
     "name": "stdout",
     "output_type": "stream",
     "text": [
      "              precision    recall  f1-score   support\n",
      "\n",
      "    Negative       0.92      0.94      0.93      1250\n",
      "     Neutral       0.80      0.78      0.79      1288\n",
      "    Positive       0.84      0.84      0.84      1306\n",
      "\n",
      "    accuracy                           0.86      3844\n",
      "   macro avg       0.86      0.86      0.86      3844\n",
      "weighted avg       0.85      0.86      0.85      3844\n",
      "\n"
     ]
    }
   ],
   "source": [
    "print(classification_report(y_val,y_pred_svc))"
   ]
  },
  {
   "cell_type": "code",
   "execution_count": 50,
   "id": "87292920",
   "metadata": {},
   "outputs": [
    {
     "name": "stdout",
     "output_type": "stream",
     "text": [
      "Confusion matrix, without normalization\n"
     ]
    },
    {
     "data": {
      "image/png": "[encoded data removed]",
      "text/plain": [
       "<Figure size 432x288 with 2 Axes>"
      ]
     },
     "metadata": {
      "needs_background": "light"
     },
     "output_type": "display_data"
    }
   ],
   "source": [
    "cm = confusion_matrix(y_val, y_pred_svc)\n",
    "plot_confusion_matrix(cm, classes=['Negative','Neutral','Positive'])"
   ]
  },
  {
   "cell_type": "code",
   "execution_count": 65,
   "id": "b3b8f8d6",
   "metadata": {},
   "outputs": [
    {
     "data": {
      "image/png": "[encoded data removed]",
      "text/plain": [
       "<Figure size 720x504 with 1 Axes>"
      ]
     },
     "metadata": {
      "needs_background": "light"
     },
     "output_type": "display_data"
    }
   ],
   "source": [
    "plot_multiclass_roc(grid_svc.predict_proba(x_val), y_val, 3)"
   ]
  },
  {
   "cell_type": "code",
   "execution_count": 51,
   "id": "47df4bb1",
   "metadata": {},
   "outputs": [],
   "source": [
    "np.save('y_pred_svc', np.array(y_pred_svc))"
   ]
  },
  {
   "cell_type": "code",
   "execution_count": 52,
   "id": "247bb675",
   "metadata": {},
   "outputs": [],
   "source": [
    "y_pred_svc_on_test = grid_svc.predict(x_test)"
   ]
  },
  {
   "cell_type": "code",
   "execution_count": 53,
   "id": "4166bfc6",
   "metadata": {},
   "outputs": [
    {
     "name": "stdout",
     "output_type": "stream",
     "text": [
      "              precision    recall  f1-score   support\n",
      "\n",
      "    Negative       0.34      0.33      0.34       194\n",
      "     Neutral       0.69      0.78      0.73      1281\n",
      "    Positive       0.85      0.76      0.80      1558\n",
      "\n",
      "    accuracy                           0.74      3033\n",
      "   macro avg       0.63      0.62      0.62      3033\n",
      "weighted avg       0.75      0.74      0.74      3033\n",
      "\n"
     ]
    }
   ],
   "source": [
    "print(classification_report(y_test,y_pred_svc_on_test))"
   ]
  },
  {
   "cell_type": "code",
   "execution_count": 54,
   "id": "40094ede",
   "metadata": {},
   "outputs": [
    {
     "name": "stdout",
     "output_type": "stream",
     "text": [
      "Confusion matrix, without normalization\n"
     ]
    },
    {
     "data": {
      "image/png": "[encoded data removed]",
      "text/plain": [
       "<Figure size 432x288 with 2 Axes>"
      ]
     },
     "metadata": {
      "needs_background": "light"
     },
     "output_type": "display_data"
    }
   ],
   "source": [
    "cm = confusion_matrix(y_test, y_pred_svc_on_test)\n",
    "plot_confusion_matrix(cm, classes=['Negative','Neutral','Positive'])"
   ]
  },
  {
   "cell_type": "code",
   "execution_count": 64,
   "id": "0ea09a5d",
   "metadata": {},
   "outputs": [
    {
     "data": {
      "image/png": "[encoded data removed]",
      "text/plain": [
       "<Figure size 720x504 with 1 Axes>"
      ]
     },
     "metadata": {
      "needs_background": "light"
     },
     "output_type": "display_data"
    }
   ],
   "source": [
    "plot_multiclass_roc(grid_svc.predict_proba(x_test), y_test, 3)"
   ]
  },
  {
   "cell_type": "code",
   "execution_count": 131,
   "id": "e95cb411",
   "metadata": {},
   "outputs": [],
   "source": [
    "fpr_svc = dict()\n",
    "tpr_svc = dict()\n",
    "roc_auc_svc = dict()\n",
    "\n",
    "y_test_dummies_svc = pd.get_dummies(y_test, drop_first=False).values\n",
    "for i in range(3):\n",
    "    fpr_svc[i], tpr_svc[i], _ = roc_curve(y_test_dummies_svc[:, i], grid_svc.predict_proba(x_test)[:, i])\n",
    "    roc_auc_svc[i] = auc(fpr_svc[i], tpr_svc[i])"
   ]
  },
  {
   "cell_type": "code",
   "execution_count": 55,
   "id": "1e96f33c",
   "metadata": {},
   "outputs": [],
   "source": [
    "np.save('y_pred_svc_on_test', np.array(y_pred_svc_on_test))"
   ]
  },
  {
   "cell_type": "code",
   "execution_count": 167,
   "id": "6cb65da3",
   "metadata": {},
   "outputs": [],
   "source": [
    "filename = 'Models/svc_1512_fin.sav'\n",
    "pickle.dump(grid_svc, open(filename, 'wb'))"
   ]
  },
  {
   "cell_type": "markdown",
   "id": "6a5b7247",
   "metadata": {},
   "source": [
    "### NN model"
   ]
  },
  {
   "cell_type": "code",
   "execution_count": 134,
   "id": "9aad9521",
   "metadata": {},
   "outputs": [
    {
     "data": {
      "text/plain": [
       "LabelEncoder()"
      ]
     },
     "execution_count": 134,
     "metadata": {},
     "output_type": "execute_result"
    }
   ],
   "source": [
    "encoder = LabelEncoder()\n",
    "encoder.fit(Y)"
   ]
  },
  {
   "cell_type": "code",
   "execution_count": 135,
   "id": "737cd7cb",
   "metadata": {},
   "outputs": [],
   "source": [
    "dummy_y_train = utils.to_categorical(encoder.transform(y_train))\n",
    "dummy_y_val = utils.to_categorical(encoder.transform(y_val))\n",
    "dummy_y_test = utils.to_categorical(encoder.transform(y_test))"
   ]
  },
  {
   "cell_type": "code",
   "execution_count": 136,
   "id": "632089a3",
   "metadata": {},
   "outputs": [],
   "source": [
    "nn_model = Sequential()\n",
    "nn_model.add(Dense(units=256, activation= 'relu', input_dim=x_train.shape[1]))\n",
    "nn_model.add(Dense(units=128, activation= 'relu'))\n",
    "nn_model.add(Dense(units=64, activation= 'relu'))\n",
    "nn_model.add(Dense(units=32, activation= 'relu')) \n",
    "nn_model.add(Dense(units=3, activation= 'softmax'))"
   ]
  },
  {
   "cell_type": "code",
   "execution_count": 137,
   "id": "a28e5063",
   "metadata": {},
   "outputs": [
    {
     "name": "stdout",
     "output_type": "stream",
     "text": [
      "Model: \"sequential\"\n",
      "_________________________________________________________________\n",
      " Layer (type)                Output Shape              Param #   \n",
      "=================================================================\n",
      " dense (Dense)               (None, 256)               131328    \n",
      "                                                                 \n",
      " dense_1 (Dense)             (None, 128)               32896     \n",
      "                                                                 \n",
      " dense_2 (Dense)             (None, 64)                8256      \n",
      "                                                                 \n",
      " dense_3 (Dense)             (None, 32)                2080      \n",
      "                                                                 \n",
      " dense_4 (Dense)             (None, 3)                 99        \n",
      "                                                                 \n",
      "=================================================================\n",
      "Total params: 174,659\n",
      "Trainable params: 174,659\n",
      "Non-trainable params: 0\n",
      "_________________________________________________________________\n"
     ]
    }
   ],
   "source": [
    "nn_model.summary()"
   ]
  },
  {
   "cell_type": "code",
   "execution_count": 138,
   "id": "5397702c",
   "metadata": {},
   "outputs": [],
   "source": [
    "METRICS = [metrics.Precision(name='precision'),\n",
    "  metrics.Recall(name='recall'),\n",
    "  metrics.CategoricalAccuracy(name='acc'),\n",
    "  metrics.AUC(name='auc'),\n",
    "]"
   ]
  },
  {
   "cell_type": "code",
   "execution_count": 139,
   "id": "29f7a1ea",
   "metadata": {},
   "outputs": [],
   "source": [
    "nn_model.compile(optimizer='adam', loss='categorical_crossentropy', metrics=METRICS)"
   ]
  },
  {
   "cell_type": "code",
   "execution_count": 140,
   "id": "514ca082",
   "metadata": {},
   "outputs": [],
   "source": [
    "history = nn_model.fit(x_train, dummy_y_train, epochs=100, verbose=0, validation_data=(x_val, dummy_y_val))"
   ]
  },
  {
   "cell_type": "code",
   "execution_count": 42,
   "id": "151b3c14",
   "metadata": {},
   "outputs": [
    {
     "data": {
      "text/plain": [
       "dict_keys(['loss', 'precision', 'recall', 'acc', 'auc', 'val_loss', 'val_precision', 'val_recall', 'val_acc', 'val_auc'])"
      ]
     },
     "execution_count": 42,
     "metadata": {},
     "output_type": "execute_result"
    }
   ],
   "source": [
    "history.history.keys()"
   ]
  },
  {
   "cell_type": "code",
   "execution_count": 141,
   "id": "7e5d0524",
   "metadata": {},
   "outputs": [
    {
     "data": {
      "image/png": "[encoded data removed]",
      "text/plain": [
       "<Figure size 1080x360 with 2 Axes>"
      ]
     },
     "metadata": {},
     "output_type": "display_data"
    }
   ],
   "source": [
    "\n",
    "fig, ax = plt.subplots(nrows=1, ncols=2, figsize=(15, 5))\n",
    "\n",
    "plt.subplots_adjust(wspace=0.3, hspace=0.5) # расстояние между графиками\n",
    "\n",
    "ax[0].plot(history.history['acc'], \n",
    "         label='Доля верных ответов на train')\n",
    "ax[0].plot(history.history['val_acc'], \n",
    "         label='Доля верных ответов на val')\n",
    "ax[0].legend()\n",
    "ax[0].set_title('Метрика \"accuracy\"', fontsize=15)\n",
    "\n",
    "\n",
    "ax[1].plot(history.history['auc'], \n",
    "         label='AUC на train')\n",
    "ax[1].plot(history.history['val_auc'], \n",
    "         label='AUC на val')\n",
    "ax[1].legend()\n",
    "ax[1].set_title('Метрика \"AUC\"', fontsize=15);"
   ]
  },
  {
   "cell_type": "code",
   "execution_count": 142,
   "id": "780b6196",
   "metadata": {},
   "outputs": [
    {
     "name": "stdout",
     "output_type": "stream",
     "text": [
      "Evaluate on valid data\n",
      "121/121 [==============================] - 0s 2ms/step - loss: 0.8227 - precision: 0.8534 - recall: 0.8512 - acc: 0.8528 - auc: 0.9329\n",
      "Test loss: 0.8227441310882568\n",
      "Test accuracy: 0.8534168004989624\n"
     ]
    }
   ],
   "source": [
    "print(\"Evaluate on valid data\")\n",
    "results = nn_model.evaluate(x_val, dummy_y_val)\n",
    "print(\"Test loss:\", results[0])\n",
    "print(\"Test accuracy:\", results[1])"
   ]
  },
  {
   "cell_type": "code",
   "execution_count": 143,
   "id": "d2e17187",
   "metadata": {},
   "outputs": [
    {
     "name": "stdout",
     "output_type": "stream",
     "text": [
      "              precision    recall  f1-score   support\n",
      "\n",
      "           0       0.98      0.89      0.93      1366\n",
      "           1       0.74      0.83      0.78      1153\n",
      "           2       0.84      0.83      0.84      1325\n",
      "\n",
      "    accuracy                           0.85      3844\n",
      "   macro avg       0.85      0.85      0.85      3844\n",
      "weighted avg       0.86      0.85      0.86      3844\n",
      "\n"
     ]
    }
   ],
   "source": [
    "predictions = nn_model.predict(x_val)\n",
    "y_pred_nn = np.argmax(predictions, axis=-1)\n",
    "print(classification_report(y_pred_nn, encoder.transform(y_val)))"
   ]
  },
  {
   "cell_type": "code",
   "execution_count": 56,
   "id": "a609fc69",
   "metadata": {},
   "outputs": [],
   "source": [
    "fscores['nn_on_valid'] = get_scores_from_report(classification_report(y_pred_nn, encoder.transform(y_val)))"
   ]
  },
  {
   "cell_type": "code",
   "execution_count": 145,
   "id": "a957b7ab",
   "metadata": {},
   "outputs": [
    {
     "name": "stdout",
     "output_type": "stream",
     "text": [
      "Confusion matrix, without normalization\n"
     ]
    },
    {
     "data": {
      "image/png": "[encoded data removed]",
      "text/plain": [
       "<Figure size 432x288 with 2 Axes>"
      ]
     },
     "metadata": {
      "needs_background": "light"
     },
     "output_type": "display_data"
    }
   ],
   "source": [
    "\n",
    "cm = confusion_matrix( encoder.transform(y_val), y_pred_nn)\n",
    "plot_confusion_matrix(cm, classes=['Negative','Neutral','Positive'])"
   ]
  },
  {
   "cell_type": "code",
   "execution_count": 146,
   "id": "f50678bf",
   "metadata": {},
   "outputs": [
    {
     "name": "stdout",
     "output_type": "stream",
     "text": [
      "Evaluate on test data\n",
      "95/95 [==============================] - 0s 2ms/step - loss: 1.6771 - precision: 0.7349 - recall: 0.7319 - acc: 0.7339 - auc: 0.8381\n",
      "Test loss: 1.6770813465118408\n",
      "Test accuracy: 0.7348560094833374\n"
     ]
    }
   ],
   "source": [
    "print(\"Evaluate on test data\")\n",
    "results = nn_model.evaluate(np.array(x_test), dummy_y_test)\n",
    "print(\"Test loss:\", results[0])\n",
    "print(\"Test accuracy:\", results[1])"
   ]
  },
  {
   "cell_type": "code",
   "execution_count": 147,
   "id": "c988ac9f",
   "metadata": {},
   "outputs": [
    {
     "name": "stdout",
     "output_type": "stream",
     "text": [
      "              precision    recall  f1-score   support\n",
      "\n",
      "           0       0.42      0.33      0.37       250\n",
      "           1       0.77      0.69      0.72      1433\n",
      "           2       0.75      0.86      0.80      1350\n",
      "\n",
      "    accuracy                           0.73      3033\n",
      "   macro avg       0.65      0.62      0.63      3033\n",
      "weighted avg       0.73      0.73      0.73      3033\n",
      "\n"
     ]
    }
   ],
   "source": [
    "predictions_on_test = nn_model.predict(np.array(x_test))\n",
    "y_pred_nn_on_test = np.argmax(predictions_on_test, axis=-1)\n",
    "print(classification_report(y_pred_nn_on_test, encoder.transform(y_test)))"
   ]
  },
  {
   "cell_type": "code",
   "execution_count": 57,
   "id": "0e1351e2",
   "metadata": {},
   "outputs": [],
   "source": [
    "fscores['nn_on_test'] = get_scores_from_report(classification_report(y_pred_nn_on_test, encoder.transform(y_test)))"
   ]
  },
  {
   "cell_type": "code",
   "execution_count": 148,
   "id": "acf48e89",
   "metadata": {
    "scrolled": true
   },
   "outputs": [
    {
     "name": "stdout",
     "output_type": "stream",
     "text": [
      "Confusion matrix, without normalization\n"
     ]
    },
    {
     "data": {
      "image/png": "[encoded data removed]",
      "text/plain": [
       "<Figure size 432x288 with 2 Axes>"
      ]
     },
     "metadata": {
      "needs_background": "light"
     },
     "output_type": "display_data"
    }
   ],
   "source": [
    "cm = confusion_matrix(encoder.transform(y_test), y_pred_nn_on_test)\n",
    "plot_confusion_matrix(cm, classes=['Negative','Neutral','Positive'])"
   ]
  },
  {
   "cell_type": "code",
   "execution_count": 55,
   "id": "f5a1ee0c",
   "metadata": {},
   "outputs": [],
   "source": [
    "np.save('y_pred_nn', np.array(y_pred_nn))\n",
    "np.save('y_pred_nn_on_test', np.array(y_pred_nn_on_test))"
   ]
  },
  {
   "cell_type": "code",
   "execution_count": 149,
   "id": "b327e750",
   "metadata": {},
   "outputs": [],
   "source": [
    "fpr_nn = dict()\n",
    "tpr_nn = dict()\n",
    "roc_auc_nn = dict()"
   ]
  },
  {
   "cell_type": "code",
   "execution_count": 150,
   "id": "e2f199fc",
   "metadata": {},
   "outputs": [],
   "source": [
    "for i in range(3):\n",
    "    fpr_nn[i], tpr_nn[i], _ = roc_curve(dummy_y_test[:, i], predictions_on_test[:, i])\n",
    "    roc_auc_nn[i] = auc(fpr_nn[i], tpr_nn[i])"
   ]
  },
  {
   "cell_type": "code",
   "execution_count": 151,
   "id": "cde11967",
   "metadata": {},
   "outputs": [
    {
     "data": {
      "image/png": "[encoded data removed]",
      "text/plain": [
       "<Figure size 720x504 with 1 Axes>"
      ]
     },
     "metadata": {
      "needs_background": "light"
     },
     "output_type": "display_data"
    }
   ],
   "source": [
    "fig, ax = plt.subplots(figsize=(10, 7))\n",
    "ax.plot([0, 1], [0, 1], 'k--')\n",
    "ax.set_xlim([0.0, 1.0])\n",
    "ax.set_ylim([0.0, 1.05])\n",
    "ax.set_xlabel('False Positive Rate')\n",
    "ax.set_ylabel('True Positive Rate')\n",
    "ax.set_title('ROC Curve NN')\n",
    "for i in range(3):\n",
    "    ax.plot(fpr_nn[i], tpr_nn[i], label='ROC curve (area = %0.2f) for label %i' % (roc_auc_nn[i], i))\n",
    "ax.legend(loc=\"best\")\n",
    "ax.grid(alpha=.4)\n",
    "sns.despine()\n",
    "plt.show()"
   ]
  },
  {
   "cell_type": "code",
   "execution_count": 580,
   "id": "bb3d2f2a",
   "metadata": {},
   "outputs": [
    {
     "name": "stdout",
     "output_type": "stream",
     "text": [
      "INFO:tensorflow:Assets written to: Models/keras_nn\\assets\n"
     ]
    },
    {
     "name": "stderr",
     "output_type": "stream",
     "text": [
      "INFO:tensorflow:Assets written to: Models/keras_nn\\assets\n"
     ]
    }
   ],
   "source": [
    "nn_model.save('Models/keras_nn')"
   ]
  },
  {
   "cell_type": "markdown",
   "id": "d34ee266",
   "metadata": {},
   "source": [
    "### Bert"
   ]
  },
  {
   "cell_type": "markdown",
   "id": "d24c979c",
   "metadata": {},
   "source": [
    "Эти модели используют свои алгоритмы токенизации. Возьму предобученную на русском корпусе модель Bert и дообучу на своих данных. В токенизатор подаю данные из исходного датасета, до under- и oversampling-а  "
   ]
  },
  {
   "cell_type": "code",
   "execution_count": 71,
   "id": "20fdc858",
   "metadata": {},
   "outputs": [],
   "source": [
    "tokenizer_dp = AutoTokenizer.from_pretrained(\"DeepPavlov/rubert-base-cased\", do_lower_case=True)\n"
   ]
  },
  {
   "cell_type": "code",
   "execution_count": 634,
   "id": "91f146e9",
   "metadata": {},
   "outputs": [],
   "source": [
    "# def preprocess_function_new(examples, sentence_key='text'):\n",
    "#     return tokenizer_dp(examples[sentence_key], padding=True, truncation=True, max_length=512)"
   ]
  },
  {
   "cell_type": "code",
   "execution_count": 72,
   "id": "546c3cc9",
   "metadata": {},
   "outputs": [],
   "source": [
    "df_short = df_full[['text', 'sentiment']]"
   ]
  },
  {
   "cell_type": "code",
   "execution_count": 73,
   "id": "2cc804eb",
   "metadata": {},
   "outputs": [
    {
     "data": {
      "text/plain": [
       "array(['Neutral', 'Positive', 'Negative'], dtype=object)"
      ]
     },
     "execution_count": 73,
     "metadata": {},
     "output_type": "execute_result"
    }
   ],
   "source": [
    "df_short.sentiment.unique()"
   ]
  },
  {
   "cell_type": "code",
   "execution_count": 74,
   "id": "3e612af5",
   "metadata": {},
   "outputs": [],
   "source": [
    "label_dict =  {'Negative':0, 'Neutral':1, 'Positive':2}"
   ]
  },
  {
   "cell_type": "code",
   "execution_count": 75,
   "id": "a9da7523",
   "metadata": {},
   "outputs": [
    {
     "name": "stderr",
     "output_type": "stream",
     "text": [
      "<ipython-input-75-3f1b6ca332be>:1: SettingWithCopyWarning: \n",
      "A value is trying to be set on a copy of a slice from a DataFrame.\n",
      "Try using .loc[row_indexer,col_indexer] = value instead\n",
      "\n",
      "See the caveats in the documentation: https://pandas.pydata.org/pandas-docs/stable/user_guide/indexing.html#returning-a-view-versus-a-copy\n",
      "  df_short['label'] = df_short.sentiment.replace(label_dict)\n"
     ]
    }
   ],
   "source": [
    "df_short['label'] = df_short.sentiment.replace(label_dict)"
   ]
  },
  {
   "cell_type": "code",
   "execution_count": 77,
   "id": "45c6a445",
   "metadata": {},
   "outputs": [],
   "source": [
    "df_short  = df_short.drop('sentiment', axis=1)"
   ]
  },
  {
   "cell_type": "code",
   "execution_count": 78,
   "id": "b07c8ec4",
   "metadata": {},
   "outputs": [
    {
     "data": {
      "text/html": [
       "<div>\n",
       "<style scoped>\n",
       "    .dataframe tbody tr th:only-of-type {\n",
       "        vertical-align: middle;\n",
       "    }\n",
       "\n",
       "    .dataframe tbody tr th {\n",
       "        vertical-align: top;\n",
       "    }\n",
       "\n",
       "    .dataframe thead th {\n",
       "        text-align: right;\n",
       "    }\n",
       "</style>\n",
       "<table border=\"1\" class=\"dataframe\">\n",
       "  <thead>\n",
       "    <tr style=\"text-align: right;\">\n",
       "      <th></th>\n",
       "      <th>text</th>\n",
       "      <th>label</th>\n",
       "    </tr>\n",
       "  </thead>\n",
       "  <tbody>\n",
       "    <tr>\n",
       "      <th>0</th>\n",
       "      <td>Это моя первая гитара. Консультант ответил на ...</td>\n",
       "      <td>1</td>\n",
       "    </tr>\n",
       "    <tr>\n",
       "      <th>1</th>\n",
       "      <td>Пожалуйста скажите кто-нибудь у кого он есть т...</td>\n",
       "      <td>1</td>\n",
       "    </tr>\n",
       "    <tr>\n",
       "      <th>2</th>\n",
       "      <td>клевая вещь. ка будет в МСК?</td>\n",
       "      <td>2</td>\n",
       "    </tr>\n",
       "    <tr>\n",
       "      <th>3</th>\n",
       "      <td>Пришлось снизить оценку -1 т.к. выснилось что ...</td>\n",
       "      <td>1</td>\n",
       "    </tr>\n",
       "    <tr>\n",
       "      <th>4</th>\n",
       "      <td>Под ХР сразу не заработал, дрова надо везти с ...</td>\n",
       "      <td>1</td>\n",
       "    </tr>\n",
       "  </tbody>\n",
       "</table>\n",
       "</div>"
      ],
      "text/plain": [
       "                                                text  label\n",
       "0  Это моя первая гитара. Консультант ответил на ...      1\n",
       "1  Пожалуйста скажите кто-нибудь у кого он есть т...      1\n",
       "2                       клевая вещь. ка будет в МСК?      2\n",
       "3  Пришлось снизить оценку -1 т.к. выснилось что ...      1\n",
       "4  Под ХР сразу не заработал, дрова надо везти с ...      1"
      ]
     },
     "execution_count": 78,
     "metadata": {},
     "output_type": "execute_result"
    }
   ],
   "source": [
    "df_short.head()"
   ]
  },
  {
   "cell_type": "code",
   "execution_count": 79,
   "id": "2b17ebec",
   "metadata": {},
   "outputs": [
    {
     "name": "stdout",
     "output_type": "stream",
     "text": [
      "<class 'pandas.core.frame.DataFrame'>\n",
      "RangeIndex: 15164 entries, 0 to 15163\n",
      "Data columns (total 2 columns):\n",
      " #   Column  Non-Null Count  Dtype \n",
      "---  ------  --------------  ----- \n",
      " 0   text    15164 non-null  object\n",
      " 1   label   15164 non-null  int64 \n",
      "dtypes: int64(1), object(1)\n",
      "memory usage: 237.1+ KB\n"
     ]
    }
   ],
   "source": [
    "df_short.info()"
   ]
  },
  {
   "cell_type": "code",
   "execution_count": 80,
   "id": "34179b25",
   "metadata": {},
   "outputs": [],
   "source": [
    "# разбивка на тренировочный и тестовый датасеты\n",
    "x_train_dp, x_val_dp, y_train_dp, y_val_dp = train_test_split(df_short.index.values, \n",
    "                                                  df_short.label.values, \n",
    "                                                  test_size=0.2, \n",
    "                                                  random_state=146, \n",
    "                                                  stratify=df_short.label.values)\n",
    "\n",
    "df_short['data_type'] = ['not_set']*df_short.shape[0]\n",
    "\n",
    "df_short.loc[x_train_dp, 'data_type'] = 'train'\n",
    "df_short.loc[x_val_dp, 'data_type'] = 'val'"
   ]
  },
  {
   "cell_type": "code",
   "execution_count": 81,
   "id": "c645a3be",
   "metadata": {},
   "outputs": [
    {
     "data": {
      "text/html": [
       "<div>\n",
       "<style scoped>\n",
       "    .dataframe tbody tr th:only-of-type {\n",
       "        vertical-align: middle;\n",
       "    }\n",
       "\n",
       "    .dataframe tbody tr th {\n",
       "        vertical-align: top;\n",
       "    }\n",
       "\n",
       "    .dataframe thead th {\n",
       "        text-align: right;\n",
       "    }\n",
       "</style>\n",
       "<table border=\"1\" class=\"dataframe\">\n",
       "  <thead>\n",
       "    <tr style=\"text-align: right;\">\n",
       "      <th></th>\n",
       "      <th></th>\n",
       "      <th>text</th>\n",
       "    </tr>\n",
       "    <tr>\n",
       "      <th>label</th>\n",
       "      <th>data_type</th>\n",
       "      <th></th>\n",
       "    </tr>\n",
       "  </thead>\n",
       "  <tbody>\n",
       "    <tr>\n",
       "      <th rowspan=\"2\" valign=\"top\">0</th>\n",
       "      <th>train</th>\n",
       "      <td>773</td>\n",
       "    </tr>\n",
       "    <tr>\n",
       "      <th>val</th>\n",
       "      <td>194</td>\n",
       "    </tr>\n",
       "    <tr>\n",
       "      <th rowspan=\"2\" valign=\"top\">1</th>\n",
       "      <th>train</th>\n",
       "      <td>5125</td>\n",
       "    </tr>\n",
       "    <tr>\n",
       "      <th>val</th>\n",
       "      <td>1281</td>\n",
       "    </tr>\n",
       "    <tr>\n",
       "      <th rowspan=\"2\" valign=\"top\">2</th>\n",
       "      <th>train</th>\n",
       "      <td>6233</td>\n",
       "    </tr>\n",
       "    <tr>\n",
       "      <th>val</th>\n",
       "      <td>1558</td>\n",
       "    </tr>\n",
       "  </tbody>\n",
       "</table>\n",
       "</div>"
      ],
      "text/plain": [
       "                 text\n",
       "label data_type      \n",
       "0     train       773\n",
       "      val         194\n",
       "1     train      5125\n",
       "      val        1281\n",
       "2     train      6233\n",
       "      val        1558"
      ]
     },
     "execution_count": 81,
     "metadata": {},
     "output_type": "execute_result"
    }
   ],
   "source": [
    "df_short.groupby(['label', 'data_type']).count()"
   ]
  },
  {
   "cell_type": "code",
   "execution_count": 84,
   "id": "76e6765d",
   "metadata": {},
   "outputs": [],
   "source": [
    "# токенизация текстов\n",
    "encoded_data_train = tokenizer_dp.batch_encode_plus(\n",
    "    list(df_short[df_short.data_type=='train'].text.values), \n",
    "    add_special_tokens=True, \n",
    "    return_attention_mask=True, \n",
    "    pad_to_max_length=True, \n",
    "    max_length=512, \n",
    "    return_tensors='pt'\n",
    ")"
   ]
  },
  {
   "cell_type": "code",
   "execution_count": 85,
   "id": "cb441472",
   "metadata": {},
   "outputs": [
    {
     "data": {
      "text/plain": [
       "Encoding(num_tokens=512, attributes=[ids, type_ids, tokens, offsets, attention_mask, special_tokens_mask, overflowing])"
      ]
     },
     "execution_count": 85,
     "metadata": {},
     "output_type": "execute_result"
    }
   ],
   "source": [
    "encoded_data_train[0]"
   ]
  },
  {
   "cell_type": "code",
   "execution_count": 86,
   "id": "c6c89ead",
   "metadata": {},
   "outputs": [],
   "source": [
    "encoded_data_val = tokenizer_dp.batch_encode_plus(\n",
    "    list(df_short[df_short.data_type=='val'].text.values), \n",
    "    add_special_tokens=True, \n",
    "    return_attention_mask=True, \n",
    "    pad_to_max_length=True, \n",
    "    max_length=512, \n",
    "    return_tensors='pt'\n",
    ")"
   ]
  },
  {
   "cell_type": "code",
   "execution_count": 87,
   "id": "630feff6",
   "metadata": {},
   "outputs": [],
   "source": [
    "input_ids_train = encoded_data_train['input_ids']\n",
    "attention_masks_train = encoded_data_train['attention_mask']\n",
    "labels_train = torch.tensor(df_short[df_short.data_type=='train'].label.values)\n",
    "\n",
    "input_ids_val = encoded_data_val['input_ids']\n",
    "attention_masks_val = encoded_data_val['attention_mask']\n",
    "labels_val = torch.tensor(df_short[df_short.data_type=='val'].label.values)"
   ]
  },
  {
   "cell_type": "code",
   "execution_count": 88,
   "id": "575260b5",
   "metadata": {},
   "outputs": [],
   "source": [
    "# тензоры для обучения Bert\n",
    "dataset_train = TensorDataset(input_ids_train, attention_masks_train, labels_train)\n",
    "dataset_val = TensorDataset(input_ids_val, attention_masks_val, labels_val)"
   ]
  },
  {
   "cell_type": "code",
   "execution_count": 89,
   "id": "6d2dfc9a",
   "metadata": {},
   "outputs": [],
   "source": [
    "from transformers import BertForSequenceClassification"
   ]
  },
  {
   "cell_type": "code",
   "execution_count": 90,
   "id": "b838ae24",
   "metadata": {},
   "outputs": [
    {
     "name": "stderr",
     "output_type": "stream",
     "text": [
      "Some weights of the model checkpoint at DeepPavlov/rubert-base-cased were not used when initializing BertForSequenceClassification: ['cls.predictions.decoder.weight', 'cls.predictions.transform.LayerNorm.weight', 'cls.seq_relationship.bias', 'cls.predictions.transform.dense.weight', 'cls.predictions.transform.LayerNorm.bias', 'cls.predictions.bias', 'cls.predictions.transform.dense.bias', 'cls.predictions.decoder.bias', 'cls.seq_relationship.weight']\n",
      "- This IS expected if you are initializing BertForSequenceClassification from the checkpoint of a model trained on another task or with another architecture (e.g. initializing a BertForSequenceClassification model from a BertForPreTraining model).\n",
      "- This IS NOT expected if you are initializing BertForSequenceClassification from the checkpoint of a model that you expect to be exactly identical (initializing a BertForSequenceClassification model from a BertForSequenceClassification model).\n",
      "Some weights of BertForSequenceClassification were not initialized from the model checkpoint at DeepPavlov/rubert-base-cased and are newly initialized: ['classifier.weight', 'classifier.bias']\n",
      "You should probably TRAIN this model on a down-stream task to be able to use it for predictions and inference.\n"
     ]
    }
   ],
   "source": [
    "model_dp = BertForSequenceClassification.from_pretrained(\"DeepPavlov/rubert-base-cased\", \n",
    "                                     num_labels=3, \n",
    "                                     output_attentions=False,\n",
    "                                     output_hidden_states=False)"
   ]
  },
  {
   "cell_type": "code",
   "execution_count": 91,
   "id": "50d0f234",
   "metadata": {},
   "outputs": [],
   "source": [
    "batch_size = 5\n",
    "\n",
    "dataloader_train = DataLoader(dataset_train, \n",
    "                              sampler=RandomSampler(dataset_train), \n",
    "                              batch_size=batch_size)\n",
    "\n",
    "dataloader_validation = DataLoader(dataset_val, \n",
    "                                   sampler=SequentialSampler(dataset_val), \n",
    "                                   batch_size=batch_size)"
   ]
  },
  {
   "cell_type": "code",
   "execution_count": 92,
   "id": "b00f0b3b",
   "metadata": {},
   "outputs": [],
   "source": [
    "optimizer = AdamW(model_dp.parameters(),\n",
    "                  lr=1e-5, \n",
    "                  eps=1e-8)"
   ]
  },
  {
   "cell_type": "code",
   "execution_count": 93,
   "id": "23611fc7",
   "metadata": {},
   "outputs": [],
   "source": [
    "epochs = 5\n",
    "\n",
    "scheduler = get_linear_schedule_with_warmup(optimizer, \n",
    "                                            num_warmup_steps=0,\n",
    "                                            num_training_steps=len(dataloader_train)*epochs)"
   ]
  },
  {
   "cell_type": "code",
   "execution_count": 94,
   "id": "d8073aa3",
   "metadata": {},
   "outputs": [],
   "source": [
    "def f1_score_func(preds, labels):\n",
    "    preds_flat = np.argmax(preds, axis=1).flatten()\n",
    "    labels_flat = labels.flatten()\n",
    "    return f1_score(labels_flat, preds_flat, average='weighted')"
   ]
  },
  {
   "cell_type": "code",
   "execution_count": 95,
   "id": "eeef86b8",
   "metadata": {},
   "outputs": [],
   "source": [
    "def accuracy_per_class(preds, labels):\n",
    "    label_dict_inverse = {v: k for k, v in label_dict.items()}\n",
    "    \n",
    "    preds_flat = np.argmax(preds, axis=1).flatten()\n",
    "    labels_flat = labels.flatten()\n",
    "\n",
    "    for label in np.unique(labels_flat):\n",
    "        y_preds = preds_flat[labels_flat==label]\n",
    "        y_true = labels_flat[labels_flat==label]\n",
    "        acc_percent = round(len(y_preds[y_preds==label]) / len(y_true) *100, 2)\n",
    "        print(f'Class: {label_dict_inverse[label]}')\n",
    "        print(f'Accuracy: {len(y_preds[y_preds==label])}/{len(y_true)} ({acc_percent}%)\\n')"
   ]
  },
  {
   "cell_type": "code",
   "execution_count": 96,
   "id": "5c772b9d",
   "metadata": {},
   "outputs": [],
   "source": [
    "seed_val = 146\n",
    "random.seed(seed_val)\n",
    "np.random.seed(seed_val)\n",
    "torch.manual_seed(seed_val)\n",
    "torch.cuda.manual_seed_all(seed_val)"
   ]
  },
  {
   "cell_type": "code",
   "execution_count": 97,
   "id": "7a05636e",
   "metadata": {},
   "outputs": [
    {
     "name": "stdout",
     "output_type": "stream",
     "text": [
      "cpu\n"
     ]
    }
   ],
   "source": [
    "device = torch.device('cuda' if torch.cuda.is_available() else 'cpu')\n",
    "model_dp.to(device)\n",
    "print(device)"
   ]
  },
  {
   "cell_type": "code",
   "execution_count": 98,
   "id": "6cc5297d",
   "metadata": {},
   "outputs": [],
   "source": [
    "def evaluate(dataloader_val):\n",
    "\n",
    "    model_dp.eval()\n",
    "    \n",
    "    loss_val_total = 0\n",
    "    predictions, true_vals = [], []\n",
    "    \n",
    "    for batch in dataloader_val:\n",
    "        \n",
    "        batch = tuple(b.to(device) for b in batch)\n",
    "        \n",
    "        inputs = {'input_ids':      batch[0],\n",
    "                  'attention_mask': batch[1],\n",
    "                  'labels':         batch[2],\n",
    "                 }\n",
    "\n",
    "        with torch.no_grad():        \n",
    "            outputs = model_dp(**inputs)\n",
    "            \n",
    "        loss = outputs[0]\n",
    "        logits = outputs[1]\n",
    "        loss_val_total += loss.item()\n",
    "\n",
    "        logits = logits.detach().cpu().numpy()\n",
    "        label_ids = inputs['labels'].cpu().numpy()\n",
    "        predictions.append(logits)\n",
    "        true_vals.append(label_ids)\n",
    "    \n",
    "    loss_val_avg = loss_val_total/len(dataloader_val) \n",
    "    \n",
    "    predictions = np.concatenate(predictions, axis=0)\n",
    "    true_vals = np.concatenate(true_vals, axis=0)\n",
    "            \n",
    "    return loss_val_avg, predictions, true_vals"
   ]
  },
  {
   "cell_type": "code",
   "execution_count": null,
   "id": "0cc26bf4",
   "metadata": {},
   "outputs": [],
   "source": [
    "for epoch in tqdm(range(1, epochs+1)):\n",
    "    \n",
    "    model_dp.train()\n",
    "    \n",
    "    loss_train_total = 0\n",
    "\n",
    "    progress_bar = tqdm(dataloader_train, desc='Epoch {:1d}'.format(epoch), leave=False, disable=False)\n",
    "    for batch in progress_bar:\n",
    "\n",
    "        model_dp.zero_grad()\n",
    "        \n",
    "        batch = tuple(b.to(device) for b in batch)\n",
    "        \n",
    "        inputs = {'input_ids':      batch[0],\n",
    "                  'attention_mask': batch[1],\n",
    "                  'labels':         batch[2],\n",
    "                 }       \n",
    "\n",
    "        outputs = model_dp(**inputs)\n",
    "        \n",
    "        loss = outputs[0]\n",
    "        loss_train_total += loss.item()\n",
    "        loss.backward()\n",
    "\n",
    "        torch.nn.utils.clip_grad_norm_(model_dp.parameters(), 1.0)\n",
    "\n",
    "        optimizer.step()\n",
    "        scheduler.step()\n",
    "        \n",
    "        progress_bar.set_postfix({'training_loss': '{:.3f}'.format(loss.item()/len(batch))})\n",
    "         \n",
    "        \n",
    "    torch.save(model_dp.state_dict(), f'data_volume/finetuned_BERT_epoch_{epoch}.model')\n",
    "    \n",
    "    loss_train_avg = loss_train_total/len(dataloader_train)            \n",
    "    \n",
    "    val_loss, predictions, true_vals = evaluate(dataloader_validation)\n",
    "    val_f1 = f1_score_func(predictions, true_vals)\n",
    "    tqdm.write(f'Validation loss: {val_loss}')\n",
    "    tqdm.write(f'F1 Score (Weighted): {val_f1}')\n"
   ]
  },
  {
   "cell_type": "markdown",
   "id": "bdc26fda",
   "metadata": {},
   "source": [
    "Обучение выполнялось в среде google colab, так быстрее. Загружаю подготовленную там модель."
   ]
  },
  {
   "cell_type": "code",
   "execution_count": 99,
   "id": "599230b5",
   "metadata": {},
   "outputs": [
    {
     "data": {
      "text/plain": [
       "<All keys matched successfully>"
      ]
     },
     "execution_count": 99,
     "metadata": {},
     "output_type": "execute_result"
    }
   ],
   "source": [
    "model_dp.load_state_dict(torch.load('Models/finetuned_BERT_epoch_5.model', map_location=torch.device('cpu')))"
   ]
  },
  {
   "cell_type": "code",
   "execution_count": 100,
   "id": "4c2311d5",
   "metadata": {},
   "outputs": [],
   "source": [
    "_, predictions_dp, true_vals_dp = evaluate(dataloader_validation)"
   ]
  },
  {
   "cell_type": "code",
   "execution_count": 101,
   "id": "839583d3",
   "metadata": {},
   "outputs": [
    {
     "name": "stdout",
     "output_type": "stream",
     "text": [
      "Class: Negative\n",
      "Accuracy: 113/194 (58.25%)\n",
      "\n",
      "Class: Neutral\n",
      "Accuracy: 1069/1281 (83.45%)\n",
      "\n",
      "Class: Positive\n",
      "Accuracy: 1347/1558 (86.46%)\n",
      "\n"
     ]
    }
   ],
   "source": [
    "accuracy_per_class(predictions_dp, true_vals_dp)"
   ]
  },
  {
   "cell_type": "code",
   "execution_count": 102,
   "id": "520b51cc",
   "metadata": {},
   "outputs": [],
   "source": [
    "y_pred_dp = np.argmax(predictions_dp, axis=-1)\n"
   ]
  },
  {
   "cell_type": "code",
   "execution_count": 104,
   "id": "8bdd9a0b",
   "metadata": {},
   "outputs": [],
   "source": [
    "clf_dp = classification_report(y_pred_dp, true_vals_dp)"
   ]
  },
  {
   "cell_type": "code",
   "execution_count": 105,
   "id": "9da85eb5",
   "metadata": {},
   "outputs": [
    {
     "name": "stdout",
     "output_type": "stream",
     "text": [
      "              precision    recall  f1-score   support\n",
      "\n",
      "           0       0.58      0.58      0.58       194\n",
      "           1       0.83      0.79      0.81      1350\n",
      "           2       0.86      0.90      0.88      1489\n",
      "\n",
      "    accuracy                           0.83      3033\n",
      "   macro avg       0.76      0.76      0.76      3033\n",
      "weighted avg       0.83      0.83      0.83      3033\n",
      "\n"
     ]
    }
   ],
   "source": [
    "print(clf_dp)"
   ]
  },
  {
   "cell_type": "code",
   "execution_count": 108,
   "id": "1c33c43f",
   "metadata": {},
   "outputs": [],
   "source": [
    "np.save('true_vals', np.array(true_vals_dp))\n",
    "np.save('y_pred_dp', np.array(y_pred_dp))"
   ]
  },
  {
   "cell_type": "code",
   "execution_count": 111,
   "id": "fa2bb0bd",
   "metadata": {},
   "outputs": [
    {
     "name": "stdout",
     "output_type": "stream",
     "text": [
      "Confusion matrix, without normalization\n"
     ]
    },
    {
     "data": {
      "image/png": "[encoded data removed]",
      "text/plain": [
       "<Figure size 432x288 with 2 Axes>"
      ]
     },
     "metadata": {
      "needs_background": "light"
     },
     "output_type": "display_data"
    }
   ],
   "source": [
    "cm = confusion_matrix(true_vals_dp, y_pred_dp)\n",
    "plot_confusion_matrix(cm, classes=['Negative','Neutral','Positive'])"
   ]
  },
  {
   "cell_type": "markdown",
   "id": "197ebf24",
   "metadata": {},
   "source": [
    "Bert более точно определяет негативные отзывы по сравнению с предыдущими моделями. Заметно меньше ошибок, связанных с путаницей позитивных и негативных (тонально не близких) отзывов.  "
   ]
  },
  {
   "cell_type": "code",
   "execution_count": 126,
   "id": "76086880",
   "metadata": {},
   "outputs": [],
   "source": [
    "fpr_dp = dict()\n",
    "tpr_dp = dict()\n",
    "roc_auc_dp = dict()"
   ]
  },
  {
   "cell_type": "code",
   "execution_count": 127,
   "id": "e2f199fc",
   "metadata": {},
   "outputs": [],
   "source": [
    "true_vals_dummies_dp = pd.get_dummies(true_vals_dp, drop_first=False).values\n",
    "for i in range(3):\n",
    "    fpr_dp[i], tpr_dp[i], _ = roc_curve(true_vals_dummies_dp[:, i], predictions_dp[:, i])\n",
    "    roc_auc_dp[i] = auc(fpr_dp[i], tpr_dp[i])"
   ]
  },
  {
   "cell_type": "code",
   "execution_count": 129,
   "id": "cde11967",
   "metadata": {},
   "outputs": [
    {
     "data": {
      "image/png": "[encoded data removed]",
      "text/plain": [
       "<Figure size 720x504 with 1 Axes>"
      ]
     },
     "metadata": {
      "needs_background": "light"
     },
     "output_type": "display_data"
    }
   ],
   "source": [
    "fig, ax = plt.subplots(figsize=(10, 7))\n",
    "ax.plot([0, 1], [0, 1], 'k--')\n",
    "ax.set_xlim([0.0, 1.0])\n",
    "ax.set_ylim([0.0, 1.05])\n",
    "ax.set_xlabel('False Positive Rate')\n",
    "ax.set_ylabel('True Positive Rate')\n",
    "ax.set_title('ROC Curve RuBert')\n",
    "for i in range(3):\n",
    "    ax.plot(fpr_dp[i], tpr_dp[i], label='ROC curve (area = %0.2f) for label %i' % (roc_auc_dp[i], i))\n",
    "ax.legend(loc=\"best\")\n",
    "ax.grid(alpha=.4)\n",
    "sns.despine()\n",
    "plt.show()"
   ]
  },
  {
   "cell_type": "markdown",
   "id": "1172df04",
   "metadata": {},
   "source": [
    "### Final scores"
   ]
  },
  {
   "cell_type": "code",
   "execution_count": 165,
   "id": "80b8df2f",
   "metadata": {},
   "outputs": [],
   "source": [
    "inversed_label_dict = {v: k for k, v in label_dict.items()}"
   ]
  },
  {
   "cell_type": "code",
   "execution_count": 152,
   "id": "2f1b00bb",
   "metadata": {},
   "outputs": [],
   "source": [
    "res_dict = {\n",
    "    'SVC':roc_auc_svc,\n",
    "    'NN': roc_auc_nn, \n",
    "    'RuBert': roc_auc_dp\n",
    "} "
   ]
  },
  {
   "cell_type": "code",
   "execution_count": 158,
   "id": "86d5c65b",
   "metadata": {},
   "outputs": [],
   "source": [
    "df_res = pd.DataFrame(res_dict).T"
   ]
  },
  {
   "cell_type": "code",
   "execution_count": 166,
   "id": "2684c3a2",
   "metadata": {},
   "outputs": [
    {
     "data": {
      "text/html": [
       "<div>\n",
       "<style scoped>\n",
       "    .dataframe tbody tr th:only-of-type {\n",
       "        vertical-align: middle;\n",
       "    }\n",
       "\n",
       "    .dataframe tbody tr th {\n",
       "        vertical-align: top;\n",
       "    }\n",
       "\n",
       "    .dataframe thead th {\n",
       "        text-align: right;\n",
       "    }\n",
       "</style>\n",
       "<table border=\"1\" class=\"dataframe\">\n",
       "  <thead>\n",
       "    <tr style=\"text-align: right;\">\n",
       "      <th></th>\n",
       "      <th>Negative</th>\n",
       "      <th>Neutral</th>\n",
       "      <th>Positive</th>\n",
       "    </tr>\n",
       "  </thead>\n",
       "  <tbody>\n",
       "    <tr>\n",
       "      <th>SVC</th>\n",
       "      <td>0.832834</td>\n",
       "      <td>0.834896</td>\n",
       "      <td>0.886382</td>\n",
       "    </tr>\n",
       "    <tr>\n",
       "      <th>NN</th>\n",
       "      <td>0.795169</td>\n",
       "      <td>0.800669</td>\n",
       "      <td>0.866718</td>\n",
       "    </tr>\n",
       "    <tr>\n",
       "      <th>RuBert</th>\n",
       "      <td>0.927056</td>\n",
       "      <td>0.887719</td>\n",
       "      <td>0.945782</td>\n",
       "    </tr>\n",
       "  </tbody>\n",
       "</table>\n",
       "</div>"
      ],
      "text/plain": [
       "        Negative   Neutral  Positive\n",
       "SVC     0.832834  0.834896  0.886382\n",
       "NN      0.795169  0.800669  0.866718\n",
       "RuBert  0.927056  0.887719  0.945782"
      ]
     },
     "execution_count": 166,
     "metadata": {},
     "output_type": "execute_result"
    }
   ],
   "source": [
    "df_res = df_res.rename(inversed_label_dict,  axis='columns')\n",
    "df_res"
   ]
  },
  {
   "cell_type": "markdown",
   "id": "bb7deaf8",
   "metadata": {},
   "source": [
    "В таблице представлена метрика ROC AUC, полученная классификаторами на отложенной в начале тестовой выборке данных. \n",
    "\n",
    "Bert справилася с классификацией лучше прочих классификаторов. Его минусы - долгое обучение, так же он долго формирует предсказания \n",
    "\n",
    "Классификатор SVC в связке с эмбеддингами от universal sentence encoder показывают приемлемый результат, обучается достаточно быстро\n",
    "\n",
    "Эксперимент с нейросетью был скорее познавательным, чем необходимым, особенно с учетом того, что существуют специализированные  модели типа Bert, доказавшие свою эффективность. Обучается она дольше SVC, но результаты ниже. "
   ]
  },
  {
   "cell_type": "code",
   "execution_count": null,
   "id": "7833700c",
   "metadata": {},
   "outputs": [],
   "source": []
  },
  {
   "cell_type": "code",
   "execution_count": null,
   "id": "46fa7cc3",
   "metadata": {},
   "outputs": [],
   "source": []
  },
  {
   "cell_type": "code",
   "execution_count": null,
   "id": "f8237c20",
   "metadata": {},
   "outputs": [],
   "source": []
  }
 ],
 "metadata": {
  "kernelspec": {
   "display_name": "Python 3",
   "language": "python",
   "name": "python3"
  },
  "language_info": {
   "codemirror_mode": {
    "name": "ipython",
    "version": 3
   },
   "file_extension": ".py",
   "mimetype": "text/x-python",
   "name": "python",
   "nbconvert_exporter": "python",
   "pygments_lexer": "ipython3",
   "version": "3.8.8"
  }
 },
 "nbformat": 4,
 "nbformat_minor": 5
}
