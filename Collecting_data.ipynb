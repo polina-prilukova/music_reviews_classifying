{
 "cells": [
  {
   "cell_type": "markdown",
   "id": "bb96e500",
   "metadata": {},
   "source": [
    "Собираем все отзывы со страницы товара"
   ]
  },
  {
   "cell_type": "code",
   "execution_count": 1,
   "id": "f71b4910",
   "metadata": {},
   "outputs": [],
   "source": [
    "import pandas as pd\n",
    "from bs4 import BeautifulSoup\n",
    "import requests\n",
    "import json"
   ]
  },
  {
   "cell_type": "markdown",
   "id": "6cdf8f9e",
   "metadata": {},
   "source": [
    "Тестовый прогон"
   ]
  },
  {
   "cell_type": "code",
   "execution_count": 2,
   "id": "ea004be6",
   "metadata": {},
   "outputs": [],
   "source": [
    "link = 'https://pop-music.ru/products/nojnoy-pereklyuchatel-stagg-sswb1-888880011037/'"
   ]
  },
  {
   "cell_type": "code",
   "execution_count": 3,
   "id": "b0430aa5",
   "metadata": {},
   "outputs": [],
   "source": [
    "req = requests.get(link)\n",
    "soup = BeautifulSoup(req.text, 'html.parser')"
   ]
  },
  {
   "cell_type": "code",
   "execution_count": 6,
   "id": "a45d7c9f",
   "metadata": {},
   "outputs": [],
   "source": [
    "reviews = soup.find('div', attrs={'class':'page-section productfull__reviews', 'id':'reviews'})"
   ]
  },
  {
   "cell_type": "code",
   "execution_count": 7,
   "id": "1daa6674",
   "metadata": {},
   "outputs": [
    {
     "data": {
      "text/plain": [
       "bs4.element.Tag"
      ]
     },
     "execution_count": 7,
     "metadata": {},
     "output_type": "execute_result"
    }
   ],
   "source": [
    "type(reviews)"
   ]
  },
  {
   "cell_type": "code",
   "execution_count": 11,
   "id": "8acee8b0",
   "metadata": {},
   "outputs": [],
   "source": [
    "total_rate_class = reviews.find('div', attrs={'class':'productfull__reviews-total-rate'} )"
   ]
  },
  {
   "cell_type": "code",
   "execution_count": 13,
   "id": "b9a785ab",
   "metadata": {},
   "outputs": [
    {
     "data": {
      "text/plain": [
       "'4.6'"
      ]
     },
     "execution_count": 13,
     "metadata": {},
     "output_type": "execute_result"
    }
   ],
   "source": [
    "total_rate = total_rate_class.find('strong')\n",
    "total_rate.text"
   ]
  },
  {
   "cell_type": "code",
   "execution_count": 16,
   "id": "d494848d",
   "metadata": {},
   "outputs": [],
   "source": [
    "reviews_list_class = reviews.find('div', attrs={'class':'productfull__reviews-list'} )"
   ]
  },
  {
   "cell_type": "code",
   "execution_count": 21,
   "id": "8e0ff4ab",
   "metadata": {},
   "outputs": [],
   "source": [
    "reviews_list = []\n",
    "reviews_list = reviews_list_class.find_all('div', attrs={'class':'js_reviews_list'})"
   ]
  },
  {
   "cell_type": "code",
   "execution_count": 23,
   "id": "568f578d",
   "metadata": {},
   "outputs": [
    {
     "data": {
      "text/plain": [
       "5"
      ]
     },
     "execution_count": 23,
     "metadata": {},
     "output_type": "execute_result"
    }
   ],
   "source": [
    "len(reviews_list)"
   ]
  },
  {
   "cell_type": "code",
   "execution_count": 24,
   "id": "238704c6",
   "metadata": {},
   "outputs": [],
   "source": [
    "test = reviews_list[0]"
   ]
  },
  {
   "cell_type": "code",
   "execution_count": 26,
   "id": "beb24563",
   "metadata": {},
   "outputs": [],
   "source": [
    "test_rate_in_stars = len(test.find_all('i', attrs={'class':'rate__star is-full'}))"
   ]
  },
  {
   "cell_type": "code",
   "execution_count": 27,
   "id": "2c15a8b0",
   "metadata": {},
   "outputs": [
    {
     "data": {
      "text/plain": [
       "5"
      ]
     },
     "execution_count": 27,
     "metadata": {},
     "output_type": "execute_result"
    }
   ],
   "source": [
    "test_rate_in_stars"
   ]
  },
  {
   "cell_type": "code",
   "execution_count": 25,
   "id": "e07a26f4",
   "metadata": {},
   "outputs": [
    {
     "data": {
      "text/plain": [
       "[<i class=\"rate__star is-full\"></i>,\n",
       " <i class=\"rate__star is-full\"></i>,\n",
       " <i class=\"rate__star is-full\"></i>,\n",
       " <i class=\"rate__star is-full\"></i>,\n",
       " <i class=\"rate__star is-full\"></i>]"
      ]
     },
     "execution_count": 25,
     "metadata": {},
     "output_type": "execute_result"
    }
   ],
   "source": [
    "test.find_all('i', attrs={'class':'rate__star is-full'})"
   ]
  },
  {
   "cell_type": "code",
   "execution_count": 29,
   "id": "30395c73",
   "metadata": {},
   "outputs": [],
   "source": [
    "test_text = test.find('div', attrs={'class':'review__text'}).text"
   ]
  },
  {
   "cell_type": "code",
   "execution_count": 30,
   "id": "26019fe0",
   "metadata": {},
   "outputs": [
    {
     "data": {
      "text/plain": [
       "'Здравствуйте, этот переключатель подойдет для BOSS KATANA-50'"
      ]
     },
     "execution_count": 30,
     "metadata": {},
     "output_type": "execute_result"
    }
   ],
   "source": [
    "test_text"
   ]
  },
  {
   "cell_type": "code",
   "execution_count": 31,
   "id": "dfa127e3",
   "metadata": {},
   "outputs": [
    {
     "name": "stdout",
     "output_type": "stream",
     "text": [
      "Алексей  30.10.2019\n"
     ]
    }
   ],
   "source": [
    "test_author = test.find('strong', attrs={'class':'review__name'}).text\n",
    "test_date = test.find('span', attrs={'class':'review__date'}).text\n",
    "print(test_author, test_date)"
   ]
  },
  {
   "cell_type": "code",
   "execution_count": 34,
   "id": "a6056f41",
   "metadata": {},
   "outputs": [],
   "source": [
    "product_name = soup.find('h1', attrs={'class':'productfull__title'}).text\n",
    "product_id = soup.find('div', attrs={'class':'productfull__code'}).text"
   ]
  },
  {
   "cell_type": "code",
   "execution_count": 36,
   "id": "af1c31f5",
   "metadata": {},
   "outputs": [
    {
     "data": {
      "text/plain": [
       "'НОЖНОЙ ПЕРЕКЛЮЧАТЕЛЬ STAGG SSWB1'"
      ]
     },
     "execution_count": 36,
     "metadata": {},
     "output_type": "execute_result"
    }
   ],
   "source": [
    "product_name = product_name.strip()\n",
    "product_name"
   ]
  },
  {
   "cell_type": "code",
   "execution_count": 37,
   "id": "eddb3f83",
   "metadata": {},
   "outputs": [
    {
     "data": {
      "text/plain": [
       "'888880011037'"
      ]
     },
     "execution_count": 37,
     "metadata": {},
     "output_type": "execute_result"
    }
   ],
   "source": [
    "product_id = product_id.replace('Артикул: ', '').strip()\n",
    "product_id"
   ]
  },
  {
   "cell_type": "code",
   "execution_count": 42,
   "id": "a68e5035",
   "metadata": {},
   "outputs": [],
   "source": [
    "review_attrs_list = []"
   ]
  },
  {
   "cell_type": "code",
   "execution_count": 43,
   "id": "f5cd7faf",
   "metadata": {},
   "outputs": [],
   "source": [
    "for review_html in reviews_list:\n",
    "    review_attrs = {}\n",
    "    rate_in_stars = len(review_html.find_all('i', attrs={'class':'rate__star is-full'}))\n",
    "    text = review_html.find('div', attrs={'class':'review__text'}).text \n",
    "    author = review_html.find('strong', attrs={'class':'review__name'}).text\n",
    "    date = review_html.find('span', attrs={'class':'review__date'}).text\n",
    "    \n",
    "    review_attrs['product_name'] = product_name\n",
    "    review_attrs['product_id'] = product_id\n",
    "    review_attrs['rate'] = int(rate_in_stars)\n",
    "    review_attrs['text'] = text\n",
    "    review_attrs['author'] = author\n",
    "    review_attrs['date'] = date\n",
    "    \n",
    "    review_attrs_list.append(review_attrs)\n",
    "    "
   ]
  },
  {
   "cell_type": "code",
   "execution_count": 7,
   "id": "d2cdfe3b",
   "metadata": {},
   "outputs": [],
   "source": [
    "from pprint import pprint"
   ]
  },
  {
   "cell_type": "code",
   "execution_count": 45,
   "id": "f1ea63ad",
   "metadata": {},
   "outputs": [
    {
     "name": "stdout",
     "output_type": "stream",
     "text": [
      "[{'author': 'Алексей ',\n",
      "  'date': '30.10.2019',\n",
      "  'product_id': '888880011037',\n",
      "  'product_name': 'НОЖНОЙ ПЕРЕКЛЮЧАТЕЛЬ STAGG SSWB1',\n",
      "  'rate': 5,\n",
      "  'text': 'Здравствуйте, этот переключатель подойдет для BOSS KATANA-50'},\n",
      " {'author': 'Artem',\n",
      "  'date': '02.08.2019',\n",
      "  'product_id': '888880011037',\n",
      "  'product_name': 'НОЖНОЙ ПЕРЕКЛЮЧАТЕЛЬ STAGG SSWB1',\n",
      "  'rate': 5,\n",
      "  'text': 'Добрый день!\\n\\nЭтот переключатель подойдет для Roland Cube 30?'},\n",
      " {'author': 'Сергей',\n",
      "  'date': '17.04.2019',\n",
      "  'product_id': '888880011037',\n",
      "  'product_name': 'НОЖНОЙ ПЕРЕКЛЮЧАТЕЛЬ STAGG SSWB1',\n",
      "  'rate': 5,\n",
      "  'text': 'Добрый день, а можно его использовать как обходной переключатель '\n",
      "          'bypass, на сабе krk 10s2?'},\n",
      " {'author': 'Алексей ',\n",
      "  'date': '10.06.2018',\n",
      "  'product_id': '888880011037',\n",
      "  'product_name': 'НОЖНОЙ ПЕРЕКЛЮЧАТЕЛЬ STAGG SSWB1',\n",
      "  'rate': 5,\n",
      "  'text': 'Здравствуйте. А совместим ли этот фут-свитч с комбиком Feder '\n",
      "          'Mustang II? \\n'\n",
      "          'Оригинального фут-свитча by Fender днем с огнем не сыщешь. \\n'},\n",
      " {'author': 'Лудина Ольга',\n",
      "  'date': '01.01.2012',\n",
      "  'product_id': '888880011037',\n",
      "  'product_name': 'НОЖНОЙ ПЕРЕКЛЮЧАТЕЛЬ STAGG SSWB1',\n",
      "  'rate': 3,\n",
      "  'text': 'Из плюсов: удобная для нажатия кнопка, длинный кабель, и конечно '\n",
      "          'хорошая цена. \\n'\n",
      "          'Минусы: очень громкий щелчок от кнопки и внушительный размер, можно '\n",
      "          'бало и поменьше.'}]\n"
     ]
    }
   ],
   "source": [
    "pprint(review_attrs_list)"
   ]
  },
  {
   "cell_type": "code",
   "execution_count": 2,
   "id": "bfac230e",
   "metadata": {},
   "outputs": [],
   "source": [
    "import pandas as pd"
   ]
  },
  {
   "cell_type": "code",
   "execution_count": 47,
   "id": "175a8df2",
   "metadata": {},
   "outputs": [],
   "source": [
    "df_rate = pd.DataFrame(review_attrs_list)"
   ]
  },
  {
   "cell_type": "code",
   "execution_count": 48,
   "id": "65ac1ec8",
   "metadata": {},
   "outputs": [
    {
     "data": {
      "text/html": [
       "<div>\n",
       "<style scoped>\n",
       "    .dataframe tbody tr th:only-of-type {\n",
       "        vertical-align: middle;\n",
       "    }\n",
       "\n",
       "    .dataframe tbody tr th {\n",
       "        vertical-align: top;\n",
       "    }\n",
       "\n",
       "    .dataframe thead th {\n",
       "        text-align: right;\n",
       "    }\n",
       "</style>\n",
       "<table border=\"1\" class=\"dataframe\">\n",
       "  <thead>\n",
       "    <tr style=\"text-align: right;\">\n",
       "      <th></th>\n",
       "      <th>product_name</th>\n",
       "      <th>product_id</th>\n",
       "      <th>rate</th>\n",
       "      <th>text</th>\n",
       "      <th>author</th>\n",
       "      <th>date</th>\n",
       "    </tr>\n",
       "  </thead>\n",
       "  <tbody>\n",
       "    <tr>\n",
       "      <th>0</th>\n",
       "      <td>НОЖНОЙ ПЕРЕКЛЮЧАТЕЛЬ STAGG SSWB1</td>\n",
       "      <td>888880011037</td>\n",
       "      <td>5</td>\n",
       "      <td>Здравствуйте, этот переключатель подойдет для ...</td>\n",
       "      <td>Алексей</td>\n",
       "      <td>30.10.2019</td>\n",
       "    </tr>\n",
       "    <tr>\n",
       "      <th>1</th>\n",
       "      <td>НОЖНОЙ ПЕРЕКЛЮЧАТЕЛЬ STAGG SSWB1</td>\n",
       "      <td>888880011037</td>\n",
       "      <td>5</td>\n",
       "      <td>Добрый день!\\n\\nЭтот переключатель подойдет дл...</td>\n",
       "      <td>Artem</td>\n",
       "      <td>02.08.2019</td>\n",
       "    </tr>\n",
       "    <tr>\n",
       "      <th>2</th>\n",
       "      <td>НОЖНОЙ ПЕРЕКЛЮЧАТЕЛЬ STAGG SSWB1</td>\n",
       "      <td>888880011037</td>\n",
       "      <td>5</td>\n",
       "      <td>Добрый день, а можно его использовать как обхо...</td>\n",
       "      <td>Сергей</td>\n",
       "      <td>17.04.2019</td>\n",
       "    </tr>\n",
       "    <tr>\n",
       "      <th>3</th>\n",
       "      <td>НОЖНОЙ ПЕРЕКЛЮЧАТЕЛЬ STAGG SSWB1</td>\n",
       "      <td>888880011037</td>\n",
       "      <td>5</td>\n",
       "      <td>Здравствуйте. А совместим ли этот фут-свитч с ...</td>\n",
       "      <td>Алексей</td>\n",
       "      <td>10.06.2018</td>\n",
       "    </tr>\n",
       "    <tr>\n",
       "      <th>4</th>\n",
       "      <td>НОЖНОЙ ПЕРЕКЛЮЧАТЕЛЬ STAGG SSWB1</td>\n",
       "      <td>888880011037</td>\n",
       "      <td>3</td>\n",
       "      <td>Из плюсов: удобная для нажатия кнопка, длинный...</td>\n",
       "      <td>Лудина Ольга</td>\n",
       "      <td>01.01.2012</td>\n",
       "    </tr>\n",
       "  </tbody>\n",
       "</table>\n",
       "</div>"
      ],
      "text/plain": [
       "                       product_name    product_id  rate  \\\n",
       "0  НОЖНОЙ ПЕРЕКЛЮЧАТЕЛЬ STAGG SSWB1  888880011037     5   \n",
       "1  НОЖНОЙ ПЕРЕКЛЮЧАТЕЛЬ STAGG SSWB1  888880011037     5   \n",
       "2  НОЖНОЙ ПЕРЕКЛЮЧАТЕЛЬ STAGG SSWB1  888880011037     5   \n",
       "3  НОЖНОЙ ПЕРЕКЛЮЧАТЕЛЬ STAGG SSWB1  888880011037     5   \n",
       "4  НОЖНОЙ ПЕРЕКЛЮЧАТЕЛЬ STAGG SSWB1  888880011037     3   \n",
       "\n",
       "                                                text        author        date  \n",
       "0  Здравствуйте, этот переключатель подойдет для ...      Алексей   30.10.2019  \n",
       "1  Добрый день!\\n\\nЭтот переключатель подойдет дл...         Artem  02.08.2019  \n",
       "2  Добрый день, а можно его использовать как обхо...        Сергей  17.04.2019  \n",
       "3  Здравствуйте. А совместим ли этот фут-свитч с ...      Алексей   10.06.2018  \n",
       "4  Из плюсов: удобная для нажатия кнопка, длинный...  Лудина Ольга  01.01.2012  "
      ]
     },
     "execution_count": 48,
     "metadata": {},
     "output_type": "execute_result"
    }
   ],
   "source": [
    "df_rate"
   ]
  },
  {
   "cell_type": "code",
   "execution_count": null,
   "id": "348e84ce",
   "metadata": {},
   "outputs": [],
   "source": []
  },
  {
   "cell_type": "markdown",
   "id": "2f71b493",
   "metadata": {},
   "source": [
    "Собираем в одну функцию  "
   ]
  },
  {
   "cell_type": "code",
   "execution_count": 1,
   "id": "a0903ec9",
   "metadata": {},
   "outputs": [],
   "source": [
    "def get_product_reviews(link):\n",
    "    \n",
    "    req = requests.get(link)\n",
    "    soup = BeautifulSoup(req.text, 'html.parser')\n",
    "\n",
    "    review_attrs_list = []\n",
    "    \n",
    "    product_name = soup.find('h1', attrs={'class':'productfull__title'}).text\n",
    "    product_name = product_name.strip()\n",
    "    product_id = soup.find('div', attrs={'class':'productfull__code'}).text\n",
    "    product_id = product_id.replace('Артикул: ', '').strip()\n",
    "    \n",
    "    reviews = soup.find('div', attrs={'class':'page-section productfull__reviews', 'id':'reviews'})\n",
    "    reviews_list_class = reviews.find('div', attrs={'class':'productfull__reviews-list'} )\n",
    "    if reviews_list_class:\n",
    "        reviews_list = reviews_list_class.find_all('div', attrs={'class':'js_reviews_list'})\n",
    "\n",
    "        for review_html in reviews_list:\n",
    "            review_attrs = {}\n",
    "            rate_in_stars = len(review_html.find_all('i', attrs={'class':'rate__star is-full'}))\n",
    "            text = review_html.find('div', attrs={'class':'review__text'}).text \n",
    "            author = review_html.find('strong', attrs={'class':'review__name'}).text\n",
    "            date = review_html.find('span', attrs={'class':'review__date'}).text\n",
    "\n",
    "            review_attrs['product_name'] = product_name\n",
    "            review_attrs['product_id'] = product_id\n",
    "            review_attrs['rate'] = int(rate_in_stars)\n",
    "            review_attrs['text'] = text\n",
    "            review_attrs['author'] = author\n",
    "            review_attrs['date'] = date\n",
    "\n",
    "            review_attrs_list.append(review_attrs)\n",
    "        \n",
    "    return review_attrs_list \n",
    "    "
   ]
  },
  {
   "cell_type": "code",
   "execution_count": 3,
   "id": "c0ccbdf8",
   "metadata": {},
   "outputs": [],
   "source": [
    "test_link = 'https://pop-music.ru/products/gitara-akusticheskaya-yamaha-f-310-nat-f310-888880017135/'\n"
   ]
  },
  {
   "cell_type": "code",
   "execution_count": 6,
   "id": "7e296720",
   "metadata": {},
   "outputs": [
    {
     "data": {
      "text/plain": [
       "57"
      ]
     },
     "execution_count": 6,
     "metadata": {},
     "output_type": "execute_result"
    }
   ],
   "source": [
    "len(get_product_reviews(test_link))"
   ]
  },
  {
   "cell_type": "code",
   "execution_count": 8,
   "id": "dc5cd994",
   "metadata": {},
   "outputs": [
    {
     "name": "stdout",
     "output_type": "stream",
     "text": [
      "{'author': 'Кирилл',\n",
      " 'date': '07.11.2021',\n",
      " 'product_id': '888880017135',\n",
      " 'product_name': 'ГИТАРА АКУСТИЧЕСКАЯ YAMAHA F-310 NAT (F310)',\n",
      " 'rate': 5,\n",
      " 'text': 'Здравствуйте, хотел приобрести эту гитару. Сколько будет стоить '\n",
      "         'доставка до Республики Саха Якутия г. Алдан'}\n"
     ]
    }
   ],
   "source": [
    "pprint(get_product_reviews(test_link)[0])"
   ]
  },
  {
   "cell_type": "markdown",
   "id": "1437da49",
   "metadata": {},
   "source": [
    "Ссылки собраны заранее, соберем данные по каждой из них"
   ]
  },
  {
   "cell_type": "code",
   "execution_count": 13,
   "id": "22c873e1",
   "metadata": {},
   "outputs": [
    {
     "data": {
      "text/plain": [
       "11717"
      ]
     },
     "execution_count": 13,
     "metadata": {},
     "output_type": "execute_result"
    }
   ],
   "source": [
    "all_links = []\n",
    "\n",
    "with open('product_links.txt', 'r') as f:\n",
    "    for line in f:\n",
    "        all_links.append(line.strip())\n",
    "    \n",
    "len(all_links)"
   ]
  },
  {
   "cell_type": "code",
   "execution_count": 14,
   "id": "61f3b494-be82-4073-a327-56a3dffa2155",
   "metadata": {},
   "outputs": [
    {
     "data": {
      "text/plain": [
       "['https://pop-music.ru/products/audiointerfeys-focusrite-clarett-4pre-888880029674/',\n",
       " 'https://pop-music.ru/products/klassicheskaya-gitara-stagg-25th-scl-maho-888880028463/',\n",
       " 'https://pop-music.ru/products/perehodnik-soundking-cxa004-888880021470/',\n",
       " 'https://pop-music.ru/products/plastik-evans-bd20gb4s-888880020015/',\n",
       " 'https://pop-music.ru/products/gitarnyy-kabel-soundking-bjj031-15ft/',\n",
       " 'https://pop-music.ru/products/bas-gitara-schecter-omen-5-blk-l-h-888880006652/',\n",
       " 'https://pop-music.ru/products/plastik-evans-b16uv1-888880025353/',\n",
       " 'https://pop-music.ru/products/akusticheskaya-gitara-stagg-sa20d-red-888880022374/',\n",
       " 'https://pop-music.ru/products/predusilitel-art-usbdualpre-888880000341/',\n",
       " 'https://pop-music.ru/products/top-lok-schaller-r1-art-13120701-888880011641/']"
      ]
     },
     "execution_count": 14,
     "metadata": {},
     "output_type": "execute_result"
    }
   ],
   "source": [
    "all_links[:10]"
   ]
  },
  {
   "cell_type": "code",
   "execution_count": 26,
   "id": "960956cc-b620-4fcf-acd7-6f3b954e8777",
   "metadata": {},
   "outputs": [
    {
     "data": {
      "text/html": [
       "<div>\n",
       "<style scoped>\n",
       "    .dataframe tbody tr th:only-of-type {\n",
       "        vertical-align: middle;\n",
       "    }\n",
       "\n",
       "    .dataframe tbody tr th {\n",
       "        vertical-align: top;\n",
       "    }\n",
       "\n",
       "    .dataframe thead th {\n",
       "        text-align: right;\n",
       "    }\n",
       "</style>\n",
       "<table border=\"1\" class=\"dataframe\">\n",
       "  <thead>\n",
       "    <tr style=\"text-align: right;\">\n",
       "      <th></th>\n",
       "      <th>author</th>\n",
       "      <th>date</th>\n",
       "      <th>product_id</th>\n",
       "      <th>product_name</th>\n",
       "      <th>rate</th>\n",
       "      <th>text</th>\n",
       "    </tr>\n",
       "  </thead>\n",
       "  <tbody>\n",
       "  </tbody>\n",
       "</table>\n",
       "</div>"
      ],
      "text/plain": [
       "Empty DataFrame\n",
       "Columns: [author, date, product_id, product_name, rate, text]\n",
       "Index: []"
      ]
     },
     "execution_count": 26,
     "metadata": {},
     "output_type": "execute_result"
    }
   ],
   "source": [
    "df_full = pd.DataFrame(columns=colunn_names)\n",
    "df_full"
   ]
  },
  {
   "cell_type": "code",
   "execution_count": 27,
   "id": "84a8181d-29fd-4c32-b041-597f655401b5",
   "metadata": {},
   "outputs": [],
   "source": [
    "from tqdm import tqdm "
   ]
  },
  {
   "cell_type": "code",
   "execution_count": 34,
   "id": "748f32d5-6b7e-4370-bcef-6c35fa94f068",
   "metadata": {},
   "outputs": [
    {
     "name": "stderr",
     "output_type": "stream",
     "text": [
      "100%|██████████████████████████████████████████████████████████████████████████| 11717/11717 [5:10:07<00:00,  1.59s/it]\n"
     ]
    }
   ],
   "source": [
    "wrong_links = []\n",
    "for link in tqdm(all_links):\n",
    "    reviews = []\n",
    "    try:\n",
    "        reviews = get_product_reviews(link)\n",
    "    except:\n",
    "        wrong_links.append(link)\n",
    "        \n",
    "    if reviews:\n",
    "        df_full = pd.concat([df_full, pd.DataFrame(reviews)])\n",
    "    "
   ]
  },
  {
   "cell_type": "code",
   "execution_count": 36,
   "id": "75d124a5-3762-4ad1-a242-dbec972abff4",
   "metadata": {},
   "outputs": [
    {
     "data": {
      "text/html": [
       "<div>\n",
       "<style scoped>\n",
       "    .dataframe tbody tr th:only-of-type {\n",
       "        vertical-align: middle;\n",
       "    }\n",
       "\n",
       "    .dataframe tbody tr th {\n",
       "        vertical-align: top;\n",
       "    }\n",
       "\n",
       "    .dataframe thead th {\n",
       "        text-align: right;\n",
       "    }\n",
       "</style>\n",
       "<table border=\"1\" class=\"dataframe\">\n",
       "  <thead>\n",
       "    <tr style=\"text-align: right;\">\n",
       "      <th></th>\n",
       "      <th>author</th>\n",
       "      <th>date</th>\n",
       "      <th>product_id</th>\n",
       "      <th>product_name</th>\n",
       "      <th>rate</th>\n",
       "      <th>text</th>\n",
       "    </tr>\n",
       "  </thead>\n",
       "  <tbody>\n",
       "    <tr>\n",
       "      <th>0</th>\n",
       "      <td>Егор Гумеров</td>\n",
       "      <td>15.10.2017</td>\n",
       "      <td>888880022374</td>\n",
       "      <td>АКУСТИЧЕСКАЯ ГИТАРА STAGG SA20D RED</td>\n",
       "      <td>4</td>\n",
       "      <td>Это моя первая гитара. Консультант ответил на ...</td>\n",
       "    </tr>\n",
       "    <tr>\n",
       "      <th>0</th>\n",
       "      <td>Гость</td>\n",
       "      <td>15.06.2010</td>\n",
       "      <td>888880000341</td>\n",
       "      <td>ПРЕДУСИЛИТЕЛЬ ART USBDUALPRE</td>\n",
       "      <td>3</td>\n",
       "      <td>Пожалуйста скажите кто-нибудь у кого он есть т...</td>\n",
       "    </tr>\n",
       "    <tr>\n",
       "      <th>1</th>\n",
       "      <td>Гость</td>\n",
       "      <td>03.06.2010</td>\n",
       "      <td>888880000341</td>\n",
       "      <td>ПРЕДУСИЛИТЕЛЬ ART USBDUALPRE</td>\n",
       "      <td>5</td>\n",
       "      <td>клевая вещь. ка будет в МСК?</td>\n",
       "    </tr>\n",
       "    <tr>\n",
       "      <th>2</th>\n",
       "      <td>Гость</td>\n",
       "      <td>18.05.2010</td>\n",
       "      <td>888880000341</td>\n",
       "      <td>ПРЕДУСИЛИТЕЛЬ ART USBDUALPRE</td>\n",
       "      <td>3</td>\n",
       "      <td>Пришлось снизить оценку -1 т.к. выснилось что ...</td>\n",
       "    </tr>\n",
       "    <tr>\n",
       "      <th>3</th>\n",
       "      <td>Гость</td>\n",
       "      <td>18.05.2010</td>\n",
       "      <td>888880000341</td>\n",
       "      <td>ПРЕДУСИЛИТЕЛЬ ART USBDUALPRE</td>\n",
       "      <td>4</td>\n",
       "      <td>Под ХР сразу не заработал, дрова надо везти с ...</td>\n",
       "    </tr>\n",
       "  </tbody>\n",
       "</table>\n",
       "</div>"
      ],
      "text/plain": [
       "         author        date    product_id  \\\n",
       "0  Егор Гумеров  15.10.2017  888880022374   \n",
       "0         Гость  15.06.2010  888880000341   \n",
       "1         Гость  03.06.2010  888880000341   \n",
       "2         Гость  18.05.2010  888880000341   \n",
       "3         Гость  18.05.2010  888880000341   \n",
       "\n",
       "                          product_name rate  \\\n",
       "0  АКУСТИЧЕСКАЯ ГИТАРА STAGG SA20D RED    4   \n",
       "0         ПРЕДУСИЛИТЕЛЬ ART USBDUALPRE    3   \n",
       "1         ПРЕДУСИЛИТЕЛЬ ART USBDUALPRE    5   \n",
       "2         ПРЕДУСИЛИТЕЛЬ ART USBDUALPRE    3   \n",
       "3         ПРЕДУСИЛИТЕЛЬ ART USBDUALPRE    4   \n",
       "\n",
       "                                                text  \n",
       "0  Это моя первая гитара. Консультант ответил на ...  \n",
       "0  Пожалуйста скажите кто-нибудь у кого он есть т...  \n",
       "1                       клевая вещь. ка будет в МСК?  \n",
       "2  Пришлось снизить оценку -1 т.к. выснилось что ...  \n",
       "3  Под ХР сразу не заработал, дрова надо везти с ...  "
      ]
     },
     "execution_count": 36,
     "metadata": {},
     "output_type": "execute_result"
    }
   ],
   "source": [
    "df_full.head()"
   ]
  },
  {
   "cell_type": "code",
   "execution_count": 37,
   "id": "867ab905-f5f8-4eff-849a-82e394168a28",
   "metadata": {},
   "outputs": [
    {
     "name": "stdout",
     "output_type": "stream",
     "text": [
      "<class 'pandas.core.frame.DataFrame'>\n",
      "Int64Index: 11214 entries, 0 to 7\n",
      "Data columns (total 6 columns):\n",
      " #   Column        Non-Null Count  Dtype \n",
      "---  ------        --------------  ----- \n",
      " 0   author        11214 non-null  object\n",
      " 1   date          11214 non-null  object\n",
      " 2   product_id    11214 non-null  object\n",
      " 3   product_name  11214 non-null  object\n",
      " 4   rate          11214 non-null  object\n",
      " 5   text          11214 non-null  object\n",
      "dtypes: object(6)\n",
      "memory usage: 613.3+ KB\n"
     ]
    }
   ],
   "source": [
    "df_full.info()"
   ]
  },
  {
   "cell_type": "code",
   "execution_count": 38,
   "id": "837c9f71-d525-46e0-ac8c-d73d9e2d30d4",
   "metadata": {},
   "outputs": [
    {
     "data": {
      "text/plain": [
       "4"
      ]
     },
     "execution_count": 38,
     "metadata": {},
     "output_type": "execute_result"
    }
   ],
   "source": [
    "len(wrong_links)"
   ]
  },
  {
   "cell_type": "code",
   "execution_count": 39,
   "id": "c2d110b8-9877-4234-93cc-676c9b54ec66",
   "metadata": {},
   "outputs": [
    {
     "data": {
      "text/plain": [
       "['https://pop-music.ru/products/barabannyie-palochki-stagg-sm5an-888880010522/',\n",
       " 'https://pop-music.ru/products/gitarnyy-preamp-yerasov-fetube-uber-higain-uh-5-888880023455/',\n",
       " 'https://pop-music.ru/products/kov%D1%91r-roland-tdm-20-888880001275/',\n",
       " 'https://pop-music.ru/products/mikrofonnyiy-kabel-planet-waves-pw-cmic-10-888880006165/']"
      ]
     },
     "execution_count": 39,
     "metadata": {},
     "output_type": "execute_result"
    }
   ],
   "source": [
    "wrong_links"
   ]
  },
  {
   "cell_type": "code",
   "execution_count": 43,
   "id": "783ce64f-c3d5-4574-81bc-4c564eeed336",
   "metadata": {},
   "outputs": [],
   "source": [
    "df_full = df_full.reset_index()"
   ]
  },
  {
   "cell_type": "code",
   "execution_count": 46,
   "id": "15eae5e4-39f4-42d5-ac99-345f79a8c3d9",
   "metadata": {},
   "outputs": [],
   "source": [
    "df_full.drop('index', axis=1, inplace=True)"
   ]
  },
  {
   "cell_type": "code",
   "execution_count": 67,
   "id": "47a7cf39-b51e-432a-b1e0-686d56ae7fc3",
   "metadata": {},
   "outputs": [
    {
     "data": {
      "text/html": [
       "<div>\n",
       "<style scoped>\n",
       "    .dataframe tbody tr th:only-of-type {\n",
       "        vertical-align: middle;\n",
       "    }\n",
       "\n",
       "    .dataframe tbody tr th {\n",
       "        vertical-align: top;\n",
       "    }\n",
       "\n",
       "    .dataframe thead th {\n",
       "        text-align: right;\n",
       "    }\n",
       "</style>\n",
       "<table border=\"1\" class=\"dataframe\">\n",
       "  <thead>\n",
       "    <tr style=\"text-align: right;\">\n",
       "      <th></th>\n",
       "      <th>author</th>\n",
       "      <th>date</th>\n",
       "      <th>product_id</th>\n",
       "      <th>product_name</th>\n",
       "      <th>rate</th>\n",
       "      <th>text</th>\n",
       "    </tr>\n",
       "  </thead>\n",
       "  <tbody>\n",
       "    <tr>\n",
       "      <th>10635</th>\n",
       "      <td>Игорь Скоробогатько</td>\n",
       "      <td>22.12.2018</td>\n",
       "      <td>888880014669</td>\n",
       "      <td>Подвес для микрофона STAGG SHOMOH</td>\n",
       "      <td>5</td>\n",
       "      <td>Подойдет ли к этой стойке? https://pop-music.r...</td>\n",
       "    </tr>\n",
       "    <tr>\n",
       "      <th>131</th>\n",
       "      <td>Бондарь Евгений</td>\n",
       "      <td>29.03.2010</td>\n",
       "      <td>88880000874</td>\n",
       "      <td>КОМПЛЕКТ МИКРОФОНОВ BEHRINGER C-2</td>\n",
       "      <td>3</td>\n",
       "      <td>Я бы наказал человека принёсшего в студию тако...</td>\n",
       "    </tr>\n",
       "    <tr>\n",
       "      <th>6673</th>\n",
       "      <td>Мангушев Дмитрий</td>\n",
       "      <td>24.03.2010</td>\n",
       "      <td>888880004632</td>\n",
       "      <td>БЛОК ПИТАНИЯ ROBITON SN500S</td>\n",
       "      <td>5</td>\n",
       "      <td>Хороший блок.. универсальный... я выкинул из н...</td>\n",
       "    </tr>\n",
       "    <tr>\n",
       "      <th>100</th>\n",
       "      <td>Григорий</td>\n",
       "      <td>20.02.2018</td>\n",
       "      <td>888880011038</td>\n",
       "      <td>НОЖНОЙ ПЕРЕКЛЮЧАТЕЛЬ STAGG SSWB2</td>\n",
       "      <td>5</td>\n",
       "      <td>Для комбика BOSS KATANA-50 подойдет?</td>\n",
       "    </tr>\n",
       "    <tr>\n",
       "      <th>590</th>\n",
       "      <td>Алексей</td>\n",
       "      <td>12.04.2021</td>\n",
       "      <td>888880024817</td>\n",
       "      <td>Электроакустическая гитара BATON ROUGE X2S/ACE...</td>\n",
       "      <td>5</td>\n",
       "      <td>А где разъём для подключения кабеля в ней ??</td>\n",
       "    </tr>\n",
       "    <tr>\n",
       "      <th>7130</th>\n",
       "      <td>Екатерина</td>\n",
       "      <td>14.06.2020</td>\n",
       "      <td>888880025144</td>\n",
       "      <td>Поп-Фильтр FZONE PF-8</td>\n",
       "      <td>4</td>\n",
       "      <td>Подскажите пожалуйста, подойдёт ли это поп фил...</td>\n",
       "    </tr>\n",
       "    <tr>\n",
       "      <th>541</th>\n",
       "      <td>Вадим Аммосов</td>\n",
       "      <td>09.03.2018</td>\n",
       "      <td>888880000355</td>\n",
       "      <td>МИКРОФОН AKG PERCEPTION 120 (P120)</td>\n",
       "      <td>5</td>\n",
       "      <td>по сравнению с AT2020, что лучше ? \\n</td>\n",
       "    </tr>\n",
       "    <tr>\n",
       "      <th>10051</th>\n",
       "      <td>Сафронов Дмитрий</td>\n",
       "      <td>03.03.2016</td>\n",
       "      <td>3620000001</td>\n",
       "      <td>ЛАМПОВЫЙ ПРЕДУСИЛИТЕЛЬ ART TUBE MP</td>\n",
       "      <td>5</td>\n",
       "      <td>Скажите пожалуйста, как он будет звучать на за...</td>\n",
       "    </tr>\n",
       "    <tr>\n",
       "      <th>1676</th>\n",
       "      <td>Петр Султангалеев</td>\n",
       "      <td>18.01.2018</td>\n",
       "      <td>888880021107</td>\n",
       "      <td>МИКШЕРНЫЙ ПУЛЬТ SOUNDCRAFT Signature 10</td>\n",
       "      <td>5</td>\n",
       "      <td>Подскажите пожалуйста. В него можно сразу писа...</td>\n",
       "    </tr>\n",
       "    <tr>\n",
       "      <th>2228</th>\n",
       "      <td>RADIY</td>\n",
       "      <td>12.09.2017</td>\n",
       "      <td>888880019089</td>\n",
       "      <td>Комбик FENDER ACOUSTASONIC 15 COMBO</td>\n",
       "      <td>5</td>\n",
       "      <td>Добрый день. Все оборудование , представленное...</td>\n",
       "    </tr>\n",
       "    <tr>\n",
       "      <th>7160</th>\n",
       "      <td>Александр</td>\n",
       "      <td>06.12.2019</td>\n",
       "      <td>0060100012</td>\n",
       "      <td>МИКРОФОН СТУДИЙНЫЙ BEHRINGER B-2 PRO</td>\n",
       "      <td>5</td>\n",
       "      <td>Как скоро ожидается в интернет-магазине?</td>\n",
       "    </tr>\n",
       "    <tr>\n",
       "      <th>6914</th>\n",
       "      <td>Василий</td>\n",
       "      <td>19.04.2019</td>\n",
       "      <td>888880022904</td>\n",
       "      <td>Микрофон SE ELECTRONICS X1 A</td>\n",
       "      <td>5</td>\n",
       "      <td>Здравствуйте!Ломаю голову, с чем лучше использ...</td>\n",
       "    </tr>\n",
       "    <tr>\n",
       "      <th>5929</th>\n",
       "      <td>Евгений</td>\n",
       "      <td>02.02.2020</td>\n",
       "      <td>888880025072</td>\n",
       "      <td>Комплект AUDIENT ID14 + SE ELECTRONICS SE 2200</td>\n",
       "      <td>5</td>\n",
       "      <td>Здравствуйте, значит к этому набору нужно купи...</td>\n",
       "    </tr>\n",
       "    <tr>\n",
       "      <th>4711</th>\n",
       "      <td>Гость</td>\n",
       "      <td>11.04.2013</td>\n",
       "      <td>888880003030</td>\n",
       "      <td>АКУСТИЧЕСКАЯ ГИТАРА COLOMBO LF-401C BK</td>\n",
       "      <td>3</td>\n",
       "      <td>Получил сегодня гитарку...\\nИз достоинств-  вс...</td>\n",
       "    </tr>\n",
       "    <tr>\n",
       "      <th>11126</th>\n",
       "      <td>Лиза</td>\n",
       "      <td>02.08.2021</td>\n",
       "      <td>888880020868</td>\n",
       "      <td>Лимонное масло KYSER KDS800 LEM-OIL</td>\n",
       "      <td>5</td>\n",
       "      <td>Незаменимая вещь, очень спасает, пользуюсь про...</td>\n",
       "    </tr>\n",
       "    <tr>\n",
       "      <th>1192</th>\n",
       "      <td>Гость</td>\n",
       "      <td>21.12.2010</td>\n",
       "      <td>888880000567</td>\n",
       "      <td>FENDER SQUIER BULLET WITH TREMOLO RW BK</td>\n",
       "      <td>5</td>\n",
       "      <td>покупаите только те  squier bullet,которые вып...</td>\n",
       "    </tr>\n",
       "    <tr>\n",
       "      <th>2492</th>\n",
       "      <td>Сергей</td>\n",
       "      <td>04.12.2018</td>\n",
       "      <td>888880021043</td>\n",
       "      <td>Аудиоинтерфейс STEINBERG UR12</td>\n",
       "      <td>5</td>\n",
       "      <td>Будет ли, карта совмещаться с Windows XP?</td>\n",
       "    </tr>\n",
       "    <tr>\n",
       "      <th>10082</th>\n",
       "      <td>Ярослав</td>\n",
       "      <td>28.04.2017</td>\n",
       "      <td>888880011662</td>\n",
       "      <td>АУДИОИНТЕРФЕЙС MOTU MICROBOOK IIc</td>\n",
       "      <td>5</td>\n",
       "      <td>Карта меня выбешивает. На маке с эль кэпитан п...</td>\n",
       "    </tr>\n",
       "    <tr>\n",
       "      <th>6162</th>\n",
       "      <td>сергей антонов</td>\n",
       "      <td>09.10.2021</td>\n",
       "      <td>888880027218</td>\n",
       "      <td>Струны GALLI STRINGS RSB50110</td>\n",
       "      <td>5</td>\n",
       "      <td>первая, вторая, третья струны звенят как полаг...</td>\n",
       "    </tr>\n",
       "    <tr>\n",
       "      <th>952</th>\n",
       "      <td>Никита</td>\n",
       "      <td>12.12.2020</td>\n",
       "      <td>888880027756</td>\n",
       "      <td>Электроакустика BATON ROUGE X11LS/FE</td>\n",
       "      <td>5</td>\n",
       "      <td>Гитара прекрасная, пришла вовремя, без поврежд...</td>\n",
       "    </tr>\n",
       "  </tbody>\n",
       "</table>\n",
       "</div>"
      ],
      "text/plain": [
       "                    author        date    product_id  \\\n",
       "10635  Игорь Скоробогатько  22.12.2018  888880014669   \n",
       "131        Бондарь Евгений  29.03.2010   88880000874   \n",
       "6673      Мангушев Дмитрий  24.03.2010  888880004632   \n",
       "100               Григорий  20.02.2018  888880011038   \n",
       "590                Алексей  12.04.2021  888880024817   \n",
       "7130             Екатерина  14.06.2020  888880025144   \n",
       "541         Вадим Аммосов   09.03.2018  888880000355   \n",
       "10051     Сафронов Дмитрий  03.03.2016    3620000001   \n",
       "1676     Петр Султангалеев  18.01.2018  888880021107   \n",
       "2228                 RADIY  12.09.2017  888880019089   \n",
       "7160             Александр  06.12.2019    0060100012   \n",
       "6914               Василий  19.04.2019  888880022904   \n",
       "5929               Евгений  02.02.2020  888880025072   \n",
       "4711                 Гость  11.04.2013  888880003030   \n",
       "11126                 Лиза  02.08.2021  888880020868   \n",
       "1192                 Гость  21.12.2010  888880000567   \n",
       "2492                Сергей  04.12.2018  888880021043   \n",
       "10082              Ярослав  28.04.2017  888880011662   \n",
       "6162        сергей антонов  09.10.2021  888880027218   \n",
       "952                Никита   12.12.2020  888880027756   \n",
       "\n",
       "                                            product_name rate  \\\n",
       "10635                  Подвес для микрофона STAGG SHOMOH    5   \n",
       "131                    КОМПЛЕКТ МИКРОФОНОВ BEHRINGER C-2    3   \n",
       "6673                         БЛОК ПИТАНИЯ ROBITON SN500S    5   \n",
       "100                     НОЖНОЙ ПЕРЕКЛЮЧАТЕЛЬ STAGG SSWB2    5   \n",
       "590    Электроакустическая гитара BATON ROUGE X2S/ACE...    5   \n",
       "7130                               Поп-Фильтр FZONE PF-8    4   \n",
       "541                   МИКРОФОН AKG PERCEPTION 120 (P120)    5   \n",
       "10051                 ЛАМПОВЫЙ ПРЕДУСИЛИТЕЛЬ ART TUBE MP    5   \n",
       "1676             МИКШЕРНЫЙ ПУЛЬТ SOUNDCRAFT Signature 10    5   \n",
       "2228                 Комбик FENDER ACOUSTASONIC 15 COMBO    5   \n",
       "7160                МИКРОФОН СТУДИЙНЫЙ BEHRINGER B-2 PRO    5   \n",
       "6914                        Микрофон SE ELECTRONICS X1 A    5   \n",
       "5929      Комплект AUDIENT ID14 + SE ELECTRONICS SE 2200    5   \n",
       "4711              АКУСТИЧЕСКАЯ ГИТАРА COLOMBO LF-401C BK    3   \n",
       "11126                Лимонное масло KYSER KDS800 LEM-OIL    5   \n",
       "1192             FENDER SQUIER BULLET WITH TREMOLO RW BK    5   \n",
       "2492                       Аудиоинтерфейс STEINBERG UR12    5   \n",
       "10082                  АУДИОИНТЕРФЕЙС MOTU MICROBOOK IIc    5   \n",
       "6162                       Струны GALLI STRINGS RSB50110    5   \n",
       "952                 Электроакустика BATON ROUGE X11LS/FE    5   \n",
       "\n",
       "                                                    text  \n",
       "10635  Подойдет ли к этой стойке? https://pop-music.r...  \n",
       "131    Я бы наказал человека принёсшего в студию тако...  \n",
       "6673   Хороший блок.. универсальный... я выкинул из н...  \n",
       "100                 Для комбика BOSS KATANA-50 подойдет?  \n",
       "590         А где разъём для подключения кабеля в ней ??  \n",
       "7130   Подскажите пожалуйста, подойдёт ли это поп фил...  \n",
       "541                по сравнению с AT2020, что лучше ? \\n  \n",
       "10051  Скажите пожалуйста, как он будет звучать на за...  \n",
       "1676   Подскажите пожалуйста. В него можно сразу писа...  \n",
       "2228   Добрый день. Все оборудование , представленное...  \n",
       "7160            Как скоро ожидается в интернет-магазине?  \n",
       "6914   Здравствуйте!Ломаю голову, с чем лучше использ...  \n",
       "5929   Здравствуйте, значит к этому набору нужно купи...  \n",
       "4711   Получил сегодня гитарку...\\nИз достоинств-  вс...  \n",
       "11126  Незаменимая вещь, очень спасает, пользуюсь про...  \n",
       "1192   покупаите только те  squier bullet,которые вып...  \n",
       "2492           Будет ли, карта совмещаться с Windows XP?  \n",
       "10082  Карта меня выбешивает. На маке с эль кэпитан п...  \n",
       "6162   первая, вторая, третья струны звенят как полаг...  \n",
       "952    Гитара прекрасная, пришла вовремя, без поврежд...  "
      ]
     },
     "execution_count": 67,
     "metadata": {},
     "output_type": "execute_result"
    }
   ],
   "source": [
    "df_full.sample(20)"
   ]
  },
  {
   "cell_type": "code",
   "execution_count": 48,
   "id": "356fe67f-a456-440c-87ba-db6f54bd72a7",
   "metadata": {},
   "outputs": [],
   "source": [
    "df_full.to_csv('reviews.csv')"
   ]
  },
  {
   "cell_type": "code",
   "execution_count": null,
   "id": "c0fbe78f-b7f6-4417-821f-f06370524fd4",
   "metadata": {},
   "outputs": [],
   "source": []
  }
 ],
 "metadata": {
  "kernelspec": {
   "display_name": "Python 3",
   "language": "python",
   "name": "python3"
  },
  "language_info": {
   "codemirror_mode": {
    "name": "ipython",
    "version": 3
   },
   "file_extension": ".py",
   "mimetype": "text/x-python",
   "name": "python",
   "nbconvert_exporter": "python",
   "pygments_lexer": "ipython3",
   "version": "3.8.8"
  }
 },
 "nbformat": 4,
 "nbformat_minor": 5
}
