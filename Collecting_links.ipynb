{
 "cells": [
  {
   "cell_type": "markdown",
   "id": "33c28980",
   "metadata": {},
   "source": [
    "Собираю все ссылки на товары по каталогу с сайта pop-music.ru"
   ]
  },
  {
   "cell_type": "code",
   "execution_count": 70,
   "id": "3ccc7e0a-ac91-4aae-a05a-18f15d3b4e8e",
   "metadata": {},
   "outputs": [],
   "source": [
    "import pandas as pd\n",
    "from bs4 import BeautifulSoup\n",
    "import requests\n",
    "import re\n",
    "from tqdm import tqdm"
   ]
  },
  {
   "cell_type": "code",
   "execution_count": 2,
   "id": "bd29b965-4e6d-474c-af80-c96ab2f0399e",
   "metadata": {},
   "outputs": [],
   "source": [
    "USER_AGENT = 'Mozilla/5.0 (Macintosh; Intel Mac OS X 10_9_3) AppleWebKit/537.36 (KHTML, like Gecko) Chrome/35.0.1916.47 Safari/537.36'\n",
    "\n",
    "def get_page_text(url, user_agent, error_log=True):\n",
    "    headers = {'User-Agent': user_agent}\n",
    "    response = requests.get(url, headers=headers, allow_redirects=True)\n",
    "\n",
    "    if response.status_code == 200:\n",
    "        page_text = response.text\n",
    "        return page_text\n",
    "    elif error_log:\n",
    "        print(f'Ошибка! Response code: {response.status_code}')\n",
    "        print(f'URL: {url}')\n",
    "        print('--------------')\n",
    "    \n",
    "    return None"
   ]
  },
  {
   "cell_type": "code",
   "execution_count": 5,
   "id": "7c3e3dd7-1b1e-47e9-a235-72543f35b753",
   "metadata": {},
   "outputs": [],
   "source": [
    "main_url = 'https://pop-music.ru/'\n",
    "page_text = get_page_text(main_url, USER_AGENT)"
   ]
  },
  {
   "cell_type": "code",
   "execution_count": 4,
   "id": "6e4d458c-8743-465e-b943-414f65a857f6",
   "metadata": {},
   "outputs": [
    {
     "data": {
      "text/plain": [
       "'<!DOCTYPE html>\\n<html lang=\"ru\">\\n<head>\\n    \\n    <meta charset=\"utf-8\">\\n    <meta http-equiv=\"x-ua-c'"
      ]
     },
     "execution_count": 4,
     "metadata": {},
     "output_type": "execute_result"
    }
   ],
   "source": [
    "page_text[:100]"
   ]
  },
  {
   "cell_type": "code",
   "execution_count": 6,
   "id": "bdd021fe-0242-47d1-9976-c56d73a95b8c",
   "metadata": {},
   "outputs": [],
   "source": [
    "soup = BeautifulSoup(page_text)"
   ]
  },
  {
   "cell_type": "code",
   "execution_count": 9,
   "id": "245f2725-e169-4364-9ec7-5450d12d5cc1",
   "metadata": {},
   "outputs": [],
   "source": [
    "def clear_link(page_link):\n",
    "    page_link = re.sub('^\\/', '', page_link)\n",
    "    page_link = re.sub('[\\#\\?].+', '', page_link)\n",
    "    \n",
    "    return page_link"
   ]
  },
  {
   "cell_type": "code",
   "execution_count": 15,
   "id": "802ddfd6-b021-4d65-abd2-c6654cc04e96",
   "metadata": {},
   "outputs": [
    {
     "data": {
      "text/plain": [
       "[<a class=\"topline__link\" href=\"/shops/\">\n",
       " <div class=\"topline__link-icon\">\n",
       " <svg class=\"icon icon-notes\">\n",
       " <use xlink:href=\"/bitrix/templates/pop-music/images/sprite.svg#notes\"></use>\n",
       " </svg>\n",
       " </div>\n",
       " <div class=\"topline__link-desc\">Наши магазины</div>\n",
       " </a>,\n",
       " <a href=\"tel:+78002505500\">8 800 250 55 00</a>,\n",
       " <a class=\"header__link\" href=\"/help/\">\n",
       " <div class=\"header__link-icon\">\n",
       " <svg class=\"icon icon-lifebuoy\">\n",
       " <use xlink:href=\"/bitrix/templates/pop-music/images/sprite.svg#lifebuoy\"></use>\n",
       " </svg>\n",
       " </div>\n",
       " <div class=\"header__link-desc\">Помощь</div>\n",
       " </a>,\n",
       " <a class=\"header__link js-popup-ajax\" href=\"popup-login\">\n",
       " <div class=\"header__link-icon\">\n",
       " <svg class=\"icon icon-user\">\n",
       " <use xlink:href=\"/bitrix/templates/pop-music/images/sprite.svg#user\"></use>\n",
       " </svg>\n",
       " </div>\n",
       " <div class=\"header__link-desc\">Войти</div>\n",
       " </a>,\n",
       " <a class=\"header__link\" href=\"/favourite/\">\n",
       " <div class=\"header__link-icon\">\n",
       " <svg class=\"icon icon-heart\">\n",
       " <use xlink:href=\"/bitrix/templates/pop-music/images/sprite.svg#heart\"></use>\n",
       " </svg>\n",
       " <span class=\"js_fav_total\">\n",
       " </span>\n",
       " </div>\n",
       " </a>,\n",
       " <a class=\"header__link header__cart\" href=\"/personal/cart/\">\n",
       " <div class=\"header__link-icon\">\n",
       " <svg class=\"icon icon-cart\">\n",
       " <use xlink:href=\"/bitrix/templates/pop-music/images/sprite.svg#cart\"></use>\n",
       " </svg>\n",
       " <span class=\"js_basket_count\">\n",
       " </span>\n",
       " </div>\n",
       " </a>,\n",
       " <a href=\"/catalog/gitaryi/\" itemprop=\"url\">Гитары</a>,\n",
       " <a class=\"mainmenu-dd__subcat-title has-child\" href=\"/catalog/gitaryi/gitary/\">Гитары</a>,\n",
       " <a href=\"/catalog/gitaryi/akusticheskie-bas-gitary/\" itemprop=\"url\">Акустические бас-гитары</a>,\n",
       " <a href=\"/catalog/gitaryi/bas-gitaryi/\" itemprop=\"url\">Бас-гитары</a>]"
      ]
     },
     "execution_count": 15,
     "metadata": {},
     "output_type": "execute_result"
    }
   ],
   "source": [
    "soup.find_all('a')[10:20]"
   ]
  },
  {
   "cell_type": "code",
   "execution_count": 80,
   "id": "bba91eba-722f-478a-8add-f89443d9494d",
   "metadata": {},
   "outputs": [],
   "source": [
    "links = set()\n",
    "# Поиск ссылок на главной странице\n",
    "\n",
    "for a in soup.find_all('a'):\n",
    "    if not a.has_attr('href'):\n",
    "        continue\n",
    "        \n",
    "    if not a.has_attr('itemprop'):\n",
    "        continue\n",
    "    \n",
    "    if a.attrs['itemprop'] != 'url':\n",
    "        continue\n",
    "    \n",
    "    page_link = a.attrs['href']\n",
    "    \n",
    "    if re.search('^(http)', page_link):\n",
    "        if main_url not in page_link or main_url == page_link:\n",
    "            continue\n",
    "    \n",
    "    page_link = clear_link(page_link)\n",
    "    \n",
    "    if len(page_link) == 0:\n",
    "        continue \n",
    "    \n",
    "    page_link = main_url + page_link\n",
    "    \n",
    "    links.add(page_link)\n",
    "\n",
    "# links"
   ]
  },
  {
   "cell_type": "code",
   "execution_count": 81,
   "id": "c49dc895-0155-41af-9c60-ea50dd6e2795",
   "metadata": {},
   "outputs": [],
   "source": [
    "catalog_links =[]\n",
    "for link in links:\n",
    "    if re.search(r'^(https://pop-music.ru/catalog)', link):\n",
    "        catalog_links.append(link)"
   ]
  },
  {
   "cell_type": "code",
   "execution_count": 75,
   "id": "3dfa6b2c-39b5-47d1-a523-467a5849d86c",
   "metadata": {},
   "outputs": [
    {
     "data": {
      "text/plain": [
       "['https://pop-music.ru/catalog/gitarnaya-furnitura/predusiliteli-i-ekvalayzery/',\n",
       " 'https://pop-music.ru/catalog/udarnyie/tarelki-bell/',\n",
       " 'https://pop-music.ru/catalog/mikrofonyi/lampovyie-mikrofonyi/',\n",
       " 'https://pop-music.ru/catalog/studiynoe-oborudovanie/studiynyie-aksessuaryi/',\n",
       " 'https://pop-music.ru/catalog/udarnyie/komplektyi-tarelok/',\n",
       " 'https://pop-music.ru/catalog/gitarnyie-aksessuaryi/strunyi-dlya-elektrogitar/',\n",
       " 'https://pop-music.ru/catalog/svetovoe-oborudovanie/aksessuaryi-dlya-svetovogo-oborudovaniya/',\n",
       " 'https://pop-music.ru/catalog/gitaryi/gitary-klassicheskie-s-podklyucheniem/',\n",
       " 'https://pop-music.ru/catalog/udarnyie/tarelki-ride/',\n",
       " 'https://pop-music.ru/catalog/gitarnyie-aksessuaryi/chehlyi-dlya-akusticheskih-gitar/']"
      ]
     },
     "execution_count": 75,
     "metadata": {},
     "output_type": "execute_result"
    }
   ],
   "source": [
    "catalog_links[:10]"
   ]
  },
  {
   "cell_type": "code",
   "execution_count": 82,
   "id": "d83d86b0-778f-44dd-84db-dad1a4244c17",
   "metadata": {},
   "outputs": [
    {
     "data": {
      "text/plain": [
       "327"
      ]
     },
     "execution_count": 82,
     "metadata": {},
     "output_type": "execute_result"
    }
   ],
   "source": [
    "len(catalog_links)"
   ]
  },
  {
   "cell_type": "markdown",
   "id": "1c730e75",
   "metadata": {},
   "source": [
    "Собраны ссылки на все первые страницы разделов каталога.\n",
    "\n",
    "К ним необходимо добавить страницы, доступные при переключении навигации (\"следующие\" страницы)"
   ]
  },
  {
   "cell_type": "code",
   "execution_count": 78,
   "id": "d4974c9f-3b2c-4c4d-a388-be8f086a31c1",
   "metadata": {},
   "outputs": [],
   "source": [
    "with open('links.txt', 'w', encoding='utf-8') as f:\n",
    "    for link in catalog_links:\n",
    "        f.write(\"%s\\n\" % link)"
   ]
  },
  {
   "cell_type": "code",
   "execution_count": 45,
   "id": "c8eabde9-4b2b-4013-a824-63e5f080fe67",
   "metadata": {},
   "outputs": [],
   "source": [
    "test_link = 'https://pop-music.ru/catalog/aksessuaryi/klavishnye-stoyki/'"
   ]
  },
  {
   "cell_type": "code",
   "execution_count": 46,
   "id": "2fb75517-f55a-4d11-9cc9-66124a225d15",
   "metadata": {},
   "outputs": [],
   "source": [
    "page_text = get_page_text(test_link, USER_AGENT)"
   ]
  },
  {
   "cell_type": "code",
   "execution_count": 47,
   "id": "633516a4-bba9-499c-87b1-a3d516f27cdb",
   "metadata": {},
   "outputs": [],
   "source": [
    "soup_2 = BeautifulSoup(page_text)"
   ]
  },
  {
   "cell_type": "code",
   "execution_count": 87,
   "id": "65e3a296-814d-44d7-8044-02162affbdc9",
   "metadata": {},
   "outputs": [],
   "source": [
    "test = 'https://pop-music.ru/catalog/gitaryi/gitaryi-akusticheskie/'"
   ]
  },
  {
   "cell_type": "code",
   "execution_count": 103,
   "id": "4fe0539c-d8d8-4e49-b265-8f7a32ac2eb2",
   "metadata": {},
   "outputs": [
    {
     "name": "stderr",
     "output_type": "stream",
     "text": [
      "100%|████████████████████████████████████████████████████████████████████████████████| 327/327 [10:02<00:00,  1.84s/it]\n"
     ]
    }
   ],
   "source": [
    "# Если есть класс pagination, значит, есть навигация внизу страницы с переходом на следующие страницы  этого же раздела.\n",
    "new_links = []\n",
    "\n",
    "for catalog_link in tqdm(catalog_links): \n",
    "    page_text = get_page_text(catalog_link, USER_AGENT)\n",
    "    soup_2 = BeautifulSoup(page_text)\n",
    "\n",
    "    pagination = soup_2.find('div', class_='pagination')\n",
    "\n",
    "    if pagination:\n",
    "        links = pagination.find_all('a', class_='pagination__page')\n",
    "        pages = [int(links[i].text) for i in range(len(links))]    # достаем номера страниц\n",
    "        max_page = max(pages)\n",
    "\n",
    "        new_pages = [catalog_link+'?PAGEN_2='+str(i) for i in range(2, max_page+1)]\n",
    "\n",
    "        new_links = new_links + new_pages\n"
   ]
  },
  {
   "cell_type": "code",
   "execution_count": 104,
   "id": "39811ffa-856b-4eed-9754-11320d532101",
   "metadata": {},
   "outputs": [
    {
     "data": {
      "text/plain": [
       "['https://pop-music.ru/catalog/udarnyie/komplektyi-tarelok/?PAGEN_2=2',\n",
       " 'https://pop-music.ru/catalog/gitarnyie-aksessuaryi/strunyi-dlya-elektrogitar/?PAGEN_2=2',\n",
       " 'https://pop-music.ru/catalog/gitarnyie-aksessuaryi/strunyi-dlya-elektrogitar/?PAGEN_2=3',\n",
       " 'https://pop-music.ru/catalog/gitarnyie-aksessuaryi/strunyi-dlya-elektrogitar/?PAGEN_2=4',\n",
       " 'https://pop-music.ru/catalog/gitarnyie-aksessuaryi/strunyi-dlya-elektrogitar/?PAGEN_2=5',\n",
       " 'https://pop-music.ru/catalog/gitarnyie-aksessuaryi/strunyi-dlya-elektrogitar/?PAGEN_2=6',\n",
       " 'https://pop-music.ru/catalog/gitarnyie-aksessuaryi/strunyi-dlya-elektrogitar/?PAGEN_2=7',\n",
       " 'https://pop-music.ru/catalog/gitarnyie-aksessuaryi/strunyi-dlya-elektrogitar/?PAGEN_2=8',\n",
       " 'https://pop-music.ru/catalog/gitaryi/gitary-klassicheskie-s-podklyucheniem/?PAGEN_2=2',\n",
       " 'https://pop-music.ru/catalog/gitarnyie-aksessuaryi/chehlyi-dlya-akusticheskih-gitar/?PAGEN_2=2']"
      ]
     },
     "execution_count": 104,
     "metadata": {},
     "output_type": "execute_result"
    }
   ],
   "source": [
    "new_links[:10]"
   ]
  },
  {
   "cell_type": "code",
   "execution_count": 100,
   "id": "f34579a1-dc51-4ed0-888e-9eb4644f0ce3",
   "metadata": {},
   "outputs": [
    {
     "data": {
      "text/plain": [
       "684"
      ]
     },
     "execution_count": 100,
     "metadata": {},
     "output_type": "execute_result"
    }
   ],
   "source": [
    "len(new_links)"
   ]
  },
  {
   "cell_type": "code",
   "execution_count": 105,
   "id": "bd868f41-2f27-4231-9f4c-fc65fe7e5157",
   "metadata": {},
   "outputs": [],
   "source": [
    "with open('new_links.txt', 'w', encoding='utf-8') as f:\n",
    "    for link in new_links:\n",
    "        f.write(\"%s\\n\" % link)"
   ]
  },
  {
   "cell_type": "code",
   "execution_count": 106,
   "id": "19831e93-941a-44a0-bcfd-8ab9272ce075",
   "metadata": {},
   "outputs": [],
   "source": [
    "all_links = catalog_links + new_links"
   ]
  },
  {
   "cell_type": "code",
   "execution_count": 107,
   "id": "4bb7626b-30e2-4288-9362-4bc79de3e13e",
   "metadata": {},
   "outputs": [
    {
     "data": {
      "text/plain": [
       "1011"
      ]
     },
     "execution_count": 107,
     "metadata": {},
     "output_type": "execute_result"
    }
   ],
   "source": [
    "len(all_links)"
   ]
  },
  {
   "cell_type": "code",
   "execution_count": 113,
   "id": "9b5eb492-3fb6-488d-ba98-4395b3e67962",
   "metadata": {},
   "outputs": [
    {
     "data": {
      "text/plain": [
       "'https://pop-music.ru/catalog/aksessuaryi/kabeli-mikrofonnyie/'"
      ]
     },
     "execution_count": 113,
     "metadata": {},
     "output_type": "execute_result"
    }
   ],
   "source": [
    "test = all_links[100]\n",
    "test"
   ]
  },
  {
   "cell_type": "code",
   "execution_count": 114,
   "id": "fe1ff2fa-e807-403c-84bd-8a21cc142d37",
   "metadata": {},
   "outputs": [],
   "source": [
    "product_links=set()"
   ]
  },
  {
   "cell_type": "code",
   "execution_count": 117,
   "id": "cec392c2-e7be-4442-9980-52a309c0a8f3",
   "metadata": {},
   "outputs": [
    {
     "name": "stderr",
     "output_type": "stream",
     "text": [
      "100%|██████████████████████████████████████████████████████████████████████████████| 1011/1011 [29:31<00:00,  1.75s/it]\n"
     ]
    }
   ],
   "source": [
    "# Собираем все товары с собранных страниц каталога\n",
    "product_links=set()\n",
    "\n",
    "for link in tqdm(all_links):\n",
    "    page_text = get_page_text(link, USER_AGENT)\n",
    "    soup_3 = BeautifulSoup(page_text)\n",
    "    products = soup_3.find_all('div', class_='products-grid__i')\n",
    "\n",
    "    for product in products:\n",
    "\n",
    "        product_link = product.find('a', class_='product-card__name')\n",
    "        if not product_link.has_attr('href'):\n",
    "            continue\n",
    "\n",
    "        product_link = product_link.attrs['href']    \n",
    "        product_link = clear_link(product_link)\n",
    "\n",
    "        if len(product_link) == 0:\n",
    "            continue \n",
    "\n",
    "        product_link = main_url + product_link\n",
    "\n",
    "        product_links.add(product_link)"
   ]
  },
  {
   "cell_type": "code",
   "execution_count": 118,
   "id": "8bef3ac1-9b70-4395-9cff-6b642cd60891",
   "metadata": {},
   "outputs": [
    {
     "data": {
      "text/plain": [
       "11717"
      ]
     },
     "execution_count": 118,
     "metadata": {},
     "output_type": "execute_result"
    }
   ],
   "source": [
    "len(product_links)"
   ]
  },
  {
   "cell_type": "code",
   "execution_count": 119,
   "id": "734c36c4-a1f9-4e0e-b798-c19a1952beed",
   "metadata": {},
   "outputs": [],
   "source": [
    "with open('product_links.txt', 'w', encoding='utf-8') as f:\n",
    "    for link in product_links:\n",
    "        f.write(\"%s\\n\" % link)"
   ]
  },
  {
   "cell_type": "code",
   "execution_count": 121,
   "id": "e75d4a5b-7cd4-4159-a929-7d89e3d2df97",
   "metadata": {},
   "outputs": [
    {
     "data": {
      "text/plain": [
       "['https://pop-music.ru/products/audiointerfeys-focusrite-clarett-4pre-888880029674/',\n",
       " 'https://pop-music.ru/products/klassicheskaya-gitara-stagg-25th-scl-maho-888880028463/',\n",
       " 'https://pop-music.ru/products/perehodnik-soundking-cxa004-888880021470/',\n",
       " 'https://pop-music.ru/products/plastik-evans-bd20gb4s-888880020015/',\n",
       " 'https://pop-music.ru/products/gitarnyy-kabel-soundking-bjj031-15ft/',\n",
       " 'https://pop-music.ru/products/bas-gitara-schecter-omen-5-blk-l-h-888880006652/',\n",
       " 'https://pop-music.ru/products/plastik-evans-b16uv1-888880025353/',\n",
       " 'https://pop-music.ru/products/akusticheskaya-gitara-stagg-sa20d-red-888880022374/',\n",
       " 'https://pop-music.ru/products/predusilitel-art-usbdualpre-888880000341/',\n",
       " 'https://pop-music.ru/products/top-lok-schaller-r1-art-13120701-888880011641/']"
      ]
     },
     "execution_count": 121,
     "metadata": {},
     "output_type": "execute_result"
    }
   ],
   "source": [
    "list(product_links)[:10]"
   ]
  },
  {
   "cell_type": "code",
   "execution_count": null,
   "id": "a842df14-be0a-49c6-9d4f-ba7df0f545d9",
   "metadata": {},
   "outputs": [],
   "source": []
  }
 ],
 "metadata": {
  "kernelspec": {
   "display_name": "Python 3",
   "language": "python",
   "name": "python3"
  },
  "language_info": {
   "codemirror_mode": {
    "name": "ipython",
    "version": 3
   },
   "file_extension": ".py",
   "mimetype": "text/x-python",
   "name": "python",
   "nbconvert_exporter": "python",
   "pygments_lexer": "ipython3",
   "version": "3.8.8"
  }
 },
 "nbformat": 4,
 "nbformat_minor": 5
}
