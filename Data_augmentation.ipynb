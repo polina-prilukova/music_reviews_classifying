{
 "cells": [
  {
   "cell_type": "markdown",
   "id": "3443ffca",
   "metadata": {},
   "source": [
    "В этом ноутбуке обогащаем исходный датасет данными из дополнительных источников"
   ]
  },
  {
   "cell_type": "code",
   "execution_count": 1,
   "id": "0dca97cf",
   "metadata": {},
   "outputs": [],
   "source": [
    "import pandas as pd\n",
    "import numpy as np\n",
    "import seaborn as sns \n",
    "\n",
    "from tqdm import tqdm"
   ]
  },
  {
   "cell_type": "code",
   "execution_count": 2,
   "id": "a4714d81",
   "metadata": {},
   "outputs": [],
   "source": [
    "df = pd.read_csv('Data/reviews.csv')\n",
    "df_mstore = pd.read_csv('Data/reviews_musicstore.csv')"
   ]
  },
  {
   "cell_type": "code",
   "execution_count": 3,
   "id": "9d69a25a",
   "metadata": {},
   "outputs": [
    {
     "name": "stdout",
     "output_type": "stream",
     "text": [
      "<class 'pandas.core.frame.DataFrame'>\n",
      "Int64Index: 733 entries, 23 to 6024\n",
      "Data columns (total 9 columns):\n",
      " #   Column        Non-Null Count  Dtype \n",
      "---  ------        --------------  ----- \n",
      " 0   Unnamed: 0    733 non-null    int64 \n",
      " 1   author        733 non-null    object\n",
      " 2   date          733 non-null    object\n",
      " 3   product_id    733 non-null    object\n",
      " 4   product_name  733 non-null    object\n",
      " 5   firm          733 non-null    object\n",
      " 6   rate          733 non-null    int64 \n",
      " 7   text          733 non-null    object\n",
      " 8   topic         733 non-null    object\n",
      "dtypes: int64(2), object(7)\n",
      "memory usage: 57.3+ KB\n"
     ]
    }
   ],
   "source": [
    "df_mstore_filtered = df_mstore[df_mstore.rate!=5]\n",
    "df_mstore_filtered.info()"
   ]
  },
  {
   "cell_type": "code",
   "execution_count": 4,
   "id": "585b7c98",
   "metadata": {},
   "outputs": [
    {
     "name": "stdout",
     "output_type": "stream",
     "text": [
      "<class 'pandas.core.frame.DataFrame'>\n",
      "RangeIndex: 11214 entries, 0 to 11213\n",
      "Data columns (total 7 columns):\n",
      " #   Column        Non-Null Count  Dtype \n",
      "---  ------        --------------  ----- \n",
      " 0   Unnamed: 0    11214 non-null  int64 \n",
      " 1   author        11209 non-null  object\n",
      " 2   date          11214 non-null  object\n",
      " 3   product_id    11214 non-null  int64 \n",
      " 4   product_name  11214 non-null  object\n",
      " 5   rate          11214 non-null  int64 \n",
      " 6   text          11213 non-null  object\n",
      "dtypes: int64(3), object(4)\n",
      "memory usage: 613.4+ KB\n"
     ]
    }
   ],
   "source": [
    "df.info()"
   ]
  },
  {
   "cell_type": "code",
   "execution_count": 5,
   "id": "075e8acc",
   "metadata": {},
   "outputs": [
    {
     "name": "stderr",
     "output_type": "stream",
     "text": [
      "C:\\Users\\Polina.DESKTOP-UGBOPLJ\\anaconda3\\lib\\site-packages\\pandas\\core\\frame.py:4308: SettingWithCopyWarning: \n",
      "A value is trying to be set on a copy of a slice from a DataFrame\n",
      "\n",
      "See the caveats in the documentation: https://pandas.pydata.org/pandas-docs/stable/user_guide/indexing.html#returning-a-view-versus-a-copy\n",
      "  return super().drop(\n"
     ]
    }
   ],
   "source": [
    "df.drop('Unnamed: 0', axis=1, inplace=True)\n",
    "df_mstore_filtered.drop(['Unnamed: 0', 'firm', 'topic'], axis=1, inplace=True)"
   ]
  },
  {
   "cell_type": "code",
   "execution_count": 6,
   "id": "52b6e149",
   "metadata": {},
   "outputs": [],
   "source": [
    "df_full = pd.concat([df, df_mstore_filtered])"
   ]
  },
  {
   "cell_type": "code",
   "execution_count": 7,
   "id": "b9d7e11a",
   "metadata": {},
   "outputs": [
    {
     "name": "stdout",
     "output_type": "stream",
     "text": [
      "<class 'pandas.core.frame.DataFrame'>\n",
      "Int64Index: 11947 entries, 0 to 6024\n",
      "Data columns (total 6 columns):\n",
      " #   Column        Non-Null Count  Dtype \n",
      "---  ------        --------------  ----- \n",
      " 0   author        11942 non-null  object\n",
      " 1   date          11947 non-null  object\n",
      " 2   product_id    11947 non-null  object\n",
      " 3   product_name  11947 non-null  object\n",
      " 4   rate          11947 non-null  int64 \n",
      " 5   text          11946 non-null  object\n",
      "dtypes: int64(1), object(5)\n",
      "memory usage: 653.4+ KB\n"
     ]
    }
   ],
   "source": [
    "df_full.info()"
   ]
  },
  {
   "cell_type": "code",
   "execution_count": 8,
   "id": "ffc644a3",
   "metadata": {},
   "outputs": [
    {
     "data": {
      "text/plain": [
       "author          5\n",
       "date            0\n",
       "product_id      0\n",
       "product_name    0\n",
       "rate            0\n",
       "text            1\n",
       "dtype: int64"
      ]
     },
     "execution_count": 8,
     "metadata": {},
     "output_type": "execute_result"
    }
   ],
   "source": [
    "df_full.isnull().sum()\n"
   ]
  },
  {
   "cell_type": "code",
   "execution_count": 9,
   "id": "48f86a02",
   "metadata": {},
   "outputs": [],
   "source": [
    "df_full['author'] = df_full['author'].fillna('неизвестен') "
   ]
  },
  {
   "cell_type": "code",
   "execution_count": 10,
   "id": "969bb1cf",
   "metadata": {},
   "outputs": [],
   "source": [
    "df_full = df_full.dropna()"
   ]
  },
  {
   "cell_type": "code",
   "execution_count": 11,
   "id": "f964c177",
   "metadata": {},
   "outputs": [],
   "source": [
    "df_full = df_full.drop_duplicates()"
   ]
  },
  {
   "cell_type": "code",
   "execution_count": 12,
   "id": "5bb8201c",
   "metadata": {},
   "outputs": [],
   "source": [
    "df_full.to_csv('Data/reviews_full_unprocessed.csv')"
   ]
  },
  {
   "cell_type": "code",
   "execution_count": 13,
   "id": "db4d053e",
   "metadata": {},
   "outputs": [
    {
     "data": {
      "text/plain": [
       "5    7859\n",
       "4    1381\n",
       "3     435\n",
       "0     186\n",
       "2     165\n",
       "1      87\n",
       "Name: rate, dtype: int64"
      ]
     },
     "execution_count": 13,
     "metadata": {},
     "output_type": "execute_result"
    }
   ],
   "source": [
    "df_full.rate.value_counts()"
   ]
  },
  {
   "cell_type": "code",
   "execution_count": 14,
   "id": "dd83a789",
   "metadata": {},
   "outputs": [
    {
     "name": "stdout",
     "output_type": "stream",
     "text": [
      "<class 'pandas.core.frame.DataFrame'>\n",
      "Int64Index: 10113 entries, 0 to 6024\n",
      "Data columns (total 6 columns):\n",
      " #   Column        Non-Null Count  Dtype \n",
      "---  ------        --------------  ----- \n",
      " 0   author        10113 non-null  object\n",
      " 1   date          10113 non-null  object\n",
      " 2   product_id    10113 non-null  object\n",
      " 3   product_name  10113 non-null  object\n",
      " 4   rate          10113 non-null  int64 \n",
      " 5   text          10113 non-null  object\n",
      "dtypes: int64(1), object(5)\n",
      "memory usage: 553.1+ KB\n"
     ]
    }
   ],
   "source": [
    "df_full.info()"
   ]
  },
  {
   "cell_type": "code",
   "execution_count": 15,
   "id": "85c6b6e9",
   "metadata": {},
   "outputs": [],
   "source": [
    "df_reviews = df_full[['text', 'rate']]"
   ]
  },
  {
   "cell_type": "code",
   "execution_count": 61,
   "id": "f32ccb91",
   "metadata": {},
   "outputs": [
    {
     "name": "stdout",
     "output_type": "stream",
     "text": [
      "Collecting mtranslate\n",
      "  Downloading mtranslate-1.8.tar.gz (2.4 kB)\n",
      "Building wheels for collected packages: mtranslate\n",
      "  Building wheel for mtranslate (setup.py): started\n",
      "  Building wheel for mtranslate (setup.py): finished with status 'done'\n",
      "  Created wheel for mtranslate: filename=mtranslate-1.8-py3-none-any.whl size=3698 sha256=f715d5807ccc7576d575bf577de84cd7fedfd3c146fe96f2757e039d844c0452\n",
      "  Stored in directory: c:\\users\\polina.desktop-ugboplj\\appdata\\local\\pip\\cache\\wheels\\99\\49\\c3\\b1e6cb0d8b908238238a086ad2d0f30d4a7c692957e6cea74b\n",
      "Successfully built mtranslate\n",
      "Installing collected packages: mtranslate\n",
      "Successfully installed mtranslate-1.8\n"
     ]
    }
   ],
   "source": [
    "!pip install mtranslate"
   ]
  },
  {
   "cell_type": "code",
   "execution_count": 62,
   "id": "78bac128",
   "metadata": {},
   "outputs": [],
   "source": [
    "from mtranslate import translate as translate_new"
   ]
  },
  {
   "cell_type": "markdown",
   "id": "3f790ef8",
   "metadata": {},
   "source": [
    "Идея в том, что после двойного перевода мы получим отзыв, несущий ту же смысловую нагрузку, но состоящий из других слов"
   ]
  },
  {
   "cell_type": "code",
   "execution_count": null,
   "id": "5710f869",
   "metadata": {},
   "outputs": [],
   "source": [
    "langs = [ 'es', 'pt', 'it', 'fr', 'ar', 'vi', 'ja', 'en']"
   ]
  },
  {
   "cell_type": "code",
   "execution_count": 68,
   "id": "6bd9feec",
   "metadata": {},
   "outputs": [],
   "source": [
    "def review_augmentator_new(phrase): # делает 2-ной перевод предложения и возвращает дубликат\n",
    "    langs = ['de', 'es', 'pt', 'it', 'fr', 'ar', 'vi', 'ja', 'en']\n",
    "    lang_sel = np.random.choice(langs)\n",
    "    from_ru = translate_new(phrase,lang_sel,\"auto\")\n",
    "    to_ru = translate_new(from_ru,'ru', 'auto')\n",
    "    return {'text': to_ru, 'lang': lang_sel} "
   ]
  },
  {
   "cell_type": "code",
   "execution_count": null,
   "id": "632e4fc9",
   "metadata": {},
   "outputs": [],
   "source": [
    "def review_augmentator(phrase): # делает 2-ной перевод предложения и возвращает дубликат\n",
    "    langs = ['de', 'es', 'pt', 'it', 'fr', 'ar', 'vi', 'ja', 'en']\n",
    "    lang_sel = np.random.choice(langs)\n",
    "    from_ru = GT().translate(phrase, src='ru', dest=lang_sel).text\n",
    "    to_ru = GT().translate(from_ru, src=lang_sel, dest='ru').text\n",
    "    return {'text': to_ru, 'lang': lang_sel} "
   ]
  },
  {
   "cell_type": "code",
   "execution_count": 74,
   "id": "1c40dbfd",
   "metadata": {},
   "outputs": [
    {
     "data": {
      "text/plain": [
       "'Успел купить один такой микрофон до повышения цен за 3300. Качеством очень доволен! Записываю на него Hi-Hat и иногда использую для вокала (для живых выступлений). Верхушка чистая, звонкая, середина ровная. В общем, в этом микрофоне сочетаются все качества конденсаторного, но наряду\\xa0\\xa0этим - чувствительность как у динамического. Встроенный поп-фильтр весьма эффективный. За свои деньги микрофон огонь!'"
      ]
     },
     "execution_count": 74,
     "metadata": {},
     "output_type": "execute_result"
    }
   ],
   "source": [
    "test = df_full.text[10]\n",
    "test"
   ]
  },
  {
   "cell_type": "code",
   "execution_count": 75,
   "id": "9e9f1ce0",
   "metadata": {},
   "outputs": [
    {
     "data": {
      "text/plain": [
       "'Купил такой микрофон до повышения цены до 3300. Качеством очень доволен! Я записываю на него хай-хэт и иногда использую его для вокала (для живых выступлений). Верх чистый, блестящий, середина ровная. В целом этот микрофон сочетает в себе все качества конденсаторного, но вместе с этим - чувствительность электродинамического устройства. Встроенный поп-фильтр очень эффективен. За свои деньги огонь микро!'"
      ]
     },
     "execution_count": 75,
     "metadata": {},
     "output_type": "execute_result"
    }
   ],
   "source": [
    "review_augmentator_new(test)['text']"
   ]
  },
  {
   "cell_type": "code",
   "execution_count": 71,
   "id": "54b24492",
   "metadata": {},
   "outputs": [],
   "source": [
    "def df_foreign_dublicator(df, y, types=None):\n",
    "    df = df.reset_index(drop=True)\n",
    "    y = y.reset_index(drop=True)\n",
    "    if not types:\n",
    "        types = y.unique()\n",
    "    for rtype in types:\n",
    "        rtype_indx_list = []\n",
    "        for i,el in enumerate(y):\n",
    "            if el == rtype:\n",
    "                rtype_indx_list.append(i)\n",
    "        iter_indx = tqdm(rtype_indx_list)\n",
    "        for i in iter_indx:\n",
    "            augmentator = review_augmentator_new(df[i])\n",
    "            iter_indx.set_description('type: \"{}\"; lang: \"ru-{}-ru\" '.format(rtype, augmentator['lang']), refresh=True)\n",
    "            df = df.append(pd.Series(augmentator['text']), ignore_index=True)\n",
    "            y = y.append(pd.Series(rtype), ignore_index=True)\n",
    "            \n",
    "    return (df, y)"
   ]
  },
  {
   "cell_type": "code",
   "execution_count": null,
   "id": "3b8b4e3f",
   "metadata": {},
   "outputs": [],
   "source": [
    "# X, y = df_foreign_dublicator(X, y, types=['bad', 'neutral'])\n",
    "# pd.concat([X, y], axis=1, ignore_index=True).to_csv('Data/after_augmentation.csv', index=False, header=['review_text', 'review_type'])"
   ]
  },
  {
   "cell_type": "code",
   "execution_count": 32,
   "id": "e517acc5",
   "metadata": {},
   "outputs": [],
   "source": [
    "for rtype in types:\n",
    "    rtype_indx_list = []\n",
    "    for i,el in enumerate(y):\n",
    "        if el == rtype:\n",
    "            rtype_indx_list.append(i)"
   ]
  },
  {
   "cell_type": "code",
   "execution_count": 76,
   "id": "bec7b90d",
   "metadata": {},
   "outputs": [
    {
     "name": "stderr",
     "output_type": "stream",
     "text": [
      "type: \"0\"; lang: \"ru-de-ru\" : 100%|██████████████████████████████████████████████████| 186/186 [02:45<00:00,  1.12it/s]\n",
      "type: \"1\"; lang: \"ru-ar-ru\" : 100%|████████████████████████████████████████████████████| 87/87 [01:20<00:00,  1.08it/s]\n",
      "type: \"2\"; lang: \"ru-it-ru\" : 100%|██████████████████████████████████████████████████| 165/165 [02:34<00:00,  1.07it/s]\n",
      "type: \"3\"; lang: \"ru-fr-ru\" : 100%|██████████████████████████████████████████████████| 435/435 [06:37<00:00,  1.10it/s]\n",
      "type: \"4\"; lang: \"ru-vi-ru\" : 100%|████████████████████████████████████████████████| 1381/1381 [20:33<00:00,  1.12it/s]\n"
     ]
    }
   ],
   "source": [
    "X, y = df_foreign_dublicator(df_reviews.text, df_reviews.rate, types=[0,1,2,3,4])"
   ]
  },
  {
   "cell_type": "code",
   "execution_count": 77,
   "id": "7ecfe519",
   "metadata": {},
   "outputs": [],
   "source": [
    "df_augmented = pd.concat([X, y], axis=1, ignore_index=True)\n",
    "df_augmented.columns = ['text', 'rate']"
   ]
  },
  {
   "cell_type": "code",
   "execution_count": 79,
   "id": "e18cd971",
   "metadata": {},
   "outputs": [
    {
     "data": {
      "text/html": [
       "<div>\n",
       "<style scoped>\n",
       "    .dataframe tbody tr th:only-of-type {\n",
       "        vertical-align: middle;\n",
       "    }\n",
       "\n",
       "    .dataframe tbody tr th {\n",
       "        vertical-align: top;\n",
       "    }\n",
       "\n",
       "    .dataframe thead th {\n",
       "        text-align: right;\n",
       "    }\n",
       "</style>\n",
       "<table border=\"1\" class=\"dataframe\">\n",
       "  <thead>\n",
       "    <tr style=\"text-align: right;\">\n",
       "      <th></th>\n",
       "      <th>text</th>\n",
       "      <th>rate</th>\n",
       "    </tr>\n",
       "  </thead>\n",
       "  <tbody>\n",
       "    <tr>\n",
       "      <th>12357</th>\n",
       "      <td>Купил в качестве запаски - цена была завышена....</td>\n",
       "      <td>4</td>\n",
       "    </tr>\n",
       "    <tr>\n",
       "      <th>12358</th>\n",
       "      <td>Хорошее соотношение цены и качества.</td>\n",
       "      <td>4</td>\n",
       "    </tr>\n",
       "    <tr>\n",
       "      <th>12359</th>\n",
       "      <td>Думаю, это был спонтанный ход, и мне этот моду...</td>\n",
       "      <td>4</td>\n",
       "    </tr>\n",
       "    <tr>\n",
       "      <th>12360</th>\n",
       "      <td>Большой красивый матовый рулон. Одна проблема,...</td>\n",
       "      <td>4</td>\n",
       "    </tr>\n",
       "    <tr>\n",
       "      <th>12361</th>\n",
       "      <td>Функция петли в сочетании с длинным затуханием...</td>\n",
       "      <td>4</td>\n",
       "    </tr>\n",
       "    <tr>\n",
       "      <th>12362</th>\n",
       "      <td>Заказал по ошибке, хотел подстаканник для микр...</td>\n",
       "      <td>4</td>\n",
       "    </tr>\n",
       "    <tr>\n",
       "      <th>12363</th>\n",
       "      <td>Я живу в России, эти частоты работают хорошо, ...</td>\n",
       "      <td>4</td>\n",
       "    </tr>\n",
       "    <tr>\n",
       "      <th>12364</th>\n",
       "      <td>Ты можешь взять это!</td>\n",
       "      <td>4</td>\n",
       "    </tr>\n",
       "    <tr>\n",
       "      <th>12365</th>\n",
       "      <td>Погнут кабель, но работает нормально</td>\n",
       "      <td>4</td>\n",
       "    </tr>\n",
       "    <tr>\n",
       "      <th>12366</th>\n",
       "      <td>За свою цену эти мониторы - небольшой подарок....</td>\n",
       "      <td>4</td>\n",
       "    </tr>\n",
       "  </tbody>\n",
       "</table>\n",
       "</div>"
      ],
      "text/plain": [
       "                                                    text  rate\n",
       "12357  Купил в качестве запаски - цена была завышена....     4\n",
       "12358               Хорошее соотношение цены и качества.     4\n",
       "12359  Думаю, это был спонтанный ход, и мне этот моду...     4\n",
       "12360  Большой красивый матовый рулон. Одна проблема,...     4\n",
       "12361  Функция петли в сочетании с длинным затуханием...     4\n",
       "12362  Заказал по ошибке, хотел подстаканник для микр...     4\n",
       "12363  Я живу в России, эти частоты работают хорошо, ...     4\n",
       "12364                               Ты можешь взять это!     4\n",
       "12365               Погнут кабель, но работает нормально     4\n",
       "12366  За свою цену эти мониторы - небольшой подарок....     4"
      ]
     },
     "execution_count": 79,
     "metadata": {},
     "output_type": "execute_result"
    }
   ],
   "source": [
    "df_augmented.tail(10)"
   ]
  },
  {
   "cell_type": "code",
   "execution_count": 80,
   "id": "50b59aa8",
   "metadata": {},
   "outputs": [
    {
     "data": {
      "text/plain": [
       "5    7859\n",
       "4    2762\n",
       "3     870\n",
       "0     372\n",
       "2     330\n",
       "1     174\n",
       "Name: rate, dtype: int64"
      ]
     },
     "execution_count": 80,
     "metadata": {},
     "output_type": "execute_result"
    }
   ],
   "source": [
    "df_augmented.rate.value_counts()"
   ]
  },
  {
   "cell_type": "code",
   "execution_count": 82,
   "id": "c2326b59",
   "metadata": {},
   "outputs": [],
   "source": [
    "df_augmented = df_augmented.drop_duplicates()"
   ]
  },
  {
   "cell_type": "code",
   "execution_count": 83,
   "id": "8c10c262",
   "metadata": {},
   "outputs": [
    {
     "data": {
      "text/plain": [
       "5    7791\n",
       "4    2696\n",
       "3     860\n",
       "0     366\n",
       "2     328\n",
       "1     174\n",
       "Name: rate, dtype: int64"
      ]
     },
     "execution_count": 83,
     "metadata": {},
     "output_type": "execute_result"
    }
   ],
   "source": [
    "df_augmented.rate.value_counts()"
   ]
  },
  {
   "cell_type": "code",
   "execution_count": 84,
   "id": "33e711ef",
   "metadata": {},
   "outputs": [],
   "source": [
    "df_augmented.to_csv('Data/after_augmentation.csv', index=False)"
   ]
  },
  {
   "cell_type": "code",
   "execution_count": 85,
   "id": "056b3f47",
   "metadata": {},
   "outputs": [],
   "source": [
    "df_eng = pd.read_csv('Data/Musical_instruments_reviews_Amazon.csv')"
   ]
  },
  {
   "cell_type": "code",
   "execution_count": 86,
   "id": "3427e16d",
   "metadata": {},
   "outputs": [
    {
     "data": {
      "text/html": [
       "<div>\n",
       "<style scoped>\n",
       "    .dataframe tbody tr th:only-of-type {\n",
       "        vertical-align: middle;\n",
       "    }\n",
       "\n",
       "    .dataframe tbody tr th {\n",
       "        vertical-align: top;\n",
       "    }\n",
       "\n",
       "    .dataframe thead th {\n",
       "        text-align: right;\n",
       "    }\n",
       "</style>\n",
       "<table border=\"1\" class=\"dataframe\">\n",
       "  <thead>\n",
       "    <tr style=\"text-align: right;\">\n",
       "      <th></th>\n",
       "      <th>reviewerID</th>\n",
       "      <th>asin</th>\n",
       "      <th>reviewerName</th>\n",
       "      <th>helpful</th>\n",
       "      <th>reviewText</th>\n",
       "      <th>overall</th>\n",
       "      <th>summary</th>\n",
       "      <th>unixReviewTime</th>\n",
       "      <th>reviewTime</th>\n",
       "    </tr>\n",
       "  </thead>\n",
       "  <tbody>\n",
       "    <tr>\n",
       "      <th>0</th>\n",
       "      <td>A2IBPI20UZIR0U</td>\n",
       "      <td>1384719342</td>\n",
       "      <td>cassandra tu \"Yeah, well, that's just like, u...</td>\n",
       "      <td>[0, 0]</td>\n",
       "      <td>Not much to write about here, but it does exac...</td>\n",
       "      <td>5.0</td>\n",
       "      <td>good</td>\n",
       "      <td>1393545600</td>\n",
       "      <td>02 28, 2014</td>\n",
       "    </tr>\n",
       "    <tr>\n",
       "      <th>1</th>\n",
       "      <td>A14VAT5EAX3D9S</td>\n",
       "      <td>1384719342</td>\n",
       "      <td>Jake</td>\n",
       "      <td>[13, 14]</td>\n",
       "      <td>The product does exactly as it should and is q...</td>\n",
       "      <td>5.0</td>\n",
       "      <td>Jake</td>\n",
       "      <td>1363392000</td>\n",
       "      <td>03 16, 2013</td>\n",
       "    </tr>\n",
       "    <tr>\n",
       "      <th>2</th>\n",
       "      <td>A195EZSQDW3E21</td>\n",
       "      <td>1384719342</td>\n",
       "      <td>Rick Bennette \"Rick Bennette\"</td>\n",
       "      <td>[1, 1]</td>\n",
       "      <td>The primary job of this device is to block the...</td>\n",
       "      <td>5.0</td>\n",
       "      <td>It Does The Job Well</td>\n",
       "      <td>1377648000</td>\n",
       "      <td>08 28, 2013</td>\n",
       "    </tr>\n",
       "    <tr>\n",
       "      <th>3</th>\n",
       "      <td>A2C00NNG1ZQQG2</td>\n",
       "      <td>1384719342</td>\n",
       "      <td>RustyBill \"Sunday Rocker\"</td>\n",
       "      <td>[0, 0]</td>\n",
       "      <td>Nice windscreen protects my MXL mic and preven...</td>\n",
       "      <td>5.0</td>\n",
       "      <td>GOOD WINDSCREEN FOR THE MONEY</td>\n",
       "      <td>1392336000</td>\n",
       "      <td>02 14, 2014</td>\n",
       "    </tr>\n",
       "    <tr>\n",
       "      <th>4</th>\n",
       "      <td>A94QU4C90B1AX</td>\n",
       "      <td>1384719342</td>\n",
       "      <td>SEAN MASLANKA</td>\n",
       "      <td>[0, 0]</td>\n",
       "      <td>This pop filter is great. It looks and perform...</td>\n",
       "      <td>5.0</td>\n",
       "      <td>No more pops when I record my vocals.</td>\n",
       "      <td>1392940800</td>\n",
       "      <td>02 21, 2014</td>\n",
       "    </tr>\n",
       "  </tbody>\n",
       "</table>\n",
       "</div>"
      ],
      "text/plain": [
       "       reviewerID        asin  \\\n",
       "0  A2IBPI20UZIR0U  1384719342   \n",
       "1  A14VAT5EAX3D9S  1384719342   \n",
       "2  A195EZSQDW3E21  1384719342   \n",
       "3  A2C00NNG1ZQQG2  1384719342   \n",
       "4   A94QU4C90B1AX  1384719342   \n",
       "\n",
       "                                       reviewerName   helpful  \\\n",
       "0  cassandra tu \"Yeah, well, that's just like, u...    [0, 0]   \n",
       "1                                              Jake  [13, 14]   \n",
       "2                     Rick Bennette \"Rick Bennette\"    [1, 1]   \n",
       "3                         RustyBill \"Sunday Rocker\"    [0, 0]   \n",
       "4                                     SEAN MASLANKA    [0, 0]   \n",
       "\n",
       "                                          reviewText  overall  \\\n",
       "0  Not much to write about here, but it does exac...      5.0   \n",
       "1  The product does exactly as it should and is q...      5.0   \n",
       "2  The primary job of this device is to block the...      5.0   \n",
       "3  Nice windscreen protects my MXL mic and preven...      5.0   \n",
       "4  This pop filter is great. It looks and perform...      5.0   \n",
       "\n",
       "                                 summary  unixReviewTime   reviewTime  \n",
       "0                                   good      1393545600  02 28, 2014  \n",
       "1                                   Jake      1363392000  03 16, 2013  \n",
       "2                   It Does The Job Well      1377648000  08 28, 2013  \n",
       "3          GOOD WINDSCREEN FOR THE MONEY      1392336000  02 14, 2014  \n",
       "4  No more pops when I record my vocals.      1392940800  02 21, 2014  "
      ]
     },
     "execution_count": 86,
     "metadata": {},
     "output_type": "execute_result"
    }
   ],
   "source": [
    "df_eng.head()"
   ]
  },
  {
   "cell_type": "code",
   "execution_count": 87,
   "id": "b1caa2ca",
   "metadata": {},
   "outputs": [],
   "source": [
    "df_eng = df_eng[['reviewText', 'overall']]"
   ]
  },
  {
   "cell_type": "code",
   "execution_count": 88,
   "id": "c41cfbbe",
   "metadata": {},
   "outputs": [],
   "source": [
    "df_eng = df_eng[df_eng.overall<5]"
   ]
  },
  {
   "cell_type": "code",
   "execution_count": 89,
   "id": "e8cf95d7",
   "metadata": {},
   "outputs": [],
   "source": [
    "df_eng = df_eng.dropna()"
   ]
  },
  {
   "cell_type": "code",
   "execution_count": 90,
   "id": "61787345",
   "metadata": {},
   "outputs": [
    {
     "data": {
      "text/plain": [
       "4.0    2083\n",
       "3.0     772\n",
       "2.0     250\n",
       "1.0     217\n",
       "Name: overall, dtype: int64"
      ]
     },
     "execution_count": 90,
     "metadata": {},
     "output_type": "execute_result"
    }
   ],
   "source": [
    "df_eng.overall.value_counts()"
   ]
  },
  {
   "cell_type": "code",
   "execution_count": 91,
   "id": "9d94a0c9",
   "metadata": {},
   "outputs": [],
   "source": [
    "def translate_to_ru(phrase):\n",
    "    return translate_new(phrase, 'ru', 'auto')"
   ]
  },
  {
   "cell_type": "code",
   "execution_count": 94,
   "id": "e827df9a",
   "metadata": {},
   "outputs": [
    {
     "data": {
      "text/plain": [
       "'Теперь я использую этот кабель для запуска от выхода'"
      ]
     },
     "execution_count": 94,
     "metadata": {},
     "output_type": "execute_result"
    }
   ],
   "source": [
    "translate_to_ru('I now use this cable to run from the output')"
   ]
  },
  {
   "cell_type": "code",
   "execution_count": 95,
   "id": "977086a1",
   "metadata": {},
   "outputs": [],
   "source": [
    "df_eng['text'] = df_eng.reviewText.apply(translate_to_ru)"
   ]
  },
  {
   "cell_type": "code",
   "execution_count": 96,
   "id": "8a1e8068",
   "metadata": {},
   "outputs": [
    {
     "data": {
      "text/html": [
       "<div>\n",
       "<style scoped>\n",
       "    .dataframe tbody tr th:only-of-type {\n",
       "        vertical-align: middle;\n",
       "    }\n",
       "\n",
       "    .dataframe tbody tr th {\n",
       "        vertical-align: top;\n",
       "    }\n",
       "\n",
       "    .dataframe thead th {\n",
       "        text-align: right;\n",
       "    }\n",
       "</style>\n",
       "<table border=\"1\" class=\"dataframe\">\n",
       "  <thead>\n",
       "    <tr style=\"text-align: right;\">\n",
       "      <th></th>\n",
       "      <th>reviewText</th>\n",
       "      <th>overall</th>\n",
       "      <th>text</th>\n",
       "    </tr>\n",
       "  </thead>\n",
       "  <tbody>\n",
       "    <tr>\n",
       "      <th>7</th>\n",
       "      <td>I now use this cable to run from the output of...</td>\n",
       "      <td>3.0</td>\n",
       "      <td>Теперь я использую этот кабель для перехода от...</td>\n",
       "    </tr>\n",
       "    <tr>\n",
       "      <th>11</th>\n",
       "      <td>I got it to have it if I needed it. I have fou...</td>\n",
       "      <td>4.0</td>\n",
       "      <td>Я получил его, если мне это нужно. Я обнаружил...</td>\n",
       "    </tr>\n",
       "    <tr>\n",
       "      <th>12</th>\n",
       "      <td>If you are not use to using a large sustaining...</td>\n",
       "      <td>3.0</td>\n",
       "      <td>Если вы не привыкли использовать большую педал...</td>\n",
       "    </tr>\n",
       "    <tr>\n",
       "      <th>15</th>\n",
       "      <td>I bought this to use with my keyboard. I wasn'...</td>\n",
       "      <td>2.0</td>\n",
       "      <td>Я купил это, чтобы использовать со своей клави...</td>\n",
       "    </tr>\n",
       "    <tr>\n",
       "      <th>16</th>\n",
       "      <td>This Fender cable is the perfect length for me...</td>\n",
       "      <td>4.0</td>\n",
       "      <td>Этот кабель Fender - идеальная длина для меня!...</td>\n",
       "    </tr>\n",
       "  </tbody>\n",
       "</table>\n",
       "</div>"
      ],
      "text/plain": [
       "                                           reviewText  overall  \\\n",
       "7   I now use this cable to run from the output of...      3.0   \n",
       "11  I got it to have it if I needed it. I have fou...      4.0   \n",
       "12  If you are not use to using a large sustaining...      3.0   \n",
       "15  I bought this to use with my keyboard. I wasn'...      2.0   \n",
       "16  This Fender cable is the perfect length for me...      4.0   \n",
       "\n",
       "                                                 text  \n",
       "7   Теперь я использую этот кабель для перехода от...  \n",
       "11  Я получил его, если мне это нужно. Я обнаружил...  \n",
       "12  Если вы не привыкли использовать большую педал...  \n",
       "15  Я купил это, чтобы использовать со своей клави...  \n",
       "16  Этот кабель Fender - идеальная длина для меня!...  "
      ]
     },
     "execution_count": 96,
     "metadata": {},
     "output_type": "execute_result"
    }
   ],
   "source": [
    "df_eng.head()"
   ]
  },
  {
   "cell_type": "code",
   "execution_count": 97,
   "id": "66a0b039",
   "metadata": {},
   "outputs": [
    {
     "data": {
      "text/html": [
       "<div>\n",
       "<style scoped>\n",
       "    .dataframe tbody tr th:only-of-type {\n",
       "        vertical-align: middle;\n",
       "    }\n",
       "\n",
       "    .dataframe tbody tr th {\n",
       "        vertical-align: top;\n",
       "    }\n",
       "\n",
       "    .dataframe thead th {\n",
       "        text-align: right;\n",
       "    }\n",
       "</style>\n",
       "<table border=\"1\" class=\"dataframe\">\n",
       "  <thead>\n",
       "    <tr style=\"text-align: right;\">\n",
       "      <th></th>\n",
       "      <th>text</th>\n",
       "      <th>rate</th>\n",
       "    </tr>\n",
       "  </thead>\n",
       "  <tbody>\n",
       "    <tr>\n",
       "      <th>7</th>\n",
       "      <td>Теперь я использую этот кабель для перехода от...</td>\n",
       "      <td>3.0</td>\n",
       "    </tr>\n",
       "    <tr>\n",
       "      <th>11</th>\n",
       "      <td>Я получил его, если мне это нужно. Я обнаружил...</td>\n",
       "      <td>4.0</td>\n",
       "    </tr>\n",
       "    <tr>\n",
       "      <th>12</th>\n",
       "      <td>Если вы не привыкли использовать большую педал...</td>\n",
       "      <td>3.0</td>\n",
       "    </tr>\n",
       "    <tr>\n",
       "      <th>15</th>\n",
       "      <td>Я купил это, чтобы использовать со своей клави...</td>\n",
       "      <td>2.0</td>\n",
       "    </tr>\n",
       "    <tr>\n",
       "      <th>16</th>\n",
       "      <td>Этот кабель Fender - идеальная длина для меня!...</td>\n",
       "      <td>4.0</td>\n",
       "    </tr>\n",
       "  </tbody>\n",
       "</table>\n",
       "</div>"
      ],
      "text/plain": [
       "                                                 text  rate\n",
       "7   Теперь я использую этот кабель для перехода от...   3.0\n",
       "11  Я получил его, если мне это нужно. Я обнаружил...   4.0\n",
       "12  Если вы не привыкли использовать большую педал...   3.0\n",
       "15  Я купил это, чтобы использовать со своей клави...   2.0\n",
       "16  Этот кабель Fender - идеальная длина для меня!...   4.0"
      ]
     },
     "execution_count": 97,
     "metadata": {},
     "output_type": "execute_result"
    }
   ],
   "source": [
    "df_eng = df_eng[['text', 'overall']]\n",
    "df_eng.columns = ['text', 'rate']\n",
    "df_eng.head()"
   ]
  },
  {
   "cell_type": "code",
   "execution_count": 98,
   "id": "5dc15766",
   "metadata": {},
   "outputs": [
    {
     "data": {
      "text/html": [
       "<div>\n",
       "<style scoped>\n",
       "    .dataframe tbody tr th:only-of-type {\n",
       "        vertical-align: middle;\n",
       "    }\n",
       "\n",
       "    .dataframe tbody tr th {\n",
       "        vertical-align: top;\n",
       "    }\n",
       "\n",
       "    .dataframe thead th {\n",
       "        text-align: right;\n",
       "    }\n",
       "</style>\n",
       "<table border=\"1\" class=\"dataframe\">\n",
       "  <thead>\n",
       "    <tr style=\"text-align: right;\">\n",
       "      <th></th>\n",
       "      <th>text</th>\n",
       "      <th>rate</th>\n",
       "    </tr>\n",
       "  </thead>\n",
       "  <tbody>\n",
       "    <tr>\n",
       "      <th>7</th>\n",
       "      <td>Теперь я использую этот кабель для перехода от...</td>\n",
       "      <td>3</td>\n",
       "    </tr>\n",
       "    <tr>\n",
       "      <th>11</th>\n",
       "      <td>Я получил его, если мне это нужно. Я обнаружил...</td>\n",
       "      <td>4</td>\n",
       "    </tr>\n",
       "    <tr>\n",
       "      <th>12</th>\n",
       "      <td>Если вы не привыкли использовать большую педал...</td>\n",
       "      <td>3</td>\n",
       "    </tr>\n",
       "    <tr>\n",
       "      <th>15</th>\n",
       "      <td>Я купил это, чтобы использовать со своей клави...</td>\n",
       "      <td>2</td>\n",
       "    </tr>\n",
       "    <tr>\n",
       "      <th>16</th>\n",
       "      <td>Этот кабель Fender - идеальная длина для меня!...</td>\n",
       "      <td>4</td>\n",
       "    </tr>\n",
       "  </tbody>\n",
       "</table>\n",
       "</div>"
      ],
      "text/plain": [
       "                                                 text  rate\n",
       "7   Теперь я использую этот кабель для перехода от...     3\n",
       "11  Я получил его, если мне это нужно. Я обнаружил...     4\n",
       "12  Если вы не привыкли использовать большую педал...     3\n",
       "15  Я купил это, чтобы использовать со своей клави...     2\n",
       "16  Этот кабель Fender - идеальная длина для меня!...     4"
      ]
     },
     "execution_count": 98,
     "metadata": {},
     "output_type": "execute_result"
    }
   ],
   "source": [
    "df_eng['rate'] = df_eng['rate'].astype(int)\n",
    "df_eng.head()"
   ]
  },
  {
   "cell_type": "code",
   "execution_count": 99,
   "id": "dac0c44b",
   "metadata": {},
   "outputs": [],
   "source": [
    "df_new = pd.concat([df_augmented, df_eng])"
   ]
  },
  {
   "cell_type": "code",
   "execution_count": 100,
   "id": "41a730da",
   "metadata": {},
   "outputs": [
    {
     "data": {
      "text/plain": [
       "5    7791\n",
       "4    4779\n",
       "3    1632\n",
       "2     578\n",
       "1     391\n",
       "0     366\n",
       "Name: rate, dtype: int64"
      ]
     },
     "execution_count": 100,
     "metadata": {},
     "output_type": "execute_result"
    }
   ],
   "source": [
    "df_new.rate.value_counts()"
   ]
  },
  {
   "cell_type": "code",
   "execution_count": 102,
   "id": "bcff494b",
   "metadata": {},
   "outputs": [],
   "source": [
    "df_new = df_new.drop_duplicates()"
   ]
  },
  {
   "cell_type": "code",
   "execution_count": 103,
   "id": "2bb4f729",
   "metadata": {},
   "outputs": [
    {
     "data": {
      "text/plain": [
       "5    7791\n",
       "4    4778\n",
       "3    1630\n",
       "2     577\n",
       "1     391\n",
       "0     366\n",
       "Name: rate, dtype: int64"
      ]
     },
     "execution_count": 103,
     "metadata": {},
     "output_type": "execute_result"
    }
   ],
   "source": [
    "df_new.rate.value_counts()"
   ]
  },
  {
   "cell_type": "code",
   "execution_count": 104,
   "id": "ef4b8f6d",
   "metadata": {},
   "outputs": [],
   "source": [
    "df_new.to_csv('Data/after_aug_full.csv', index=False)"
   ]
  },
  {
   "cell_type": "code",
   "execution_count": null,
   "id": "95f630ad",
   "metadata": {},
   "outputs": [],
   "source": []
  }
 ],
 "metadata": {
  "kernelspec": {
   "display_name": "Python 3",
   "language": "python",
   "name": "python3"
  },
  "language_info": {
   "codemirror_mode": {
    "name": "ipython",
    "version": 3
   },
   "file_extension": ".py",
   "mimetype": "text/x-python",
   "name": "python",
   "nbconvert_exporter": "python",
   "pygments_lexer": "ipython3",
   "version": "3.8.8"
  }
 },
 "nbformat": 4,
 "nbformat_minor": 5
}
